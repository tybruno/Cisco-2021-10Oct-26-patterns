{
 "cells": [
  {
   "cell_type": "markdown",
   "metadata": {},
   "source": [
    "# Agenda\n",
    "\n",
    "1. What are design patterns?\n",
    "2. Refresher on Python objects\n",
    "    - Relationships among objects\n",
    "    - Inheritance\n",
    "    - Composition\n",
    "3. Design pattern categories\n",
    "    - Behavioral\n",
    "    - Structural \n",
    "    - Creational    "
   ]
  },
  {
   "cell_type": "markdown",
   "metadata": {},
   "source": [
    "# What are design patterns?\n",
    "\n",
    "All of computer science is about *abstraction*.\n",
    "\n",
    "- I can take several actions, and wrap them up into a function. \n",
    "- I can take several pieces of data, and wrap them up into a new data structure.\n",
    "\n",
    "Design patterns allow us to apply the principle of abstraction to relationships among objects -- actually, patterns of relationships among objects.  If we see the same relationship in multiple programs, then we can give that relationship a name, and then use it to reason about that relationship in future programs.\n",
    "\n",
    "Patterns are about objects and classes, and how we can use them together to solve bigger and more interesting problems. But more importantly, so that we can **communicate** with other people on our team (and elsewhere) about these relationships.\n",
    "\n",
    "GoF (\"Gang of Four\") book called \"Design Patterns.\" "
   ]
  },
  {
   "cell_type": "markdown",
   "metadata": {},
   "source": [
    " # Object relationships\n",
    " \n",
    " - Composition -- one object owns another, or belongs to another.  This is super common in Python, expressed as having an attribute. The object `a` might have an attribute `b`, which we express as `a.b`.  This is composition, with `b` belonging to `a` or (if you prefer) `a` owning `b`.  This is known in the object trade as having a \"has-a\" relationship.  Person has-a name. Car has-a engine size. Book has-a author. Apple has-a price.\n",
    " - Inheritance -- this relationship means that one class is just like another class, with some exceptions. We can express this with the \"is-a\" relationship. The Child class inherits from the Parent class. The Car class inherits from the Vehicle class. We do this because cars are more specific than generic vehicles, but can still get some functionality (data and/or methods) from vehicles.\n",
    " \n",
    " Design patterns are built out of these two relationships.  \n",
    " "
   ]
  },
  {
   "cell_type": "code",
   "execution_count": 1,
   "metadata": {},
   "outputs": [],
   "source": [
    "class Person:\n",
    "    def __init__(self, name):\n",
    "        self.name = name       # composition! Person has-a name\n",
    "        \n",
    "p1 = Person('name1')        \n",
    "p2 = Person('name2')\n",
    "p3 = Person('name3')"
   ]
  },
  {
   "cell_type": "code",
   "execution_count": 2,
   "metadata": {},
   "outputs": [
    {
     "data": {
      "text/plain": [
       "'name1'"
      ]
     },
     "execution_count": 2,
     "metadata": {},
     "output_type": "execute_result"
    }
   ],
   "source": [
    "p1.name"
   ]
  },
  {
   "cell_type": "code",
   "execution_count": 3,
   "metadata": {},
   "outputs": [
    {
     "data": {
      "text/plain": [
       "'name2'"
      ]
     },
     "execution_count": 3,
     "metadata": {},
     "output_type": "execute_result"
    }
   ],
   "source": [
    "p2.name"
   ]
  },
  {
   "cell_type": "code",
   "execution_count": 4,
   "metadata": {},
   "outputs": [
    {
     "data": {
      "text/plain": [
       "'name3'"
      ]
     },
     "execution_count": 4,
     "metadata": {},
     "output_type": "execute_result"
    }
   ],
   "source": [
    "p3.name"
   ]
  },
  {
   "cell_type": "code",
   "execution_count": 5,
   "metadata": {},
   "outputs": [],
   "source": [
    "# Let's say that I want to have an Employee class \n",
    "# Employees are just like people, except that they also have an id_number attribute\n",
    "\n",
    "class Employee:\n",
    "    def __init__(self, name, id_number):\n",
    "        self.name = name       # composition! Person has-a name\n",
    "        self.id_number = id_number\n",
    "        \n",
    "e1 = Employee('emp1', 1)        \n",
    "e2 = Employee('emp2', 2)\n",
    "e3 = Employee('emp3', 3)"
   ]
  },
  {
   "cell_type": "code",
   "execution_count": 6,
   "metadata": {},
   "outputs": [
    {
     "data": {
      "text/plain": [
       "'emp1'"
      ]
     },
     "execution_count": 6,
     "metadata": {},
     "output_type": "execute_result"
    }
   ],
   "source": [
    "e1.name"
   ]
  },
  {
   "cell_type": "code",
   "execution_count": 7,
   "metadata": {},
   "outputs": [
    {
     "data": {
      "text/plain": [
       "1"
      ]
     },
     "execution_count": 7,
     "metadata": {},
     "output_type": "execute_result"
    }
   ],
   "source": [
    "e1.id_number"
   ]
  },
  {
   "cell_type": "code",
   "execution_count": 12,
   "metadata": {},
   "outputs": [
    {
     "name": "stdout",
     "output_type": "stream",
     "text": [
      "Hello, name1!\n",
      "Hello, name2!\n",
      "Hello, emp1!\n",
      "Hello, emp2!\n"
     ]
    }
   ],
   "source": [
    "class Person:\n",
    "    def __init__(self, name):\n",
    "        self.name = name       # composition! Person has-a name\n",
    "        \n",
    "    def greet(self):\n",
    "        return f'Hello, {self.name}!'\n",
    "        \n",
    "p1 = Person('name1')        \n",
    "p2 = Person('name2')\n",
    "p3 = Person('name3')\n",
    "\n",
    "print(p1.greet())\n",
    "print(p2.greet())\n",
    "\n",
    "\n",
    "class Employee(Person):   # Employee is-a Person, because we inherit from Person\n",
    "    def __init__(self, name, id_number):\n",
    "        super().__init__(name)      # ask the superclass (Person) to assign to self.name\n",
    "        self.id_number = id_number  \n",
    "        \n",
    "e1 = Employee('emp1', 1)        \n",
    "e2 = Employee('emp2', 2)\n",
    "e3 = Employee('emp3', 3)\n",
    "\n",
    "print(e1.greet()) # inheritance provides this -- ICPO rule (instance, class, parents, object)\n",
    "print(e2.greet())"
   ]
  },
  {
   "cell_type": "code",
   "execution_count": 14,
   "metadata": {},
   "outputs": [
    {
     "data": {
      "text/plain": [
       "{'name': 'name1'}"
      ]
     },
     "execution_count": 14,
     "metadata": {},
     "output_type": "execute_result"
    }
   ],
   "source": [
    "vars(p1)"
   ]
  },
  {
   "cell_type": "code",
   "execution_count": 16,
   "metadata": {},
   "outputs": [
    {
     "data": {
      "text/plain": [
       "{'name': 'emp1', 'id_number': 1}"
      ]
     },
     "execution_count": 16,
     "metadata": {},
     "output_type": "execute_result"
    }
   ],
   "source": [
    "vars(e1)"
   ]
  },
  {
   "cell_type": "markdown",
   "metadata": {},
   "source": [
    "# Behavioral: Iterator\n",
    "\n",
    "The Iterator design pattern ensures that objects will all be able to run in a `for` loop. \n",
    "\n",
    "How does a `for` loop work in Python?\n",
    "\n",
    "1. `for` turns to the object at the end of the line, and asks if it is iterable:\n",
    "    - If yes, then `for` asks for the iterator object back\n",
    "    - If no, then the program ends with a `Type error`\n",
    "2. With the iterator object in place, we can then ask it for its next value.\n",
    "3. When all of the values are done, we get a `StopIteration` exception."
   ]
  },
  {
   "cell_type": "code",
   "execution_count": 17,
   "metadata": {},
   "outputs": [
    {
     "name": "stdout",
     "output_type": "stream",
     "text": [
      "a\n",
      "b\n",
      "c\n",
      "d\n"
     ]
    }
   ],
   "source": [
    "for one_item in 'abcd':\n",
    "    print(one_item)"
   ]
  },
  {
   "cell_type": "code",
   "execution_count": 20,
   "metadata": {},
   "outputs": [],
   "source": [
    "# ask the object if it's iterable with \"iter\"\n",
    "s = 'abcd'\n",
    "i = iter(s)"
   ]
  },
  {
   "cell_type": "code",
   "execution_count": 19,
   "metadata": {},
   "outputs": [
    {
     "ename": "TypeError",
     "evalue": "'int' object is not iterable",
     "output_type": "error",
     "traceback": [
      "\u001b[0;31m---------------------------------------------------------------------------\u001b[0m",
      "\u001b[0;31mTypeError\u001b[0m                                 Traceback (most recent call last)",
      "\u001b[0;32m/var/folders/rr/0mnyyv811fs5vyp22gf4fxk00000gn/T/ipykernel_60932/3099153963.py\u001b[0m in \u001b[0;36m<module>\u001b[0;34m\u001b[0m\n\u001b[0;32m----> 1\u001b[0;31m \u001b[0miter\u001b[0m\u001b[0;34m(\u001b[0m\u001b[0;36m3\u001b[0m\u001b[0;34m)\u001b[0m\u001b[0;34m\u001b[0m\u001b[0;34m\u001b[0m\u001b[0m\n\u001b[0m",
      "\u001b[0;31mTypeError\u001b[0m: 'int' object is not iterable"
     ]
    }
   ],
   "source": [
    "iter(3)"
   ]
  },
  {
   "cell_type": "code",
   "execution_count": 21,
   "metadata": {},
   "outputs": [
    {
     "name": "stdout",
     "output_type": "stream",
     "text": [
      "a\n"
     ]
    }
   ],
   "source": [
    "# ask, repeatedly for the next item\n",
    "\n",
    "print(next(i))"
   ]
  },
  {
   "cell_type": "code",
   "execution_count": 22,
   "metadata": {},
   "outputs": [
    {
     "name": "stdout",
     "output_type": "stream",
     "text": [
      "b\n"
     ]
    }
   ],
   "source": [
    "print(next(i))"
   ]
  },
  {
   "cell_type": "code",
   "execution_count": 23,
   "metadata": {},
   "outputs": [
    {
     "name": "stdout",
     "output_type": "stream",
     "text": [
      "c\n"
     ]
    }
   ],
   "source": [
    "print(next(i))"
   ]
  },
  {
   "cell_type": "code",
   "execution_count": 24,
   "metadata": {},
   "outputs": [
    {
     "name": "stdout",
     "output_type": "stream",
     "text": [
      "d\n"
     ]
    }
   ],
   "source": [
    "print(next(i))"
   ]
  },
  {
   "cell_type": "code",
   "execution_count": 25,
   "metadata": {},
   "outputs": [
    {
     "ename": "StopIteration",
     "evalue": "",
     "output_type": "error",
     "traceback": [
      "\u001b[0;31m---------------------------------------------------------------------------\u001b[0m",
      "\u001b[0;31mStopIteration\u001b[0m                             Traceback (most recent call last)",
      "\u001b[0;32m/var/folders/rr/0mnyyv811fs5vyp22gf4fxk00000gn/T/ipykernel_60932/3021917106.py\u001b[0m in \u001b[0;36m<module>\u001b[0;34m\u001b[0m\n\u001b[0;32m----> 1\u001b[0;31m \u001b[0mprint\u001b[0m\u001b[0;34m(\u001b[0m\u001b[0mnext\u001b[0m\u001b[0;34m(\u001b[0m\u001b[0mi\u001b[0m\u001b[0;34m)\u001b[0m\u001b[0;34m)\u001b[0m\u001b[0;34m\u001b[0m\u001b[0;34m\u001b[0m\u001b[0m\n\u001b[0m",
      "\u001b[0;31mStopIteration\u001b[0m: "
     ]
    }
   ],
   "source": [
    "print(next(i))"
   ]
  },
  {
   "cell_type": "markdown",
   "metadata": {},
   "source": [
    "# Python iterator protocol\n",
    "\n",
    "1. Ask the object if it's iterable with `iter`.\n",
    "2. If so, then we get its iterator back.\n",
    "3. Ask the iterator, repeatedly, for `next`.\n",
    "4. When we are on the verge of `StopIteration`, then stop.\n"
   ]
  },
  {
   "cell_type": "code",
   "execution_count": 28,
   "metadata": {},
   "outputs": [
    {
     "name": "stdout",
     "output_type": "stream",
     "text": [
      "[LoudIterator] now in __init__\n",
      "[LoudIterator] Now in __iter__\n",
      "[LoudIterator] now in __next__\n",
      "a\n",
      "[LoudIterator] now in __next__\n",
      "b\n",
      "[LoudIterator] now in __next__\n",
      "c\n",
      "[LoudIterator] now in __next__\n",
      "d\n",
      "[LoudIterator] now in __next__\n",
      "[StopIteration] now exiting...\n"
     ]
    }
   ],
   "source": [
    "class LoudIterator:\n",
    "    def __init__(self, data):\n",
    "        print(f'[LoudIterator] now in __init__')\n",
    "        self.data = data\n",
    "        self.index = 0\n",
    "        \n",
    "    def __iter__(self):   # this is invoked when the `for` loop asks if we're iterable\n",
    "        print(f'[LoudIterator] Now in __iter__')\n",
    "        return self\n",
    "    \n",
    "    def __next__(self):   # this is invoked every time `for` asks for the next value\n",
    "        print(f'[LoudIterator] now in __next__')\n",
    "        if self.index >= len(self.data):\n",
    "            print(f'[StopIteration] now exiting...')\n",
    "            raise StopIteration\n",
    "            \n",
    "        value = self.data[self.index]\n",
    "        self.index += 1\n",
    "        return value\n",
    "        \n",
    "li = LoudIterator('abcd')\n",
    "\n",
    "for one_item in li:\n",
    "    print(one_item)"
   ]
  },
  {
   "cell_type": "code",
   "execution_count": 29,
   "metadata": {},
   "outputs": [
    {
     "name": "stdout",
     "output_type": "stream",
     "text": [
      "[LoudIterator] now in __init__\n",
      "**** A ****\n",
      "[LoudIterator] Now in __iter__\n",
      "[LoudIterator] now in __next__\n",
      "a\n",
      "[LoudIterator] now in __next__\n",
      "b\n",
      "[LoudIterator] now in __next__\n",
      "c\n",
      "[LoudIterator] now in __next__\n",
      "d\n",
      "[LoudIterator] now in __next__\n",
      "[StopIteration] now exiting...\n",
      "**** B ****\n",
      "[LoudIterator] Now in __iter__\n",
      "[LoudIterator] now in __next__\n",
      "[StopIteration] now exiting...\n"
     ]
    }
   ],
   "source": [
    "li = LoudIterator('abcd')\n",
    "\n",
    "print('**** A ****')        \n",
    "for one_item in li:\n",
    "    print(one_item)\n",
    "\n",
    "print('**** B ****')        \n",
    "for one_item in li:\n",
    "    print(one_item)"
   ]
  },
  {
   "cell_type": "code",
   "execution_count": 31,
   "metadata": {},
   "outputs": [
    {
     "name": "stdout",
     "output_type": "stream",
     "text": [
      "[LoudIterator] now in __init__\n",
      "[LoudIterator] Now in __iter__\n",
      "[LoudIterator] now in __next__\n",
      "a\n",
      "[LoudIterator] now in __next__\n",
      "b\n",
      "[LoudIterator] now in __next__\n",
      "c\n",
      "[LoudIterator] now in __next__\n",
      "d\n",
      "[LoudIterator] now in __next__\n",
      "[StopIteration] now exiting...\n",
      "[LoudIterator] Now in __iter__\n",
      "[LoudIterator] now in __next__\n",
      "a\n",
      "[LoudIterator] now in __next__\n",
      "b\n",
      "[LoudIterator] now in __next__\n",
      "c\n",
      "[LoudIterator] now in __next__\n",
      "d\n",
      "[LoudIterator] now in __next__\n",
      "[StopIteration] now exiting...\n"
     ]
    }
   ],
   "source": [
    "class LoudIterator:\n",
    "    def __init__(self, data):\n",
    "        print(f'[LoudIterator] now in __init__')\n",
    "        self.data = data\n",
    "        self.index = 0\n",
    "        \n",
    "    def __iter__(self):   # this is invoked when the `for` loop asks if we're iterable\n",
    "        self.index = 0\n",
    "        print(f'[LoudIterator] Now in __iter__')\n",
    "        return self\n",
    "    \n",
    "    def __next__(self):   # this is invoked every time `for` asks for the next value\n",
    "        print(f'[LoudIterator] now in __next__')\n",
    "        if self.index >= len(self.data):\n",
    "            print(f'[StopIteration] now exiting...')\n",
    "            raise StopIteration\n",
    "            \n",
    "        value = self.data[self.index]\n",
    "        self.index += 1\n",
    "        return value\n",
    "        \n",
    "li = LoudIterator('abcd')\n",
    "\n",
    "for one_item in li:\n",
    "    print(one_item)\n",
    "for one_item in li:\n",
    "    print(one_item)    "
   ]
  },
  {
   "cell_type": "code",
   "execution_count": 33,
   "metadata": {},
   "outputs": [
    {
     "name": "stdout",
     "output_type": "stream",
     "text": [
      "[LoudIterator] now in __init__\n",
      "[LoudIterator] Now in __iter__\n",
      "[LoudIteratorHelper] now in __init__\n",
      "[LoudIteratorHelper] now in __next__\n",
      "a\n",
      "[LoudIteratorHelper] now in __next__\n",
      "b\n",
      "[LoudIteratorHelper] now in __next__\n",
      "c\n",
      "[LoudIteratorHelper] now in __next__\n",
      "d\n",
      "[LoudIteratorHelper] now in __next__\n",
      "[StopIteration] now exiting...\n",
      "[LoudIterator] Now in __iter__\n",
      "[LoudIteratorHelper] now in __init__\n",
      "[LoudIteratorHelper] now in __next__\n",
      "a\n",
      "[LoudIteratorHelper] now in __next__\n",
      "b\n",
      "[LoudIteratorHelper] now in __next__\n",
      "c\n",
      "[LoudIteratorHelper] now in __next__\n",
      "d\n",
      "[LoudIteratorHelper] now in __next__\n",
      "[StopIteration] now exiting...\n"
     ]
    }
   ],
   "source": [
    "class LoudIteratorHelper:  # iterator\n",
    "    def __init__(self, data):\n",
    "        print(f'[LoudIteratorHelper] now in __init__')\n",
    "        self.data = data\n",
    "        self.index = 0\n",
    "\n",
    "    def __next__(self):   # this is invoked every time `for` asks for the next value\n",
    "        print(f'[LoudIteratorHelper] now in __next__')\n",
    "        if self.index >= len(self.data):\n",
    "            print(f'[StopIteration] now exiting...')\n",
    "            raise StopIteration\n",
    "            \n",
    "        value = self.data[self.index]\n",
    "        self.index += 1\n",
    "        return value\n",
    "    \n",
    "\n",
    "class LoudIterator:   # iterable\n",
    "    def __init__(self, data):\n",
    "        print(f'[LoudIterator] now in __init__')\n",
    "        self.data = data\n",
    "        \n",
    "    def __iter__(self):   # this is invoked when the `for` loop asks if we're iterable\n",
    "        print(f'[LoudIterator] Now in __iter__')\n",
    "        return LoudIteratorHelper(self.data)\n",
    "    \n",
    "        \n",
    "li = LoudIterator('abcd')\n",
    "\n",
    "for one_item in li:\n",
    "    print(one_item)\n",
    "for one_item in li:\n",
    "    print(one_item)    "
   ]
  },
  {
   "cell_type": "markdown",
   "metadata": {},
   "source": [
    "# Exercise: Circle\n",
    "\n",
    "1. Define a class, `Circle`, which takes two arguments:\n",
    "    - An iterable (string, list, tuple) called `data` \n",
    "    - An integer, `maxtimes`\n",
    "2. When someone iterates over an instance of `Circle`, we will get `maxtimes` elements back.\n",
    "3. If `maxtimes` is too big for `data`, then we should circle back to the start of `data` as necessary.\n",
    "4. Implement this with the two-class paradigm, with `Circle` and `CircleIterator`.\n",
    "\n",
    "Example:\n",
    "\n",
    "```python\n",
    "c = Circle('abcd', 7)\n",
    "\n",
    "for one_item in c:\n",
    "    print(one_item)\n",
    "    \n",
    "a\n",
    "b\n",
    "c\n",
    "d\n",
    "a\n",
    "b\n",
    "c\n",
    "```"
   ]
  },
  {
   "cell_type": "code",
   "execution_count": 36,
   "metadata": {},
   "outputs": [
    {
     "name": "stdout",
     "output_type": "stream",
     "text": [
      "*** A ***\n",
      "a\n",
      "b\n",
      "c\n",
      "d\n",
      "a\n",
      "b\n",
      "c\n",
      "*** B ***\n"
     ]
    }
   ],
   "source": [
    "class Circle:\n",
    "    def __init__(self, data, maxtimes):\n",
    "        self.data = data\n",
    "        self.maxtimes = maxtimes\n",
    "        self.index = 0\n",
    "        \n",
    "    def __iter__(self):   # where is __next__ implemented?  On me!\n",
    "        return self\n",
    "    \n",
    "    def __next__(self):\n",
    "        if self.index >= self.maxtimes:\n",
    "            raise StopIteration\n",
    "            \n",
    "        value = self.data[self.index % len(self.data)]\n",
    "        self.index += 1\n",
    "        return value\n",
    "    \n",
    "c = Circle('abcd', 7)    \n",
    "\n",
    "print('*** A ***')\n",
    "for one_item in c:\n",
    "    print(one_item)\n",
    "\n",
    "print('*** B ***')\n",
    "for one_item in c:\n",
    "    print(one_item)    "
   ]
  },
  {
   "cell_type": "code",
   "execution_count": 37,
   "metadata": {},
   "outputs": [
    {
     "name": "stdout",
     "output_type": "stream",
     "text": [
      "*** A ***\n",
      "a\n",
      "b\n",
      "c\n",
      "d\n",
      "a\n",
      "b\n",
      "c\n",
      "*** B ***\n",
      "a\n",
      "b\n",
      "c\n",
      "d\n",
      "a\n",
      "b\n",
      "c\n"
     ]
    }
   ],
   "source": [
    "class CircleIterator:\n",
    "    def __init__(self, data, maxtimes):\n",
    "        self.data = data\n",
    "        self.maxtimes = maxtimes\n",
    "        self.index = 0\n",
    "\n",
    "    def __next__(self):\n",
    "        if self.index >= self.maxtimes:\n",
    "            raise StopIteration\n",
    "            \n",
    "        value = self.data[self.index % len(self.data)]\n",
    "        self.index += 1\n",
    "        return value\n",
    "\n",
    "class Circle:\n",
    "    def __init__(self, data, maxtimes):\n",
    "        self.data = data\n",
    "        self.maxtimes = maxtimes\n",
    "        \n",
    "    def __iter__(self):\n",
    "        return CircleIterator(self.data, self.maxtimes)\n",
    "    \n",
    "    \n",
    "c = Circle('abcd', 7)    \n",
    "\n",
    "print('*** A ***')\n",
    "for one_item in c:\n",
    "    print(one_item)\n",
    "\n",
    "print('*** B ***')\n",
    "for one_item in c:\n",
    "    print(one_item)    "
   ]
  },
  {
   "cell_type": "code",
   "execution_count": 38,
   "metadata": {},
   "outputs": [
    {
     "name": "stdout",
     "output_type": "stream",
     "text": [
      "*** A ***\n",
      "a\n",
      "b\n",
      "c\n",
      "d\n",
      "a\n",
      "b\n",
      "c\n",
      "*** B ***\n",
      "a\n",
      "b\n",
      "c\n",
      "d\n",
      "a\n",
      "b\n",
      "c\n"
     ]
    }
   ],
   "source": [
    "class CircleIterator:\n",
    "    def __init__(self, circle):\n",
    "        self.circle = circle\n",
    "        self.index = 0\n",
    "\n",
    "    def __next__(self):\n",
    "        if self.index >= self.circle.maxtimes:\n",
    "            raise StopIteration\n",
    "            \n",
    "        value = self.circle.data[self.index % len(self.circle.data)]\n",
    "        self.index += 1\n",
    "        return value\n",
    "\n",
    "class Circle:\n",
    "    def __init__(self, data, maxtimes):\n",
    "        self.data = data\n",
    "        self.maxtimes = maxtimes\n",
    "        \n",
    "    def __iter__(self):\n",
    "        return CircleIterator(self)\n",
    "    \n",
    "    \n",
    "c = Circle('abcd', 7)    \n",
    "\n",
    "print('*** A ***')\n",
    "for one_item in c:\n",
    "    print(one_item)\n",
    "\n",
    "print('*** B ***')\n",
    "for one_item in c:\n",
    "    print(one_item)    "
   ]
  },
  {
   "cell_type": "markdown",
   "metadata": {},
   "source": [
    "# Pattern: Strategy \n",
    "\n",
    "We have several classes, each of which implements a different algorithm that we might want to employ. Each of those classes' algorithms is available using the same interface (API). We want to choose, at runtime, which of these algorithms will be used."
   ]
  },
  {
   "cell_type": "code",
   "execution_count": 39,
   "metadata": {},
   "outputs": [],
   "source": [
    "import numpy as np"
   ]
  },
  {
   "cell_type": "code",
   "execution_count": 40,
   "metadata": {},
   "outputs": [
    {
     "data": {
      "text/plain": [
       "array([10,  5,  3,  8, 18,  2,  6, 25, -4])"
      ]
     },
     "execution_count": 40,
     "metadata": {},
     "output_type": "execute_result"
    }
   ],
   "source": [
    "a = np.array([10, 5, 3, 8, 18, 2, 6, 25, -4])\n",
    "a"
   ]
  },
  {
   "cell_type": "code",
   "execution_count": 41,
   "metadata": {},
   "outputs": [],
   "source": [
    "a.sort()"
   ]
  },
  {
   "cell_type": "code",
   "execution_count": 42,
   "metadata": {},
   "outputs": [
    {
     "data": {
      "text/plain": [
       "array([-4,  2,  3,  5,  6,  8, 10, 18, 25])"
      ]
     },
     "execution_count": 42,
     "metadata": {},
     "output_type": "execute_result"
    }
   ],
   "source": [
    "a"
   ]
  },
  {
   "cell_type": "code",
   "execution_count": 43,
   "metadata": {
    "collapsed": true
   },
   "outputs": [
    {
     "name": "stdout",
     "output_type": "stream",
     "text": [
      "Help on built-in function sort:\n",
      "\n",
      "sort(...) method of numpy.ndarray instance\n",
      "    a.sort(axis=-1, kind=None, order=None)\n",
      "    \n",
      "    Sort an array in-place. Refer to `numpy.sort` for full documentation.\n",
      "    \n",
      "    Parameters\n",
      "    ----------\n",
      "    axis : int, optional\n",
      "        Axis along which to sort. Default is -1, which means sort along the\n",
      "        last axis.\n",
      "    kind : {'quicksort', 'mergesort', 'heapsort', 'stable'}, optional\n",
      "        Sorting algorithm. The default is 'quicksort'. Note that both 'stable'\n",
      "        and 'mergesort' use timsort under the covers and, in general, the\n",
      "        actual implementation will vary with datatype. The 'mergesort' option\n",
      "        is retained for backwards compatibility.\n",
      "    \n",
      "        .. versionchanged:: 1.15.0\n",
      "           The 'stable' option was added.\n",
      "    \n",
      "    order : str or list of str, optional\n",
      "        When `a` is an array with fields defined, this argument specifies\n",
      "        which fields to compare first, second, etc.  A single field can\n",
      "        be specified as a string, and not all fields need be specified,\n",
      "        but unspecified fields will still be used, in the order in which\n",
      "        they come up in the dtype, to break ties.\n",
      "    \n",
      "    See Also\n",
      "    --------\n",
      "    numpy.sort : Return a sorted copy of an array.\n",
      "    numpy.argsort : Indirect sort.\n",
      "    numpy.lexsort : Indirect stable sort on multiple keys.\n",
      "    numpy.searchsorted : Find elements in sorted array.\n",
      "    numpy.partition: Partial sort.\n",
      "    \n",
      "    Notes\n",
      "    -----\n",
      "    See `numpy.sort` for notes on the different sorting algorithms.\n",
      "    \n",
      "    Examples\n",
      "    --------\n",
      "    >>> a = np.array([[1,4], [3,1]])\n",
      "    >>> a.sort(axis=1)\n",
      "    >>> a\n",
      "    array([[1, 4],\n",
      "           [1, 3]])\n",
      "    >>> a.sort(axis=0)\n",
      "    >>> a\n",
      "    array([[1, 3],\n",
      "           [1, 4]])\n",
      "    \n",
      "    Use the `order` keyword to specify a field to use when sorting a\n",
      "    structured array:\n",
      "    \n",
      "    >>> a = np.array([('a', 2), ('c', 1)], dtype=[('x', 'S1'), ('y', int)])\n",
      "    >>> a.sort(order='y')\n",
      "    >>> a\n",
      "    array([(b'c', 1), (b'a', 2)],\n",
      "          dtype=[('x', 'S1'), ('y', '<i8')])\n",
      "\n"
     ]
    }
   ],
   "source": [
    "help(a.sort)"
   ]
  },
  {
   "cell_type": "code",
   "execution_count": 44,
   "metadata": {},
   "outputs": [],
   "source": [
    "a.sort(kind='quicksort')"
   ]
  },
  {
   "cell_type": "code",
   "execution_count": 45,
   "metadata": {},
   "outputs": [
    {
     "data": {
      "text/plain": [
       "array([-4,  2,  3,  5,  6,  8, 10, 18, 25])"
      ]
     },
     "execution_count": 45,
     "metadata": {},
     "output_type": "execute_result"
    }
   ],
   "source": [
    "a"
   ]
  },
  {
   "cell_type": "code",
   "execution_count": 46,
   "metadata": {},
   "outputs": [
    {
     "name": "stdout",
     "output_type": "stream",
     "text": [
      "Checking with len()\n"
     ]
    },
    {
     "data": {
      "text/plain": [
       "4"
      ]
     },
     "execution_count": 46,
     "metadata": {},
     "output_type": "execute_result"
    }
   ],
   "source": [
    "# In Strategy, each algorithm is implemented using a class that offers the same API.\n",
    "\n",
    "# In this example, I have several different clases, each of which offers the functionality of \n",
    "# measuring the length of a string.\n",
    "\n",
    "\n",
    "class UseLen:\n",
    "    def get_length(self, data):\n",
    "        print(f'Checking with len()')\n",
    "        return len(data)\n",
    "    \n",
    "class UseLoop:\n",
    "    def get_length(self, data):\n",
    "        print(f'Checking with loop')\n",
    "        total = 0\n",
    "        for one_item in data:\n",
    "            total += 1\n",
    "        return total\n",
    "    \n",
    "# The CheckLen class will allow us to choose from among these two (or other, if we have them)\n",
    "# options for algorithms\n",
    "\n",
    "class CheckLen:\n",
    "    def __init__(self, strategy):\n",
    "        self.strategy = strategy\n",
    "        \n",
    "    def get_length(self, data):\n",
    "        return self.strategy.get_length(data)\n",
    "    \n",
    "# to use Strategy, I choose which algorithm I want to use by creating a new instance (UseLen())\n",
    "# I then pass that instance to CheckLen() when I create it.\n",
    "# calling c.get_length will invoke get_length on the appropriate strategy, i.e., UseLen\n",
    "c = CheckLen(UseLen())    \n",
    "c.get_length('abcd')\n",
    "                   "
   ]
  },
  {
   "cell_type": "code",
   "execution_count": 47,
   "metadata": {},
   "outputs": [
    {
     "name": "stdout",
     "output_type": "stream",
     "text": [
      "Checking with loop\n"
     ]
    },
    {
     "data": {
      "text/plain": [
       "4"
      ]
     },
     "execution_count": 47,
     "metadata": {},
     "output_type": "execute_result"
    }
   ],
   "source": [
    "c = CheckLen(UseLoop())    \n",
    "c.get_length('abcd')"
   ]
  },
  {
   "cell_type": "markdown",
   "metadata": {},
   "source": [
    "# Exercise: Text integrity checker\n",
    "\n",
    "Sometimes, we want to check if a string has changed from a previous time we've looked at it. We're going to implement three different strategies for checking whether text has changed across time, and then we're going to let a user select from among those different strategies.  We're going to have:\n",
    "\n",
    "- `LenChecker` -- not a good way to check the integrity of our string -- use `len`\n",
    "- `Sha1Checker` -- applies the SHA1 algorithm to the text, using `hashlib.sha1`, returning the `hexdigest`\n",
    "- `MD5Checker` -- applies the MD5 algorithm to the text, using `hashlib.md5`, returning its `hexdigest`\n",
    "\n",
    "```python\n",
    "test = 'this is a test sentence'\n",
    "\n",
    "c = Checker(LenChecker())\n",
    "print(c.check(text))  # should give length\n",
    "\n",
    "c = Checker(Sha1Checker())\n",
    "print(c.check(text))  # should return hex digits for this text\n",
    "\n",
    "c = Checker(MD5Checker())\n",
    "print(c.check(text))  # again, return hex digits\n",
    "```"
   ]
  },
  {
   "cell_type": "code",
   "execution_count": 48,
   "metadata": {},
   "outputs": [
    {
     "data": {
      "text/plain": [
       "'81fe8bfe87576c3ecb22426f8e57847382917acf'"
      ]
     },
     "execution_count": 48,
     "metadata": {},
     "output_type": "execute_result"
    }
   ],
   "source": [
    "import hashlib\n",
    "\n",
    "class LenChecker:\n",
    "    def check(self, data):\n",
    "        return len(data)\n",
    "    \n",
    "class Sha1Checker:\n",
    "    def check(self, data):\n",
    "        h = hashlib.sha1()\n",
    "        h.update(data.encode())\n",
    "        return h.hexdigest()\n",
    "    \n",
    "class MD5Checker:\n",
    "    def check(self, data):\n",
    "        h = hashlib.md5()\n",
    "        h.update(data.encode())\n",
    "        return h.hexdigest()\n",
    "    \n",
    "Sha1Checker().check('abcd')    "
   ]
  },
  {
   "cell_type": "code",
   "execution_count": 49,
   "metadata": {},
   "outputs": [
    {
     "data": {
      "text/plain": [
       "'e2fc714c4727ee9395f324cd2e7f331f'"
      ]
     },
     "execution_count": 49,
     "metadata": {},
     "output_type": "execute_result"
    }
   ],
   "source": [
    "MD5Checker().check('abcd')    "
   ]
  },
  {
   "cell_type": "code",
   "execution_count": 50,
   "metadata": {},
   "outputs": [
    {
     "data": {
      "text/plain": [
       "4"
      ]
     },
     "execution_count": 50,
     "metadata": {},
     "output_type": "execute_result"
    }
   ],
   "source": [
    "LenChecker().check('abcd')    "
   ]
  },
  {
   "cell_type": "code",
   "execution_count": 54,
   "metadata": {},
   "outputs": [
    {
     "name": "stdout",
     "output_type": "stream",
     "text": [
      "LenChecker  : 33\n",
      "MD5Checker  : eabfddcbb6ad72e277a24331c7704dc9\n",
      "Sha1Checker : bf244d5c9f413097631e526c64b5a8ba2815358f\n"
     ]
    }
   ],
   "source": [
    "class Checker:\n",
    "    def __init__(self, strategy):\n",
    "        self.strategy = strategy    # this will be an instance of LenChecker/MD5Checker/Sha1Checker\n",
    "    \n",
    "    def check(self, data):\n",
    "        return self.strategy.check(data)\n",
    "    \n",
    "s = 'this is a fantastic test sentence'    \n",
    "\n",
    "for one_strategy in [LenChecker, MD5Checker, Sha1Checker]:\n",
    "    result = Checker(one_strategy()).check(s)\n",
    "    print(f'{one_strategy.__name__:12}: {result}')"
   ]
  },
  {
   "cell_type": "code",
   "execution_count": 56,
   "metadata": {},
   "outputs": [
    {
     "data": {
      "text/plain": [
       "33"
      ]
     },
     "execution_count": 56,
     "metadata": {},
     "output_type": "execute_result"
    }
   ],
   "source": [
    "import hashlib\n",
    "\n",
    "def sha1_check(data):\n",
    "    h = hashlib.sha1()\n",
    "    h.update(data.encode())\n",
    "    return h.hexdigest()\n",
    "    \n",
    "def md5_check(data):\n",
    "    h = hashlib.md5()\n",
    "    h.update(data.encode())\n",
    "    return h.hexdigest()\n",
    "    \n",
    "# dispatch table\n",
    "strategies = {'len': len,\n",
    "              'sha1': sha1_check,\n",
    "              'md5': md5_check}\n",
    "\n",
    "strategies['len'](s)"
   ]
  },
  {
   "cell_type": "code",
   "execution_count": 58,
   "metadata": {},
   "outputs": [
    {
     "data": {
      "text/plain": [
       "33"
      ]
     },
     "execution_count": 58,
     "metadata": {},
     "output_type": "execute_result"
    }
   ],
   "source": [
    "class Check:\n",
    "    def __init__(self, strategy_name):\n",
    "        self.strategy = strategies[strategy_name]\n",
    "        \n",
    "    def check(self, data):\n",
    "        return self.strategy(data)\n",
    "    \n",
    "c = Check('len')    \n",
    "c.check(s)"
   ]
  },
  {
   "cell_type": "code",
   "execution_count": 59,
   "metadata": {},
   "outputs": [
    {
     "data": {
      "text/plain": [
       "33"
      ]
     },
     "execution_count": 59,
     "metadata": {},
     "output_type": "execute_result"
    }
   ],
   "source": [
    "c.strategy(s)"
   ]
  },
  {
   "cell_type": "markdown",
   "metadata": {},
   "source": [
    "# Next up\n",
    "\n",
    "1. Observers\n",
    "2. Adapter\n",
    "\n",
    "Resume at :05"
   ]
  },
  {
   "cell_type": "markdown",
   "metadata": {},
   "source": [
    "# Observer\n",
    "\n",
    "We have a class that will take action. Some other classes would like to know when those actions have been taken. Normally, we could hard-code these relationships. But we instead want to allow observers to register themselves at runtime.\n",
    "\n",
    "Meaning: Our main (action) class will start off with no observers. One or more observers will register themselves, and when the action of interest takes place, the action class will notify each observer in turn.\n",
    "\n",
    "This requires that (a) the action class provide an API that lets observers register, and (b) each observer implements a method (we'll call it `notify`) that lets them know when an action has taken place."
   ]
  },
  {
   "cell_type": "code",
   "execution_count": 60,
   "metadata": {},
   "outputs": [
    {
     "data": {
      "text/plain": [
       "True"
      ]
     },
     "execution_count": 60,
     "metadata": {},
     "output_type": "execute_result"
    }
   ],
   "source": [
    "class Access:\n",
    "    def __init__(self, userdict):\n",
    "        self.userdict = userdict   # dict of usernames and passwords (I know, never use cleartext passwords)\n",
    "        self.currently_online = set()\n",
    "        \n",
    "    def login(self, username, password):\n",
    "        if username in self.userdict and self.userdict[username] == password:\n",
    "            self.currently_online.add(username)\n",
    "            return True\n",
    "        else:\n",
    "            return False\n",
    "        \n",
    "    def logout(self, username):\n",
    "        if username in self.currently_online:\n",
    "            self.currently_online.remove(username)\n",
    "            return True\n",
    "        else:\n",
    "            return False\n",
    "        \n",
    "users = {'reuven':'12345',\n",
    "        'otheruser':'abcd',\n",
    "        'superuser':'ab12'}\n",
    "\n",
    "a = Access(users)\n",
    "a.login('reuven', '12345')"
   ]
  },
  {
   "cell_type": "code",
   "execution_count": 61,
   "metadata": {},
   "outputs": [
    {
     "data": {
      "text/plain": [
       "False"
      ]
     },
     "execution_count": 61,
     "metadata": {},
     "output_type": "execute_result"
    }
   ],
   "source": [
    "a.login('asfa', 'asdfsadf')"
   ]
  },
  {
   "cell_type": "code",
   "execution_count": 62,
   "metadata": {},
   "outputs": [
    {
     "data": {
      "text/plain": [
       "False"
      ]
     },
     "execution_count": 62,
     "metadata": {},
     "output_type": "execute_result"
    }
   ],
   "source": [
    "a.login('otheruser', 'sadfafd')"
   ]
  },
  {
   "cell_type": "code",
   "execution_count": 63,
   "metadata": {},
   "outputs": [
    {
     "data": {
      "text/plain": [
       "True"
      ]
     },
     "execution_count": 63,
     "metadata": {},
     "output_type": "execute_result"
    }
   ],
   "source": [
    "a.login('otheruser', 'abcd')"
   ]
  },
  {
   "cell_type": "code",
   "execution_count": 64,
   "metadata": {},
   "outputs": [
    {
     "data": {
      "text/plain": [
       "{'otheruser', 'reuven'}"
      ]
     },
     "execution_count": 64,
     "metadata": {},
     "output_type": "execute_result"
    }
   ],
   "source": [
    "a.currently_online"
   ]
  },
  {
   "cell_type": "code",
   "execution_count": 65,
   "metadata": {},
   "outputs": [
    {
     "data": {
      "text/plain": [
       "True"
      ]
     },
     "execution_count": 65,
     "metadata": {},
     "output_type": "execute_result"
    }
   ],
   "source": [
    "a.logout('reuven')"
   ]
  },
  {
   "cell_type": "code",
   "execution_count": 66,
   "metadata": {},
   "outputs": [
    {
     "data": {
      "text/plain": [
       "False"
      ]
     },
     "execution_count": 66,
     "metadata": {},
     "output_type": "execute_result"
    }
   ],
   "source": [
    "a.logout('reuven')"
   ]
  },
  {
   "cell_type": "code",
   "execution_count": 67,
   "metadata": {},
   "outputs": [
    {
     "data": {
      "text/plain": [
       "True"
      ]
     },
     "execution_count": 67,
     "metadata": {},
     "output_type": "execute_result"
    }
   ],
   "source": [
    "a.logout('otheruser')"
   ]
  },
  {
   "cell_type": "code",
   "execution_count": 68,
   "metadata": {},
   "outputs": [],
   "source": [
    "class Logger:\n",
    "    def __init__(self, filename):\n",
    "        self.filename = filename\n",
    "        \n",
    "    def log_message(self, message):\n",
    "        with open(self.filename, 'a') as f:\n",
    "            f.write(f'{message}\\n')\n",
    "            \n",
    "log = Logger('mylog.txt')            "
   ]
  },
  {
   "cell_type": "code",
   "execution_count": 69,
   "metadata": {},
   "outputs": [],
   "source": [
    "log.log_message('hello!')\n",
    "log.log_message('goodbye!')"
   ]
  },
  {
   "cell_type": "code",
   "execution_count": 70,
   "metadata": {},
   "outputs": [
    {
     "name": "stdout",
     "output_type": "stream",
     "text": [
      "hello!\r\n",
      "goodbye!\r\n"
     ]
    }
   ],
   "source": [
    "!cat mylog.txt"
   ]
  },
  {
   "cell_type": "code",
   "execution_count": 77,
   "metadata": {},
   "outputs": [
    {
     "data": {
      "text/plain": [
       "False"
      ]
     },
     "execution_count": 77,
     "metadata": {},
     "output_type": "execute_result"
    }
   ],
   "source": [
    "import time\n",
    "\n",
    "class Access:\n",
    "    def __init__(self, userdict):\n",
    "        self.userdict = userdict   # dict of usernames and passwords (I know, never use cleartext passwords)\n",
    "        self.currently_online = set()\n",
    "        self.observers = []        # list of observers\n",
    "        \n",
    "    def login(self, username, password):\n",
    "        if username in self.userdict and self.userdict[username] == password:\n",
    "            self.currently_online.add(username)\n",
    "            self.notify(f'{time.time()}\\t{username} logged in')\n",
    "            return True\n",
    "        else:\n",
    "            self.notify(f'{time.time()}\\t{username} FAILED TO log in')\n",
    "            return False\n",
    "        \n",
    "    def logout(self, username):\n",
    "        if username in self.currently_online:\n",
    "            self.currently_online.remove(username)\n",
    "            self.notify(f'{time.time()}\\t{username} logged out')\n",
    "            return True\n",
    "        else:\n",
    "            self.notify(f'{time.time()}\\t{username} FAILED TO log out')\n",
    "            return False\n",
    "        \n",
    "    def register_observer(self, new_observer):\n",
    "        self.observers.append(new_observer)\n",
    "        \n",
    "    def notify(self, message):\n",
    "        for one_observer in self.observers:\n",
    "            one_observer.notify(message)\n",
    "        \n",
    "users = {'reuven':'12345',\n",
    "        'otheruser':'abcd',\n",
    "        'superuser':'ab12'}\n",
    "\n",
    "\n",
    "class Logger:\n",
    "    def __init__(self, filename):\n",
    "        self.filename = filename\n",
    "        \n",
    "    def log_message(self, message):\n",
    "        with open(self.filename, 'a') as f:\n",
    "            f.write(f'{message}\\n')\n",
    "            \n",
    "    def notify(self, message):\n",
    "        self.log_message(message)\n",
    "            \n",
    "a = Access(users)\n",
    "\n",
    "log = Logger('mylog.txt')            \n",
    "a.register_observer(log)\n",
    "\n",
    "log2 = Logger('myotherlog.txt')\n",
    "a.register_observer(log2)\n",
    "\n",
    "a.login('reuven', '12345')     # log in for real\n",
    "a.login('reuven', '12345')     # try to log in a second time\n",
    "a.login('asfasf', 'asdfsafd')  # try to log -- bad username, bad password\n",
    "a.login('otheruser', 'a')      # try to log in with a bad password\n",
    "a.login('otheruser', 'abcd')   # try to log in with a bad password\n",
    "a.logout('reuven')\n",
    "a.logout('reuven')"
   ]
  },
  {
   "cell_type": "code",
   "execution_count": 78,
   "metadata": {},
   "outputs": [
    {
     "name": "stdout",
     "output_type": "stream",
     "text": [
      "1635261627.5549152\treuven logged in\r\n",
      "1635261627.555378\treuven logged in\r\n",
      "1635261627.555487\tasfasf FAILED TO log in\r\n",
      "1635261627.5555809\totheruser FAILED TO log in\r\n",
      "1635261627.555777\totheruser logged in\r\n",
      "1635261627.555962\treuven logged out\r\n",
      "1635261627.5561442\treuven FAILED TO log out\r\n",
      "1635261660.5942788\treuven logged in\r\n",
      "1635261660.595061\treuven logged in\r\n",
      "1635261660.595223\tasfasf FAILED TO log in\r\n",
      "1635261660.5954401\totheruser FAILED TO log in\r\n",
      "1635261660.595577\totheruser logged in\r\n",
      "1635261660.595801\treuven logged out\r\n",
      "1635261660.595988\treuven FAILED TO log out\r\n"
     ]
    }
   ],
   "source": [
    "!cat mylog.txt"
   ]
  },
  {
   "cell_type": "code",
   "execution_count": 79,
   "metadata": {},
   "outputs": [
    {
     "name": "stdout",
     "output_type": "stream",
     "text": [
      "1635261660.5942788\treuven logged in\r\n",
      "1635261660.595061\treuven logged in\r\n",
      "1635261660.595223\tasfasf FAILED TO log in\r\n",
      "1635261660.5954401\totheruser FAILED TO log in\r\n",
      "1635261660.595577\totheruser logged in\r\n",
      "1635261660.595801\treuven logged out\r\n",
      "1635261660.595988\treuven FAILED TO log out\r\n"
     ]
    }
   ],
   "source": [
    "!cat myotherlog.txt"
   ]
  },
  {
   "cell_type": "markdown",
   "metadata": {},
   "source": [
    "# Exercise: Online store\n",
    "\n",
    "1. Define a `Store` class.\n",
    "2. Define a method, `add_product`, which lets you add one product to the store. The store should contain a dict, `products`, in which the keys are product names and the values are product prices.\n",
    "3. Create a new store, and add several products.\n",
    "4. Add a new method, `purchase`. This method will take two arguments, the name of the product and the quantity. \n",
    "5. This will return the price for buying that product at that quantity. \n",
    "6. If the product does not exist in the store, then return None.\n",
    "7. Create a `PurchaseLog` class. Each instance of `PurchaseLog` will keep track of the purchases at our store.  This will need a `notify` method, which will write messages to the file.\n",
    "8. Create an instance of `PurchaseLog`, and have it register itself as an observer of the `Store`.\n",
    "9. When someone purchases a product, notify all of the observers. Send the string indicating (a) product name, (b) purchase quantity, (c) price for one, and (d) total price for that quantity."
   ]
  },
  {
   "cell_type": "code",
   "execution_count": 82,
   "metadata": {},
   "outputs": [],
   "source": [
    "class Store:\n",
    "    def __init__(self):\n",
    "        self.products = {}\n",
    "        self.observers = []\n",
    "        \n",
    "    def add_product(self, name, price):\n",
    "        self.products[name] = price\n",
    "        \n",
    "    def purchase(self, name, quantity):\n",
    "        if name in self.products:\n",
    "            price = self.products[name]\n",
    "            self.notify(f'{name}\\t{quantity}\\t{price}\\t{price*quantity}')\n",
    "            return price * quantity\n",
    "        else:\n",
    "            self.notify(f'Wanted to buy {name}, but we do not carry it!')\n",
    "            return None\n",
    "        \n",
    "    def register_observer(self, new_observer):\n",
    "        self.observers.append(new_observer)\n",
    "        \n",
    "    def notify(self, message):\n",
    "        for one_observer in self.observers:\n",
    "            one_observer.notify(message)\n",
    "        \n",
    "s = Store()\n",
    "s.add_product('apple', 5)\n",
    "s.add_product('banana', 2)\n",
    "s.add_product('cucumber', 1)"
   ]
  },
  {
   "cell_type": "code",
   "execution_count": 85,
   "metadata": {},
   "outputs": [],
   "source": [
    "import time\n",
    "\n",
    "class PurchaseLog:\n",
    "    def __init__(self, filename):\n",
    "        self.f = filename\n",
    "        \n",
    "    def notify(self, message):\n",
    "        with open(self.f, 'a') as outfile:\n",
    "            outfile.write(f'{time.time()}\\t{message}\\n')\n",
    "            \n",
    "p = PurchaseLog('purchaselog.txt')            \n",
    "s.register_observer(p)"
   ]
  },
  {
   "cell_type": "code",
   "execution_count": 86,
   "metadata": {},
   "outputs": [],
   "source": [
    "s.purchase('apple', 3)\n",
    "s.purchase('banana', 5)\n",
    "s.purchase('cucumber', 6)\n",
    "s.purchase('elephant', 1)"
   ]
  },
  {
   "cell_type": "code",
   "execution_count": 87,
   "metadata": {},
   "outputs": [
    {
     "name": "stdout",
     "output_type": "stream",
     "text": [
      "1635263824.069123\tapple\t3\t5\t15\r\n",
      "1635263824.0693572\tbanana\t5\t2\t10\r\n",
      "1635263824.069466\tcucumber\t6\t1\t6\r\n",
      "1635263824.06957\tWanted to buy elephant, but we do not carry it!\r\n"
     ]
    }
   ],
   "source": [
    "!cat purchaselog.txt"
   ]
  },
  {
   "cell_type": "markdown",
   "metadata": {},
   "source": [
    "# Pattern: Adapter\n",
    "\n",
    "We have code that assumes a particular API on another object. That API changes -- either because the other object's API just changes (new version) or we're switching to a competitor with a different API.\n",
    "\n",
    "We could retool all of our existing code to use this new API. But that will be time consuming and expensive. So instead, we'll have our code connect to an ADAPTER, which will then connect to the new service/API.\n",
    "\n",
    "This means that our existing code can remain untouched. We just need to be sure to connect via the adapter, rather than directly to the new API."
   ]
  },
  {
   "cell_type": "code",
   "execution_count": 88,
   "metadata": {},
   "outputs": [],
   "source": [
    "# Example: Configuration file reader\n",
    "\n",
    "# let's create a config file, with name=value on each line\n",
    "\n",
    "d = {'a':1, 'b':2, 'c':3}\n",
    "with open('myconfig.txt', 'w') as f:\n",
    "    for key, value in d.items():\n",
    "        f.write(f'{key}={value}\\n')"
   ]
  },
  {
   "cell_type": "code",
   "execution_count": 89,
   "metadata": {},
   "outputs": [
    {
     "name": "stdout",
     "output_type": "stream",
     "text": [
      "a=1\r\n",
      "b=2\r\n",
      "c=3\r\n"
     ]
    }
   ],
   "source": [
    "!cat myconfig.txt"
   ]
  },
  {
   "cell_type": "code",
   "execution_count": 90,
   "metadata": {},
   "outputs": [
    {
     "data": {
      "text/plain": [
       "{'a': '1', 'b': '2', 'c': '3'}"
      ]
     },
     "execution_count": 90,
     "metadata": {},
     "output_type": "execute_result"
    }
   ],
   "source": [
    "class ConfigReader:\n",
    "    def __init__(self, filename):\n",
    "        self.filename = filename\n",
    "        \n",
    "    def get_config(self):\n",
    "        # use a dict comprehension to read from the file\n",
    "        return {one_line.split('=')[0] : one_line.split('=')[1].strip()\n",
    "                for one_line in open(self.filename) }\n",
    "    \n",
    "c = ConfigReader('myconfig.txt')    \n",
    "c.get_config()"
   ]
  },
  {
   "cell_type": "code",
   "execution_count": null,
   "metadata": {},
   "outputs": [],
   "source": []
  }
 ],
 "metadata": {
  "kernelspec": {
   "display_name": "Python 3 (ipykernel)",
   "language": "python",
   "name": "python3"
  },
  "language_info": {
   "codemirror_mode": {
    "name": "ipython",
    "version": 3
   },
   "file_extension": ".py",
   "mimetype": "text/x-python",
   "name": "python",
   "nbconvert_exporter": "python",
   "pygments_lexer": "ipython3",
   "version": "3.10.0"
  }
 },
 "nbformat": 4,
 "nbformat_minor": 4
}
