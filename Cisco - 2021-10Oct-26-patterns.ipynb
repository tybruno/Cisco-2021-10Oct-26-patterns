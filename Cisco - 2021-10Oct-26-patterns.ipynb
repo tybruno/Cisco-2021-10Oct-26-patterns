{
 "cells": [
  {
   "cell_type": "markdown",
   "metadata": {},
   "source": [
    "# Agenda\n",
    "\n",
    "1. What are design patterns?\n",
    "2. Refresher on Python objects\n",
    "    - Relationships among objects\n",
    "    - Inheritance\n",
    "    - Composition\n",
    "3. Design pattern categories\n",
    "    - Behavioral\n",
    "    - Structural \n",
    "    - Creational    "
   ]
  },
  {
   "cell_type": "markdown",
   "metadata": {},
   "source": [
    "# What are design patterns?\n",
    "\n",
    "All of computer science is about *abstraction*.\n",
    "\n",
    "- I can take several actions, and wrap them up into a function. \n",
    "- I can take several pieces of data, and wrap them up into a new data structure.\n",
    "\n",
    "Design patterns allow us to apply the principle of abstraction to relationships among objects -- actually, patterns of relationships among objects.  If we see the same relationship in multiple programs, then we can give that relationship a name, and then use it to reason about that relationship in future programs.\n",
    "\n",
    "Patterns are about objects and classes, and how we can use them together to solve bigger and more interesting problems. But more importantly, so that we can **communicate** with other people on our team (and elsewhere) about these relationships.\n",
    "\n",
    "GoF (\"Gang of Four\") book called \"Design Patterns.\" "
   ]
  },
  {
   "cell_type": "markdown",
   "metadata": {},
   "source": [
    " # Object relationships\n",
    " \n",
    " - Composition -- one object owns another, or belongs to another.  This is super common in Python, expressed as having an attribute. The object `a` might have an attribute `b`, which we express as `a.b`.  This is composition, with `b` belonging to `a` or (if you prefer) `a` owning `b`.  This is known in the object trade as having a \"has-a\" relationship.  Person has-a name. Car has-a engine size. Book has-a author. Apple has-a price.\n",
    " - Inheritance -- this relationship means that one class is just like another class, with some exceptions. We can express this with the \"is-a\" relationship. The Child class inherits from the Parent class. The Car class inherits from the Vehicle class. We do this because cars are more specific than generic vehicles, but can still get some functionality (data and/or methods) from vehicles.\n",
    " \n",
    " Design patterns are built out of these two relationships.  \n",
    " "
   ]
  },
  {
   "cell_type": "code",
   "execution_count": 1,
   "metadata": {},
   "outputs": [],
   "source": [
    "class Person:\n",
    "    def __init__(self, name):\n",
    "        self.name = name       # composition! Person has-a name\n",
    "        \n",
    "p1 = Person('name1')        \n",
    "p2 = Person('name2')\n",
    "p3 = Person('name3')"
   ]
  },
  {
   "cell_type": "code",
   "execution_count": 2,
   "metadata": {},
   "outputs": [
    {
     "data": {
      "text/plain": [
       "'name1'"
      ]
     },
     "execution_count": 2,
     "metadata": {},
     "output_type": "execute_result"
    }
   ],
   "source": [
    "p1.name"
   ]
  },
  {
   "cell_type": "code",
   "execution_count": 3,
   "metadata": {},
   "outputs": [
    {
     "data": {
      "text/plain": [
       "'name2'"
      ]
     },
     "execution_count": 3,
     "metadata": {},
     "output_type": "execute_result"
    }
   ],
   "source": [
    "p2.name"
   ]
  },
  {
   "cell_type": "code",
   "execution_count": 4,
   "metadata": {},
   "outputs": [
    {
     "data": {
      "text/plain": [
       "'name3'"
      ]
     },
     "execution_count": 4,
     "metadata": {},
     "output_type": "execute_result"
    }
   ],
   "source": [
    "p3.name"
   ]
  },
  {
   "cell_type": "code",
   "execution_count": 5,
   "metadata": {},
   "outputs": [],
   "source": [
    "# Let's say that I want to have an Employee class \n",
    "# Employees are just like people, except that they also have an id_number attribute\n",
    "\n",
    "class Employee:\n",
    "    def __init__(self, name, id_number):\n",
    "        self.name = name       # composition! Person has-a name\n",
    "        self.id_number = id_number\n",
    "        \n",
    "e1 = Employee('emp1', 1)        \n",
    "e2 = Employee('emp2', 2)\n",
    "e3 = Employee('emp3', 3)"
   ]
  },
  {
   "cell_type": "code",
   "execution_count": 6,
   "metadata": {},
   "outputs": [
    {
     "data": {
      "text/plain": [
       "'emp1'"
      ]
     },
     "execution_count": 6,
     "metadata": {},
     "output_type": "execute_result"
    }
   ],
   "source": [
    "e1.name"
   ]
  },
  {
   "cell_type": "code",
   "execution_count": 7,
   "metadata": {},
   "outputs": [
    {
     "data": {
      "text/plain": [
       "1"
      ]
     },
     "execution_count": 7,
     "metadata": {},
     "output_type": "execute_result"
    }
   ],
   "source": [
    "e1.id_number"
   ]
  },
  {
   "cell_type": "code",
   "execution_count": 12,
   "metadata": {},
   "outputs": [
    {
     "name": "stdout",
     "output_type": "stream",
     "text": [
      "Hello, name1!\n",
      "Hello, name2!\n",
      "Hello, emp1!\n",
      "Hello, emp2!\n"
     ]
    }
   ],
   "source": [
    "class Person:\n",
    "    def __init__(self, name):\n",
    "        self.name = name       # composition! Person has-a name\n",
    "        \n",
    "    def greet(self):\n",
    "        return f'Hello, {self.name}!'\n",
    "        \n",
    "p1 = Person('name1')        \n",
    "p2 = Person('name2')\n",
    "p3 = Person('name3')\n",
    "\n",
    "print(p1.greet())\n",
    "print(p2.greet())\n",
    "\n",
    "\n",
    "class Employee(Person):   # Employee is-a Person, because we inherit from Person\n",
    "    def __init__(self, name, id_number):\n",
    "        super().__init__(name)      # ask the superclass (Person) to assign to self.name\n",
    "        self.id_number = id_number  \n",
    "        \n",
    "e1 = Employee('emp1', 1)        \n",
    "e2 = Employee('emp2', 2)\n",
    "e3 = Employee('emp3', 3)\n",
    "\n",
    "print(e1.greet()) # inheritance provides this -- ICPO rule (instance, class, parents, object)\n",
    "print(e2.greet())"
   ]
  },
  {
   "cell_type": "code",
   "execution_count": 14,
   "metadata": {},
   "outputs": [
    {
     "data": {
      "text/plain": [
       "{'name': 'name1'}"
      ]
     },
     "execution_count": 14,
     "metadata": {},
     "output_type": "execute_result"
    }
   ],
   "source": [
    "vars(p1)"
   ]
  },
  {
   "cell_type": "code",
   "execution_count": 16,
   "metadata": {},
   "outputs": [
    {
     "data": {
      "text/plain": [
       "{'name': 'emp1', 'id_number': 1}"
      ]
     },
     "execution_count": 16,
     "metadata": {},
     "output_type": "execute_result"
    }
   ],
   "source": [
    "vars(e1)"
   ]
  },
  {
   "cell_type": "markdown",
   "metadata": {},
   "source": [
    "# Behavioral: Iterator\n",
    "\n",
    "The Iterator design pattern ensures that objects will all be able to run in a `for` loop. \n",
    "\n",
    "How does a `for` loop work in Python?\n",
    "\n",
    "1. `for` turns to the object at the end of the line, and asks if it is iterable:\n",
    "    - If yes, then `for` asks for the iterator object back\n",
    "    - If no, then the program ends with a `Type error`\n",
    "2. With the iterator object in place, we can then ask it for its next value.\n",
    "3. When all of the values are done, we get a `StopIteration` exception."
   ]
  },
  {
   "cell_type": "code",
   "execution_count": 17,
   "metadata": {},
   "outputs": [
    {
     "name": "stdout",
     "output_type": "stream",
     "text": [
      "a\n",
      "b\n",
      "c\n",
      "d\n"
     ]
    }
   ],
   "source": [
    "for one_item in 'abcd':\n",
    "    print(one_item)"
   ]
  },
  {
   "cell_type": "code",
   "execution_count": 20,
   "metadata": {},
   "outputs": [],
   "source": [
    "# ask the object if it's iterable with \"iter\"\n",
    "s = 'abcd'\n",
    "i = iter(s)"
   ]
  },
  {
   "cell_type": "code",
   "execution_count": 19,
   "metadata": {},
   "outputs": [
    {
     "ename": "TypeError",
     "evalue": "'int' object is not iterable",
     "output_type": "error",
     "traceback": [
      "\u001b[0;31m---------------------------------------------------------------------------\u001b[0m",
      "\u001b[0;31mTypeError\u001b[0m                                 Traceback (most recent call last)",
      "\u001b[0;32m/var/folders/rr/0mnyyv811fs5vyp22gf4fxk00000gn/T/ipykernel_60932/3099153963.py\u001b[0m in \u001b[0;36m<module>\u001b[0;34m\u001b[0m\n\u001b[0;32m----> 1\u001b[0;31m \u001b[0miter\u001b[0m\u001b[0;34m(\u001b[0m\u001b[0;36m3\u001b[0m\u001b[0;34m)\u001b[0m\u001b[0;34m\u001b[0m\u001b[0;34m\u001b[0m\u001b[0m\n\u001b[0m",
      "\u001b[0;31mTypeError\u001b[0m: 'int' object is not iterable"
     ]
    }
   ],
   "source": [
    "iter(3)"
   ]
  },
  {
   "cell_type": "code",
   "execution_count": 21,
   "metadata": {},
   "outputs": [
    {
     "name": "stdout",
     "output_type": "stream",
     "text": [
      "a\n"
     ]
    }
   ],
   "source": [
    "# ask, repeatedly for the next item\n",
    "\n",
    "print(next(i))"
   ]
  },
  {
   "cell_type": "code",
   "execution_count": 22,
   "metadata": {},
   "outputs": [
    {
     "name": "stdout",
     "output_type": "stream",
     "text": [
      "b\n"
     ]
    }
   ],
   "source": [
    "print(next(i))"
   ]
  },
  {
   "cell_type": "code",
   "execution_count": 23,
   "metadata": {},
   "outputs": [
    {
     "name": "stdout",
     "output_type": "stream",
     "text": [
      "c\n"
     ]
    }
   ],
   "source": [
    "print(next(i))"
   ]
  },
  {
   "cell_type": "code",
   "execution_count": 24,
   "metadata": {},
   "outputs": [
    {
     "name": "stdout",
     "output_type": "stream",
     "text": [
      "d\n"
     ]
    }
   ],
   "source": [
    "print(next(i))"
   ]
  },
  {
   "cell_type": "code",
   "execution_count": 25,
   "metadata": {},
   "outputs": [
    {
     "ename": "StopIteration",
     "evalue": "",
     "output_type": "error",
     "traceback": [
      "\u001b[0;31m---------------------------------------------------------------------------\u001b[0m",
      "\u001b[0;31mStopIteration\u001b[0m                             Traceback (most recent call last)",
      "\u001b[0;32m/var/folders/rr/0mnyyv811fs5vyp22gf4fxk00000gn/T/ipykernel_60932/3021917106.py\u001b[0m in \u001b[0;36m<module>\u001b[0;34m\u001b[0m\n\u001b[0;32m----> 1\u001b[0;31m \u001b[0mprint\u001b[0m\u001b[0;34m(\u001b[0m\u001b[0mnext\u001b[0m\u001b[0;34m(\u001b[0m\u001b[0mi\u001b[0m\u001b[0;34m)\u001b[0m\u001b[0;34m)\u001b[0m\u001b[0;34m\u001b[0m\u001b[0;34m\u001b[0m\u001b[0m\n\u001b[0m",
      "\u001b[0;31mStopIteration\u001b[0m: "
     ]
    }
   ],
   "source": [
    "print(next(i))"
   ]
  },
  {
   "cell_type": "markdown",
   "metadata": {},
   "source": [
    "# Python iterator protocol\n",
    "\n",
    "1. Ask the object if it's iterable with `iter`.\n",
    "2. If so, then we get its iterator back.\n",
    "3. Ask the iterator, repeatedly, for `next`.\n",
    "4. When we are on the verge of `StopIteration`, then stop.\n"
   ]
  },
  {
   "cell_type": "code",
   "execution_count": 28,
   "metadata": {},
   "outputs": [
    {
     "name": "stdout",
     "output_type": "stream",
     "text": [
      "[LoudIterator] now in __init__\n",
      "[LoudIterator] Now in __iter__\n",
      "[LoudIterator] now in __next__\n",
      "a\n",
      "[LoudIterator] now in __next__\n",
      "b\n",
      "[LoudIterator] now in __next__\n",
      "c\n",
      "[LoudIterator] now in __next__\n",
      "d\n",
      "[LoudIterator] now in __next__\n",
      "[StopIteration] now exiting...\n"
     ]
    }
   ],
   "source": [
    "class LoudIterator:\n",
    "    def __init__(self, data):\n",
    "        print(f'[LoudIterator] now in __init__')\n",
    "        self.data = data\n",
    "        self.index = 0\n",
    "        \n",
    "    def __iter__(self):   # this is invoked when the `for` loop asks if we're iterable\n",
    "        print(f'[LoudIterator] Now in __iter__')\n",
    "        return self\n",
    "    \n",
    "    def __next__(self):   # this is invoked every time `for` asks for the next value\n",
    "        print(f'[LoudIterator] now in __next__')\n",
    "        if self.index >= len(self.data):\n",
    "            print(f'[StopIteration] now exiting...')\n",
    "            raise StopIteration\n",
    "            \n",
    "        value = self.data[self.index]\n",
    "        self.index += 1\n",
    "        return value\n",
    "        \n",
    "li = LoudIterator('abcd')\n",
    "\n",
    "for one_item in li:\n",
    "    print(one_item)"
   ]
  },
  {
   "cell_type": "code",
   "execution_count": 29,
   "metadata": {},
   "outputs": [
    {
     "name": "stdout",
     "output_type": "stream",
     "text": [
      "[LoudIterator] now in __init__\n",
      "**** A ****\n",
      "[LoudIterator] Now in __iter__\n",
      "[LoudIterator] now in __next__\n",
      "a\n",
      "[LoudIterator] now in __next__\n",
      "b\n",
      "[LoudIterator] now in __next__\n",
      "c\n",
      "[LoudIterator] now in __next__\n",
      "d\n",
      "[LoudIterator] now in __next__\n",
      "[StopIteration] now exiting...\n",
      "**** B ****\n",
      "[LoudIterator] Now in __iter__\n",
      "[LoudIterator] now in __next__\n",
      "[StopIteration] now exiting...\n"
     ]
    }
   ],
   "source": [
    "li = LoudIterator('abcd')\n",
    "\n",
    "print('**** A ****')        \n",
    "for one_item in li:\n",
    "    print(one_item)\n",
    "\n",
    "print('**** B ****')        \n",
    "for one_item in li:\n",
    "    print(one_item)"
   ]
  },
  {
   "cell_type": "code",
   "execution_count": 31,
   "metadata": {},
   "outputs": [
    {
     "name": "stdout",
     "output_type": "stream",
     "text": [
      "[LoudIterator] now in __init__\n",
      "[LoudIterator] Now in __iter__\n",
      "[LoudIterator] now in __next__\n",
      "a\n",
      "[LoudIterator] now in __next__\n",
      "b\n",
      "[LoudIterator] now in __next__\n",
      "c\n",
      "[LoudIterator] now in __next__\n",
      "d\n",
      "[LoudIterator] now in __next__\n",
      "[StopIteration] now exiting...\n",
      "[LoudIterator] Now in __iter__\n",
      "[LoudIterator] now in __next__\n",
      "a\n",
      "[LoudIterator] now in __next__\n",
      "b\n",
      "[LoudIterator] now in __next__\n",
      "c\n",
      "[LoudIterator] now in __next__\n",
      "d\n",
      "[LoudIterator] now in __next__\n",
      "[StopIteration] now exiting...\n"
     ]
    }
   ],
   "source": [
    "class LoudIterator:\n",
    "    def __init__(self, data):\n",
    "        print(f'[LoudIterator] now in __init__')\n",
    "        self.data = data\n",
    "        self.index = 0\n",
    "        \n",
    "    def __iter__(self):   # this is invoked when the `for` loop asks if we're iterable\n",
    "        self.index = 0\n",
    "        print(f'[LoudIterator] Now in __iter__')\n",
    "        return self\n",
    "    \n",
    "    def __next__(self):   # this is invoked every time `for` asks for the next value\n",
    "        print(f'[LoudIterator] now in __next__')\n",
    "        if self.index >= len(self.data):\n",
    "            print(f'[StopIteration] now exiting...')\n",
    "            raise StopIteration\n",
    "            \n",
    "        value = self.data[self.index]\n",
    "        self.index += 1\n",
    "        return value\n",
    "        \n",
    "li = LoudIterator('abcd')\n",
    "\n",
    "for one_item in li:\n",
    "    print(one_item)\n",
    "for one_item in li:\n",
    "    print(one_item)    "
   ]
  },
  {
   "cell_type": "code",
   "execution_count": 33,
   "metadata": {},
   "outputs": [
    {
     "name": "stdout",
     "output_type": "stream",
     "text": [
      "[LoudIterator] now in __init__\n",
      "[LoudIterator] Now in __iter__\n",
      "[LoudIteratorHelper] now in __init__\n",
      "[LoudIteratorHelper] now in __next__\n",
      "a\n",
      "[LoudIteratorHelper] now in __next__\n",
      "b\n",
      "[LoudIteratorHelper] now in __next__\n",
      "c\n",
      "[LoudIteratorHelper] now in __next__\n",
      "d\n",
      "[LoudIteratorHelper] now in __next__\n",
      "[StopIteration] now exiting...\n",
      "[LoudIterator] Now in __iter__\n",
      "[LoudIteratorHelper] now in __init__\n",
      "[LoudIteratorHelper] now in __next__\n",
      "a\n",
      "[LoudIteratorHelper] now in __next__\n",
      "b\n",
      "[LoudIteratorHelper] now in __next__\n",
      "c\n",
      "[LoudIteratorHelper] now in __next__\n",
      "d\n",
      "[LoudIteratorHelper] now in __next__\n",
      "[StopIteration] now exiting...\n"
     ]
    }
   ],
   "source": [
    "class LoudIteratorHelper:  # iterator\n",
    "    def __init__(self, data):\n",
    "        print(f'[LoudIteratorHelper] now in __init__')\n",
    "        self.data = data\n",
    "        self.index = 0\n",
    "\n",
    "    def __next__(self):   # this is invoked every time `for` asks for the next value\n",
    "        print(f'[LoudIteratorHelper] now in __next__')\n",
    "        if self.index >= len(self.data):\n",
    "            print(f'[StopIteration] now exiting...')\n",
    "            raise StopIteration\n",
    "            \n",
    "        value = self.data[self.index]\n",
    "        self.index += 1\n",
    "        return value\n",
    "    \n",
    "\n",
    "class LoudIterator:   # iterable\n",
    "    def __init__(self, data):\n",
    "        print(f'[LoudIterator] now in __init__')\n",
    "        self.data = data\n",
    "        \n",
    "    def __iter__(self):   # this is invoked when the `for` loop asks if we're iterable\n",
    "        print(f'[LoudIterator] Now in __iter__')\n",
    "        return LoudIteratorHelper(self.data)\n",
    "    \n",
    "        \n",
    "li = LoudIterator('abcd')\n",
    "\n",
    "for one_item in li:\n",
    "    print(one_item)\n",
    "for one_item in li:\n",
    "    print(one_item)    "
   ]
  },
  {
   "cell_type": "markdown",
   "metadata": {},
   "source": [
    "# Exercise: Circle\n",
    "\n",
    "1. Define a class, `Circle`, which takes two arguments:\n",
    "    - An iterable (string, list, tuple) called `data` \n",
    "    - An integer, `maxtimes`\n",
    "2. When someone iterates over an instance of `Circle`, we will get `maxtimes` elements back.\n",
    "3. If `maxtimes` is too big for `data`, then we should circle back to the start of `data` as necessary.\n",
    "4. Implement this with the two-class paradigm, with `Circle` and `CircleIterator`.\n",
    "\n",
    "Example:\n",
    "\n",
    "```python\n",
    "c = Circle('abcd', 7)\n",
    "\n",
    "for one_item in c:\n",
    "    print(one_item)\n",
    "    \n",
    "a\n",
    "b\n",
    "c\n",
    "d\n",
    "a\n",
    "b\n",
    "c\n",
    "```"
   ]
  },
  {
   "cell_type": "code",
   "execution_count": 36,
   "metadata": {},
   "outputs": [
    {
     "name": "stdout",
     "output_type": "stream",
     "text": [
      "*** A ***\n",
      "a\n",
      "b\n",
      "c\n",
      "d\n",
      "a\n",
      "b\n",
      "c\n",
      "*** B ***\n"
     ]
    }
   ],
   "source": [
    "class Circle:\n",
    "    def __init__(self, data, maxtimes):\n",
    "        self.data = data\n",
    "        self.maxtimes = maxtimes\n",
    "        self.index = 0\n",
    "        \n",
    "    def __iter__(self):   # where is __next__ implemented?  On me!\n",
    "        return self\n",
    "    \n",
    "    def __next__(self):\n",
    "        if self.index >= self.maxtimes:\n",
    "            raise StopIteration\n",
    "            \n",
    "        value = self.data[self.index % len(self.data)]\n",
    "        self.index += 1\n",
    "        return value\n",
    "    \n",
    "c = Circle('abcd', 7)    \n",
    "\n",
    "print('*** A ***')\n",
    "for one_item in c:\n",
    "    print(one_item)\n",
    "\n",
    "print('*** B ***')\n",
    "for one_item in c:\n",
    "    print(one_item)    "
   ]
  },
  {
   "cell_type": "code",
   "execution_count": 37,
   "metadata": {},
   "outputs": [
    {
     "name": "stdout",
     "output_type": "stream",
     "text": [
      "*** A ***\n",
      "a\n",
      "b\n",
      "c\n",
      "d\n",
      "a\n",
      "b\n",
      "c\n",
      "*** B ***\n",
      "a\n",
      "b\n",
      "c\n",
      "d\n",
      "a\n",
      "b\n",
      "c\n"
     ]
    }
   ],
   "source": [
    "class CircleIterator:\n",
    "    def __init__(self, data, maxtimes):\n",
    "        self.data = data\n",
    "        self.maxtimes = maxtimes\n",
    "        self.index = 0\n",
    "\n",
    "    def __next__(self):\n",
    "        if self.index >= self.maxtimes:\n",
    "            raise StopIteration\n",
    "            \n",
    "        value = self.data[self.index % len(self.data)]\n",
    "        self.index += 1\n",
    "        return value\n",
    "\n",
    "class Circle:\n",
    "    def __init__(self, data, maxtimes):\n",
    "        self.data = data\n",
    "        self.maxtimes = maxtimes\n",
    "        \n",
    "    def __iter__(self):\n",
    "        return CircleIterator(self.data, self.maxtimes)\n",
    "    \n",
    "    \n",
    "c = Circle('abcd', 7)    \n",
    "\n",
    "print('*** A ***')\n",
    "for one_item in c:\n",
    "    print(one_item)\n",
    "\n",
    "print('*** B ***')\n",
    "for one_item in c:\n",
    "    print(one_item)    "
   ]
  },
  {
   "cell_type": "code",
   "execution_count": 38,
   "metadata": {},
   "outputs": [
    {
     "name": "stdout",
     "output_type": "stream",
     "text": [
      "*** A ***\n",
      "a\n",
      "b\n",
      "c\n",
      "d\n",
      "a\n",
      "b\n",
      "c\n",
      "*** B ***\n",
      "a\n",
      "b\n",
      "c\n",
      "d\n",
      "a\n",
      "b\n",
      "c\n"
     ]
    }
   ],
   "source": [
    "class CircleIterator:\n",
    "    def __init__(self, circle):\n",
    "        self.circle = circle\n",
    "        self.index = 0\n",
    "\n",
    "    def __next__(self):\n",
    "        if self.index >= self.circle.maxtimes:\n",
    "            raise StopIteration\n",
    "            \n",
    "        value = self.circle.data[self.index % len(self.circle.data)]\n",
    "        self.index += 1\n",
    "        return value\n",
    "\n",
    "class Circle:\n",
    "    def __init__(self, data, maxtimes):\n",
    "        self.data = data\n",
    "        self.maxtimes = maxtimes\n",
    "        \n",
    "    def __iter__(self):\n",
    "        return CircleIterator(self)\n",
    "    \n",
    "    \n",
    "c = Circle('abcd', 7)    \n",
    "\n",
    "print('*** A ***')\n",
    "for one_item in c:\n",
    "    print(one_item)\n",
    "\n",
    "print('*** B ***')\n",
    "for one_item in c:\n",
    "    print(one_item)    "
   ]
  },
  {
   "cell_type": "markdown",
   "metadata": {},
   "source": [
    "# Pattern: Strategy \n",
    "\n",
    "We have several classes, each of which implements a different algorithm that we might want to employ. Each of those classes' algorithms is available using the same interface (API). We want to choose, at runtime, which of these algorithms will be used."
   ]
  },
  {
   "cell_type": "code",
   "execution_count": 39,
   "metadata": {},
   "outputs": [],
   "source": [
    "import numpy as np"
   ]
  },
  {
   "cell_type": "code",
   "execution_count": 40,
   "metadata": {},
   "outputs": [
    {
     "data": {
      "text/plain": [
       "array([10,  5,  3,  8, 18,  2,  6, 25, -4])"
      ]
     },
     "execution_count": 40,
     "metadata": {},
     "output_type": "execute_result"
    }
   ],
   "source": [
    "a = np.array([10, 5, 3, 8, 18, 2, 6, 25, -4])\n",
    "a"
   ]
  },
  {
   "cell_type": "code",
   "execution_count": 41,
   "metadata": {},
   "outputs": [],
   "source": [
    "a.sort()"
   ]
  },
  {
   "cell_type": "code",
   "execution_count": 42,
   "metadata": {},
   "outputs": [
    {
     "data": {
      "text/plain": [
       "array([-4,  2,  3,  5,  6,  8, 10, 18, 25])"
      ]
     },
     "execution_count": 42,
     "metadata": {},
     "output_type": "execute_result"
    }
   ],
   "source": [
    "a"
   ]
  },
  {
   "cell_type": "code",
   "execution_count": 43,
   "metadata": {
    "collapsed": true
   },
   "outputs": [
    {
     "name": "stdout",
     "output_type": "stream",
     "text": [
      "Help on built-in function sort:\n",
      "\n",
      "sort(...) method of numpy.ndarray instance\n",
      "    a.sort(axis=-1, kind=None, order=None)\n",
      "    \n",
      "    Sort an array in-place. Refer to `numpy.sort` for full documentation.\n",
      "    \n",
      "    Parameters\n",
      "    ----------\n",
      "    axis : int, optional\n",
      "        Axis along which to sort. Default is -1, which means sort along the\n",
      "        last axis.\n",
      "    kind : {'quicksort', 'mergesort', 'heapsort', 'stable'}, optional\n",
      "        Sorting algorithm. The default is 'quicksort'. Note that both 'stable'\n",
      "        and 'mergesort' use timsort under the covers and, in general, the\n",
      "        actual implementation will vary with datatype. The 'mergesort' option\n",
      "        is retained for backwards compatibility.\n",
      "    \n",
      "        .. versionchanged:: 1.15.0\n",
      "           The 'stable' option was added.\n",
      "    \n",
      "    order : str or list of str, optional\n",
      "        When `a` is an array with fields defined, this argument specifies\n",
      "        which fields to compare first, second, etc.  A single field can\n",
      "        be specified as a string, and not all fields need be specified,\n",
      "        but unspecified fields will still be used, in the order in which\n",
      "        they come up in the dtype, to break ties.\n",
      "    \n",
      "    See Also\n",
      "    --------\n",
      "    numpy.sort : Return a sorted copy of an array.\n",
      "    numpy.argsort : Indirect sort.\n",
      "    numpy.lexsort : Indirect stable sort on multiple keys.\n",
      "    numpy.searchsorted : Find elements in sorted array.\n",
      "    numpy.partition: Partial sort.\n",
      "    \n",
      "    Notes\n",
      "    -----\n",
      "    See `numpy.sort` for notes on the different sorting algorithms.\n",
      "    \n",
      "    Examples\n",
      "    --------\n",
      "    >>> a = np.array([[1,4], [3,1]])\n",
      "    >>> a.sort(axis=1)\n",
      "    >>> a\n",
      "    array([[1, 4],\n",
      "           [1, 3]])\n",
      "    >>> a.sort(axis=0)\n",
      "    >>> a\n",
      "    array([[1, 3],\n",
      "           [1, 4]])\n",
      "    \n",
      "    Use the `order` keyword to specify a field to use when sorting a\n",
      "    structured array:\n",
      "    \n",
      "    >>> a = np.array([('a', 2), ('c', 1)], dtype=[('x', 'S1'), ('y', int)])\n",
      "    >>> a.sort(order='y')\n",
      "    >>> a\n",
      "    array([(b'c', 1), (b'a', 2)],\n",
      "          dtype=[('x', 'S1'), ('y', '<i8')])\n",
      "\n"
     ]
    }
   ],
   "source": [
    "help(a.sort)"
   ]
  },
  {
   "cell_type": "code",
   "execution_count": 44,
   "metadata": {},
   "outputs": [],
   "source": [
    "a.sort(kind='quicksort')"
   ]
  },
  {
   "cell_type": "code",
   "execution_count": 45,
   "metadata": {},
   "outputs": [
    {
     "data": {
      "text/plain": [
       "array([-4,  2,  3,  5,  6,  8, 10, 18, 25])"
      ]
     },
     "execution_count": 45,
     "metadata": {},
     "output_type": "execute_result"
    }
   ],
   "source": [
    "a"
   ]
  },
  {
   "cell_type": "code",
   "execution_count": 46,
   "metadata": {},
   "outputs": [
    {
     "name": "stdout",
     "output_type": "stream",
     "text": [
      "Checking with len()\n"
     ]
    },
    {
     "data": {
      "text/plain": [
       "4"
      ]
     },
     "execution_count": 46,
     "metadata": {},
     "output_type": "execute_result"
    }
   ],
   "source": [
    "# In Strategy, each algorithm is implemented using a class that offers the same API.\n",
    "\n",
    "# In this example, I have several different clases, each of which offers the functionality of \n",
    "# measuring the length of a string.\n",
    "\n",
    "\n",
    "class UseLen:\n",
    "    def get_length(self, data):\n",
    "        print(f'Checking with len()')\n",
    "        return len(data)\n",
    "    \n",
    "class UseLoop:\n",
    "    def get_length(self, data):\n",
    "        print(f'Checking with loop')\n",
    "        total = 0\n",
    "        for one_item in data:\n",
    "            total += 1\n",
    "        return total\n",
    "    \n",
    "# The CheckLen class will allow us to choose from among these two (or other, if we have them)\n",
    "# options for algorithms\n",
    "\n",
    "class CheckLen:\n",
    "    def __init__(self, strategy):\n",
    "        self.strategy = strategy\n",
    "        \n",
    "    def get_length(self, data):\n",
    "        return self.strategy.get_length(data)\n",
    "    \n",
    "# to use Strategy, I choose which algorithm I want to use by creating a new instance (UseLen())\n",
    "# I then pass that instance to CheckLen() when I create it.\n",
    "# calling c.get_length will invoke get_length on the appropriate strategy, i.e., UseLen\n",
    "c = CheckLen(UseLen())    \n",
    "c.get_length('abcd')\n",
    "                   "
   ]
  },
  {
   "cell_type": "code",
   "execution_count": 47,
   "metadata": {},
   "outputs": [
    {
     "name": "stdout",
     "output_type": "stream",
     "text": [
      "Checking with loop\n"
     ]
    },
    {
     "data": {
      "text/plain": [
       "4"
      ]
     },
     "execution_count": 47,
     "metadata": {},
     "output_type": "execute_result"
    }
   ],
   "source": [
    "c = CheckLen(UseLoop())    \n",
    "c.get_length('abcd')"
   ]
  },
  {
   "cell_type": "markdown",
   "metadata": {},
   "source": [
    "# Exercise: Text integrity checker\n",
    "\n",
    "Sometimes, we want to check if a string has changed from a previous time we've looked at it. We're going to implement three different strategies for checking whether text has changed across time, and then we're going to let a user select from among those different strategies.  We're going to have:\n",
    "\n",
    "- `LenChecker` -- not a good way to check the integrity of our string -- use `len`\n",
    "- `Sha1Checker` -- applies the SHA1 algorithm to the text, using `hashlib.sha1`, returning the `hexdigest`\n",
    "- `MD5Checker` -- applies the MD5 algorithm to the text, using `hashlib.md5`, returning its `hexdigest`\n",
    "\n",
    "```python\n",
    "test = 'this is a test sentence'\n",
    "\n",
    "c = Checker(LenChecker())\n",
    "print(c.check(text))  # should give length\n",
    "\n",
    "c = Checker(Sha1Checker())\n",
    "print(c.check(text))  # should return hex digits for this text\n",
    "\n",
    "c = Checker(MD5Checker())\n",
    "print(c.check(text))  # again, return hex digits\n",
    "```"
   ]
  }
 ],
 "metadata": {
  "kernelspec": {
   "display_name": "Python 3 (ipykernel)",
   "language": "python",
   "name": "python3"
  },
  "language_info": {
   "codemirror_mode": {
    "name": "ipython",
    "version": 3
   },
   "file_extension": ".py",
   "mimetype": "text/x-python",
   "name": "python",
   "nbconvert_exporter": "python",
   "pygments_lexer": "ipython3",
   "version": "3.10.0"
  }
 },
 "nbformat": 4,
 "nbformat_minor": 4
}
