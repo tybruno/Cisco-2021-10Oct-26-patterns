{
 "cells": [
  {
   "cell_type": "markdown",
   "metadata": {},
   "source": [
    "# Agenda\n",
    "\n",
    "1. What are design patterns?\n",
    "2. Refresher on Python objects\n",
    "    - Relationships among objects\n",
    "    - Inheritance\n",
    "    - Composition\n",
    "3. Design pattern categories\n",
    "    - Behavioral\n",
    "    - Structural \n",
    "    - Creational    "
   ]
  },
  {
   "cell_type": "markdown",
   "metadata": {},
   "source": [
    "# What are design patterns?\n",
    "\n",
    "All of computer science is about *abstraction*.\n",
    "\n",
    "- I can take several actions, and wrap them up into a function. \n",
    "- I can take several pieces of data, and wrap them up into a new data structure.\n",
    "\n",
    "Design patterns allow us to apply the principle of abstraction to relationships among objects -- actually, patterns of relationships among objects.  If we see the same relationship in multiple programs, then we can give that relationship a name, and then use it to reason about that relationship in future programs.\n",
    "\n",
    "Patterns are about objects and classes, and how we can use them together to solve bigger and more interesting problems. But more importantly, so that we can **communicate** with other people on our team (and elsewhere) about these relationships.\n",
    "\n",
    "GoF (\"Gang of Four\") book called \"Design Patterns.\" "
   ]
  },
  {
   "cell_type": "code",
   "execution_count": null,
   "metadata": {},
   "outputs": [],
   "source": []
  }
 ],
 "metadata": {
  "kernelspec": {
   "display_name": "Python 3 (ipykernel)",
   "language": "python",
   "name": "python3"
  },
  "language_info": {
   "codemirror_mode": {
    "name": "ipython",
    "version": 3
   },
   "file_extension": ".py",
   "mimetype": "text/x-python",
   "name": "python",
   "nbconvert_exporter": "python",
   "pygments_lexer": "ipython3",
   "version": "3.10.0"
  }
 },
 "nbformat": 4,
 "nbformat_minor": 4
}
