{
 "cells": [
  {
   "cell_type": "markdown",
   "metadata": {},
   "source": [
    "# Agenda\n",
    "\n",
    "1. What are design patterns?\n",
    "2. Refresher on Python objects\n",
    "    - Relationships among objects\n",
    "    - Inheritance\n",
    "    - Composition\n",
    "3. Design pattern categories\n",
    "    - Behavioral\n",
    "    - Structural \n",
    "    - Creational    "
   ]
  },
  {
   "cell_type": "markdown",
   "metadata": {},
   "source": [
    "# What are design patterns?\n",
    "\n",
    "All of computer science is about *abstraction*.\n",
    "\n",
    "- I can take several actions, and wrap them up into a function. \n",
    "- I can take several pieces of data, and wrap them up into a new data structure.\n",
    "\n",
    "Design patterns allow us to apply the principle of abstraction to relationships among objects -- actually, patterns of relationships among objects.  If we see the same relationship in multiple programs, then we can give that relationship a name, and then use it to reason about that relationship in future programs.\n",
    "\n",
    "Patterns are about objects and classes, and how we can use them together to solve bigger and more interesting problems. But more importantly, so that we can **communicate** with other people on our team (and elsewhere) about these relationships.\n",
    "\n",
    "GoF (\"Gang of Four\") book called \"Design Patterns.\" "
   ]
  },
  {
   "cell_type": "markdown",
   "metadata": {},
   "source": [
    " # Object relationships\n",
    " \n",
    " - Composition -- one object owns another, or belongs to another.  This is super common in Python, expressed as having an attribute. The object `a` might have an attribute `b`, which we express as `a.b`.  This is composition, with `b` belonging to `a` or (if you prefer) `a` owning `b`.  This is known in the object trade as having a \"has-a\" relationship.  Person has-a name. Car has-a engine size. Book has-a author. Apple has-a price.\n",
    " - Inheritance -- this relationship means that one class is just like another class, with some exceptions. We can express this with the \"is-a\" relationship. The Child class inherits from the Parent class. The Car class inherits from the Vehicle class. We do this because cars are more specific than generic vehicles, but can still get some functionality (data and/or methods) from vehicles.\n",
    " \n",
    " Design patterns are built out of these two relationships.  \n",
    " "
   ]
  },
  {
   "cell_type": "code",
   "execution_count": 1,
   "metadata": {},
   "outputs": [],
   "source": [
    "class Person:\n",
    "    def __init__(self, name):\n",
    "        self.name = name       # composition! Person has-a name\n",
    "        \n",
    "p1 = Person('name1')        \n",
    "p2 = Person('name2')\n",
    "p3 = Person('name3')"
   ]
  },
  {
   "cell_type": "code",
   "execution_count": 2,
   "metadata": {},
   "outputs": [
    {
     "data": {
      "text/plain": [
       "'name1'"
      ]
     },
     "execution_count": 2,
     "metadata": {},
     "output_type": "execute_result"
    }
   ],
   "source": [
    "p1.name"
   ]
  },
  {
   "cell_type": "code",
   "execution_count": 3,
   "metadata": {},
   "outputs": [
    {
     "data": {
      "text/plain": [
       "'name2'"
      ]
     },
     "execution_count": 3,
     "metadata": {},
     "output_type": "execute_result"
    }
   ],
   "source": [
    "p2.name"
   ]
  },
  {
   "cell_type": "code",
   "execution_count": 4,
   "metadata": {},
   "outputs": [
    {
     "data": {
      "text/plain": [
       "'name3'"
      ]
     },
     "execution_count": 4,
     "metadata": {},
     "output_type": "execute_result"
    }
   ],
   "source": [
    "p3.name"
   ]
  },
  {
   "cell_type": "code",
   "execution_count": 5,
   "metadata": {},
   "outputs": [],
   "source": [
    "# Let's say that I want to have an Employee class \n",
    "# Employees are just like people, except that they also have an id_number attribute\n",
    "\n",
    "class Employee:\n",
    "    def __init__(self, name, id_number):\n",
    "        self.name = name       # composition! Person has-a name\n",
    "        self.id_number = id_number\n",
    "        \n",
    "e1 = Employee('emp1', 1)        \n",
    "e2 = Employee('emp2', 2)\n",
    "e3 = Employee('emp3', 3)"
   ]
  },
  {
   "cell_type": "code",
   "execution_count": 6,
   "metadata": {},
   "outputs": [
    {
     "data": {
      "text/plain": [
       "'emp1'"
      ]
     },
     "execution_count": 6,
     "metadata": {},
     "output_type": "execute_result"
    }
   ],
   "source": [
    "e1.name"
   ]
  },
  {
   "cell_type": "code",
   "execution_count": 7,
   "metadata": {},
   "outputs": [
    {
     "data": {
      "text/plain": [
       "1"
      ]
     },
     "execution_count": 7,
     "metadata": {},
     "output_type": "execute_result"
    }
   ],
   "source": [
    "e1.id_number"
   ]
  },
  {
   "cell_type": "code",
   "execution_count": 12,
   "metadata": {},
   "outputs": [
    {
     "name": "stdout",
     "output_type": "stream",
     "text": [
      "Hello, name1!\n",
      "Hello, name2!\n",
      "Hello, emp1!\n",
      "Hello, emp2!\n"
     ]
    }
   ],
   "source": [
    "class Person:\n",
    "    def __init__(self, name):\n",
    "        self.name = name       # composition! Person has-a name\n",
    "        \n",
    "    def greet(self):\n",
    "        return f'Hello, {self.name}!'\n",
    "        \n",
    "p1 = Person('name1')        \n",
    "p2 = Person('name2')\n",
    "p3 = Person('name3')\n",
    "\n",
    "print(p1.greet())\n",
    "print(p2.greet())\n",
    "\n",
    "\n",
    "class Employee(Person):   # Employee is-a Person, because we inherit from Person\n",
    "    def __init__(self, name, id_number):\n",
    "        super().__init__(name)      # ask the superclass (Person) to assign to self.name\n",
    "        self.id_number = id_number  \n",
    "        \n",
    "e1 = Employee('emp1', 1)        \n",
    "e2 = Employee('emp2', 2)\n",
    "e3 = Employee('emp3', 3)\n",
    "\n",
    "print(e1.greet()) # inheritance provides this -- ICPO rule (instance, class, parents, object)\n",
    "print(e2.greet())"
   ]
  },
  {
   "cell_type": "code",
   "execution_count": 14,
   "metadata": {},
   "outputs": [
    {
     "data": {
      "text/plain": [
       "{'name': 'name1'}"
      ]
     },
     "execution_count": 14,
     "metadata": {},
     "output_type": "execute_result"
    }
   ],
   "source": [
    "vars(p1)"
   ]
  },
  {
   "cell_type": "code",
   "execution_count": 16,
   "metadata": {},
   "outputs": [
    {
     "data": {
      "text/plain": [
       "{'name': 'emp1', 'id_number': 1}"
      ]
     },
     "execution_count": 16,
     "metadata": {},
     "output_type": "execute_result"
    }
   ],
   "source": [
    "vars(e1)"
   ]
  },
  {
   "cell_type": "markdown",
   "metadata": {},
   "source": [
    "# Behavioral: Iterator\n",
    "\n",
    "The Iterator design pattern ensures that objects will all be able to run in a `for` loop. \n",
    "\n",
    "How does a `for` loop work in Python?\n",
    "\n",
    "1. `for` turns to the object at the end of the line, and asks if it is iterable:\n",
    "    - If yes, then `for` asks for the iterator object back\n",
    "    - If no, then the program ends with a `Type error`\n",
    "2. With the iterator object in place, we can then ask it for its next value.\n",
    "3. When all of the values are done, we get a `StopIteration` exception."
   ]
  },
  {
   "cell_type": "code",
   "execution_count": 17,
   "metadata": {},
   "outputs": [
    {
     "name": "stdout",
     "output_type": "stream",
     "text": [
      "a\n",
      "b\n",
      "c\n",
      "d\n"
     ]
    }
   ],
   "source": [
    "for one_item in 'abcd':\n",
    "    print(one_item)"
   ]
  },
  {
   "cell_type": "code",
   "execution_count": 20,
   "metadata": {},
   "outputs": [],
   "source": [
    "# ask the object if it's iterable with \"iter\"\n",
    "s = 'abcd'\n",
    "i = iter(s)"
   ]
  },
  {
   "cell_type": "code",
   "execution_count": 19,
   "metadata": {},
   "outputs": [
    {
     "ename": "TypeError",
     "evalue": "'int' object is not iterable",
     "output_type": "error",
     "traceback": [
      "\u001b[0;31m---------------------------------------------------------------------------\u001b[0m",
      "\u001b[0;31mTypeError\u001b[0m                                 Traceback (most recent call last)",
      "\u001b[0;32m/var/folders/rr/0mnyyv811fs5vyp22gf4fxk00000gn/T/ipykernel_60932/3099153963.py\u001b[0m in \u001b[0;36m<module>\u001b[0;34m\u001b[0m\n\u001b[0;32m----> 1\u001b[0;31m \u001b[0miter\u001b[0m\u001b[0;34m(\u001b[0m\u001b[0;36m3\u001b[0m\u001b[0;34m)\u001b[0m\u001b[0;34m\u001b[0m\u001b[0;34m\u001b[0m\u001b[0m\n\u001b[0m",
      "\u001b[0;31mTypeError\u001b[0m: 'int' object is not iterable"
     ]
    }
   ],
   "source": [
    "iter(3)"
   ]
  },
  {
   "cell_type": "code",
   "execution_count": 21,
   "metadata": {},
   "outputs": [
    {
     "name": "stdout",
     "output_type": "stream",
     "text": [
      "a\n"
     ]
    }
   ],
   "source": [
    "# ask, repeatedly for the next item\n",
    "\n",
    "print(next(i))"
   ]
  },
  {
   "cell_type": "code",
   "execution_count": 22,
   "metadata": {},
   "outputs": [
    {
     "name": "stdout",
     "output_type": "stream",
     "text": [
      "b\n"
     ]
    }
   ],
   "source": [
    "print(next(i))"
   ]
  },
  {
   "cell_type": "code",
   "execution_count": 23,
   "metadata": {},
   "outputs": [
    {
     "name": "stdout",
     "output_type": "stream",
     "text": [
      "c\n"
     ]
    }
   ],
   "source": [
    "print(next(i))"
   ]
  },
  {
   "cell_type": "code",
   "execution_count": 24,
   "metadata": {},
   "outputs": [
    {
     "name": "stdout",
     "output_type": "stream",
     "text": [
      "d\n"
     ]
    }
   ],
   "source": [
    "print(next(i))"
   ]
  },
  {
   "cell_type": "code",
   "execution_count": 25,
   "metadata": {},
   "outputs": [
    {
     "ename": "StopIteration",
     "evalue": "",
     "output_type": "error",
     "traceback": [
      "\u001b[0;31m---------------------------------------------------------------------------\u001b[0m",
      "\u001b[0;31mStopIteration\u001b[0m                             Traceback (most recent call last)",
      "\u001b[0;32m/var/folders/rr/0mnyyv811fs5vyp22gf4fxk00000gn/T/ipykernel_60932/3021917106.py\u001b[0m in \u001b[0;36m<module>\u001b[0;34m\u001b[0m\n\u001b[0;32m----> 1\u001b[0;31m \u001b[0mprint\u001b[0m\u001b[0;34m(\u001b[0m\u001b[0mnext\u001b[0m\u001b[0;34m(\u001b[0m\u001b[0mi\u001b[0m\u001b[0;34m)\u001b[0m\u001b[0;34m)\u001b[0m\u001b[0;34m\u001b[0m\u001b[0;34m\u001b[0m\u001b[0m\n\u001b[0m",
      "\u001b[0;31mStopIteration\u001b[0m: "
     ]
    }
   ],
   "source": [
    "print(next(i))"
   ]
  },
  {
   "cell_type": "markdown",
   "metadata": {},
   "source": [
    "# Python iterator protocol\n",
    "\n",
    "1. Ask the object if it's iterable with `iter`.\n",
    "2. If so, then we get its iterator back.\n",
    "3. Ask the iterator, repeatedly, for `next`.\n",
    "4. When we are on the verge of `StopIteration`, then stop.\n"
   ]
  },
  {
   "cell_type": "code",
   "execution_count": 28,
   "metadata": {},
   "outputs": [
    {
     "name": "stdout",
     "output_type": "stream",
     "text": [
      "[LoudIterator] now in __init__\n",
      "[LoudIterator] Now in __iter__\n",
      "[LoudIterator] now in __next__\n",
      "a\n",
      "[LoudIterator] now in __next__\n",
      "b\n",
      "[LoudIterator] now in __next__\n",
      "c\n",
      "[LoudIterator] now in __next__\n",
      "d\n",
      "[LoudIterator] now in __next__\n",
      "[StopIteration] now exiting...\n"
     ]
    }
   ],
   "source": [
    "class LoudIterator:\n",
    "    def __init__(self, data):\n",
    "        print(f'[LoudIterator] now in __init__')\n",
    "        self.data = data\n",
    "        self.index = 0\n",
    "        \n",
    "    def __iter__(self):   # this is invoked when the `for` loop asks if we're iterable\n",
    "        print(f'[LoudIterator] Now in __iter__')\n",
    "        return self\n",
    "    \n",
    "    def __next__(self):   # this is invoked every time `for` asks for the next value\n",
    "        print(f'[LoudIterator] now in __next__')\n",
    "        if self.index >= len(self.data):\n",
    "            print(f'[StopIteration] now exiting...')\n",
    "            raise StopIteration\n",
    "            \n",
    "        value = self.data[self.index]\n",
    "        self.index += 1\n",
    "        return value\n",
    "        \n",
    "li = LoudIterator('abcd')\n",
    "\n",
    "for one_item in li:\n",
    "    print(one_item)"
   ]
  },
  {
   "cell_type": "code",
   "execution_count": 29,
   "metadata": {},
   "outputs": [
    {
     "name": "stdout",
     "output_type": "stream",
     "text": [
      "[LoudIterator] now in __init__\n",
      "**** A ****\n",
      "[LoudIterator] Now in __iter__\n",
      "[LoudIterator] now in __next__\n",
      "a\n",
      "[LoudIterator] now in __next__\n",
      "b\n",
      "[LoudIterator] now in __next__\n",
      "c\n",
      "[LoudIterator] now in __next__\n",
      "d\n",
      "[LoudIterator] now in __next__\n",
      "[StopIteration] now exiting...\n",
      "**** B ****\n",
      "[LoudIterator] Now in __iter__\n",
      "[LoudIterator] now in __next__\n",
      "[StopIteration] now exiting...\n"
     ]
    }
   ],
   "source": [
    "li = LoudIterator('abcd')\n",
    "\n",
    "print('**** A ****')        \n",
    "for one_item in li:\n",
    "    print(one_item)\n",
    "\n",
    "print('**** B ****')        \n",
    "for one_item in li:\n",
    "    print(one_item)"
   ]
  },
  {
   "cell_type": "code",
   "execution_count": 31,
   "metadata": {},
   "outputs": [
    {
     "name": "stdout",
     "output_type": "stream",
     "text": [
      "[LoudIterator] now in __init__\n",
      "[LoudIterator] Now in __iter__\n",
      "[LoudIterator] now in __next__\n",
      "a\n",
      "[LoudIterator] now in __next__\n",
      "b\n",
      "[LoudIterator] now in __next__\n",
      "c\n",
      "[LoudIterator] now in __next__\n",
      "d\n",
      "[LoudIterator] now in __next__\n",
      "[StopIteration] now exiting...\n",
      "[LoudIterator] Now in __iter__\n",
      "[LoudIterator] now in __next__\n",
      "a\n",
      "[LoudIterator] now in __next__\n",
      "b\n",
      "[LoudIterator] now in __next__\n",
      "c\n",
      "[LoudIterator] now in __next__\n",
      "d\n",
      "[LoudIterator] now in __next__\n",
      "[StopIteration] now exiting...\n"
     ]
    }
   ],
   "source": [
    "class LoudIterator:\n",
    "    def __init__(self, data):\n",
    "        print(f'[LoudIterator] now in __init__')\n",
    "        self.data = data\n",
    "        self.index = 0\n",
    "        \n",
    "    def __iter__(self):   # this is invoked when the `for` loop asks if we're iterable\n",
    "        self.index = 0\n",
    "        print(f'[LoudIterator] Now in __iter__')\n",
    "        return self\n",
    "    \n",
    "    def __next__(self):   # this is invoked every time `for` asks for the next value\n",
    "        print(f'[LoudIterator] now in __next__')\n",
    "        if self.index >= len(self.data):\n",
    "            print(f'[StopIteration] now exiting...')\n",
    "            raise StopIteration\n",
    "            \n",
    "        value = self.data[self.index]\n",
    "        self.index += 1\n",
    "        return value\n",
    "        \n",
    "li = LoudIterator('abcd')\n",
    "\n",
    "for one_item in li:\n",
    "    print(one_item)\n",
    "for one_item in li:\n",
    "    print(one_item)    "
   ]
  },
  {
   "cell_type": "code",
   "execution_count": 33,
   "metadata": {},
   "outputs": [
    {
     "name": "stdout",
     "output_type": "stream",
     "text": [
      "[LoudIterator] now in __init__\n",
      "[LoudIterator] Now in __iter__\n",
      "[LoudIteratorHelper] now in __init__\n",
      "[LoudIteratorHelper] now in __next__\n",
      "a\n",
      "[LoudIteratorHelper] now in __next__\n",
      "b\n",
      "[LoudIteratorHelper] now in __next__\n",
      "c\n",
      "[LoudIteratorHelper] now in __next__\n",
      "d\n",
      "[LoudIteratorHelper] now in __next__\n",
      "[StopIteration] now exiting...\n",
      "[LoudIterator] Now in __iter__\n",
      "[LoudIteratorHelper] now in __init__\n",
      "[LoudIteratorHelper] now in __next__\n",
      "a\n",
      "[LoudIteratorHelper] now in __next__\n",
      "b\n",
      "[LoudIteratorHelper] now in __next__\n",
      "c\n",
      "[LoudIteratorHelper] now in __next__\n",
      "d\n",
      "[LoudIteratorHelper] now in __next__\n",
      "[StopIteration] now exiting...\n"
     ]
    }
   ],
   "source": [
    "class LoudIteratorHelper:  # iterator\n",
    "    def __init__(self, data):\n",
    "        print(f'[LoudIteratorHelper] now in __init__')\n",
    "        self.data = data\n",
    "        self.index = 0\n",
    "\n",
    "    def __next__(self):   # this is invoked every time `for` asks for the next value\n",
    "        print(f'[LoudIteratorHelper] now in __next__')\n",
    "        if self.index >= len(self.data):\n",
    "            print(f'[StopIteration] now exiting...')\n",
    "            raise StopIteration\n",
    "            \n",
    "        value = self.data[self.index]\n",
    "        self.index += 1\n",
    "        return value\n",
    "    \n",
    "\n",
    "class LoudIterator:   # iterable\n",
    "    def __init__(self, data):\n",
    "        print(f'[LoudIterator] now in __init__')\n",
    "        self.data = data\n",
    "        \n",
    "    def __iter__(self):   # this is invoked when the `for` loop asks if we're iterable\n",
    "        print(f'[LoudIterator] Now in __iter__')\n",
    "        return LoudIteratorHelper(self.data)\n",
    "    \n",
    "        \n",
    "li = LoudIterator('abcd')\n",
    "\n",
    "for one_item in li:\n",
    "    print(one_item)\n",
    "for one_item in li:\n",
    "    print(one_item)    "
   ]
  },
  {
   "cell_type": "markdown",
   "metadata": {},
   "source": [
    "# Exercise: Circle\n",
    "\n",
    "1. Define a class, `Circle`, which takes two arguments:\n",
    "    - An iterable (string, list, tuple) called `data` \n",
    "    - An integer, `maxtimes`\n",
    "2. When someone iterates over an instance of `Circle`, we will get `maxtimes` elements back.\n",
    "3. If `maxtimes` is too big for `data`, then we should circle back to the start of `data` as necessary.\n",
    "4. Implement this with the two-class paradigm, with `Circle` and `CircleIterator`.\n",
    "\n",
    "Example:\n",
    "\n",
    "```python\n",
    "c = Circle('abcd', 7)\n",
    "\n",
    "for one_item in c:\n",
    "    print(one_item)\n",
    "    \n",
    "a\n",
    "b\n",
    "c\n",
    "d\n",
    "a\n",
    "b\n",
    "c\n",
    "```"
   ]
  },
  {
   "cell_type": "code",
   "execution_count": null,
   "metadata": {},
   "outputs": [],
   "source": [
    "class Circle:\n",
    "    def __init__(self, data, maxtimes):\n",
    "        self.data = data\n",
    "        self.maxtimes = maxtimes\n",
    "        self.index = 0\n",
    "        \n",
    "    def __iter__(self):   # where is __next__ implemented?  On me!\n",
    "        return self\n",
    "    \n",
    "    def __next__(self):\n",
    "        if self.index >= self.maxtimes:\n",
    "            raise StopIteration\n",
    "            \n",
    "        "
   ]
  }
 ],
 "metadata": {
  "kernelspec": {
   "display_name": "Python 3 (ipykernel)",
   "language": "python",
   "name": "python3"
  },
  "language_info": {
   "codemirror_mode": {
    "name": "ipython",
    "version": 3
   },
   "file_extension": ".py",
   "mimetype": "text/x-python",
   "name": "python",
   "nbconvert_exporter": "python",
   "pygments_lexer": "ipython3",
   "version": "3.10.0"
  }
 },
 "nbformat": 4,
 "nbformat_minor": 4
}
