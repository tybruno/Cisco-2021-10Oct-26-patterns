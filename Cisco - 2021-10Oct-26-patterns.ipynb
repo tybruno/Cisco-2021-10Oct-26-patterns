{
 "cells": [
  {
   "cell_type": "markdown",
   "metadata": {},
   "source": [
    "# Agenda\n",
    "\n",
    "1. What are design patterns?\n",
    "2. Refresher on Python objects\n",
    "    - Relationships among objects\n",
    "    - Inheritance\n",
    "    - Composition\n",
    "3. Design pattern categories\n",
    "    - Behavioral\n",
    "    - Structural \n",
    "    - Creational    "
   ]
  },
  {
   "cell_type": "markdown",
   "metadata": {},
   "source": [
    "# What are design patterns?\n",
    "\n",
    "All of computer science is about *abstraction*.\n",
    "\n",
    "- I can take several actions, and wrap them up into a function. \n",
    "- I can take several pieces of data, and wrap them up into a new data structure.\n",
    "\n",
    "Design patterns allow us to apply the principle of abstraction to relationships among objects -- actually, patterns of relationships among objects.  If we see the same relationship in multiple programs, then we can give that relationship a name, and then use it to reason about that relationship in future programs.\n",
    "\n",
    "Patterns are about objects and classes, and how we can use them together to solve bigger and more interesting problems. But more importantly, so that we can **communicate** with other people on our team (and elsewhere) about these relationships.\n",
    "\n",
    "GoF (\"Gang of Four\") book called \"Design Patterns.\" "
   ]
  },
  {
   "cell_type": "markdown",
   "metadata": {},
   "source": [
    " # Object relationships\n",
    " \n",
    " - Composition -- one object owns another, or belongs to another.  This is super common in Python, expressed as having an attribute. The object `a` might have an attribute `b`, which we express as `a.b`.  This is composition, with `b` belonging to `a` or (if you prefer) `a` owning `b`.  This is known in the object trade as having a \"has-a\" relationship.  Person has-a name. Car has-a engine size. Book has-a author. Apple has-a price.\n",
    " - Inheritance -- this relationship means that one class is just like another class, with some exceptions. We can express this with the \"is-a\" relationship. The Child class inherits from the Parent class. The Car class inherits from the Vehicle class. We do this because cars are more specific than generic vehicles, but can still get some functionality (data and/or methods) from vehicles.\n",
    " \n",
    " Design patterns are built out of these two relationships.  \n",
    " "
   ]
  },
  {
   "cell_type": "code",
   "execution_count": 1,
   "metadata": {},
   "outputs": [],
   "source": [
    "class Person:\n",
    "    def __init__(self, name):\n",
    "        self.name = name       # composition! Person has-a name\n",
    "        \n",
    "p1 = Person('name1')        \n",
    "p2 = Person('name2')\n",
    "p3 = Person('name3')"
   ]
  },
  {
   "cell_type": "code",
   "execution_count": 2,
   "metadata": {},
   "outputs": [
    {
     "data": {
      "text/plain": [
       "'name1'"
      ]
     },
     "execution_count": 2,
     "metadata": {},
     "output_type": "execute_result"
    }
   ],
   "source": [
    "p1.name"
   ]
  },
  {
   "cell_type": "code",
   "execution_count": 3,
   "metadata": {},
   "outputs": [
    {
     "data": {
      "text/plain": [
       "'name2'"
      ]
     },
     "execution_count": 3,
     "metadata": {},
     "output_type": "execute_result"
    }
   ],
   "source": [
    "p2.name"
   ]
  },
  {
   "cell_type": "code",
   "execution_count": 4,
   "metadata": {},
   "outputs": [
    {
     "data": {
      "text/plain": [
       "'name3'"
      ]
     },
     "execution_count": 4,
     "metadata": {},
     "output_type": "execute_result"
    }
   ],
   "source": [
    "p3.name"
   ]
  },
  {
   "cell_type": "code",
   "execution_count": 5,
   "metadata": {},
   "outputs": [],
   "source": [
    "# Let's say that I want to have an Employee class \n",
    "# Employees are just like people, except that they also have an id_number attribute\n",
    "\n",
    "class Employee:\n",
    "    def __init__(self, name, id_number):\n",
    "        self.name = name       # composition! Person has-a name\n",
    "        self.id_number = id_number\n",
    "        \n",
    "e1 = Employee('emp1', 1)        \n",
    "e2 = Employee('emp2', 2)\n",
    "e3 = Employee('emp3', 3)"
   ]
  },
  {
   "cell_type": "code",
   "execution_count": 6,
   "metadata": {},
   "outputs": [
    {
     "data": {
      "text/plain": [
       "'emp1'"
      ]
     },
     "execution_count": 6,
     "metadata": {},
     "output_type": "execute_result"
    }
   ],
   "source": [
    "e1.name"
   ]
  },
  {
   "cell_type": "code",
   "execution_count": 7,
   "metadata": {},
   "outputs": [
    {
     "data": {
      "text/plain": [
       "1"
      ]
     },
     "execution_count": 7,
     "metadata": {},
     "output_type": "execute_result"
    }
   ],
   "source": [
    "e1.id_number"
   ]
  },
  {
   "cell_type": "code",
   "execution_count": 12,
   "metadata": {},
   "outputs": [
    {
     "name": "stdout",
     "output_type": "stream",
     "text": [
      "Hello, name1!\n",
      "Hello, name2!\n",
      "Hello, emp1!\n",
      "Hello, emp2!\n"
     ]
    }
   ],
   "source": [
    "class Person:\n",
    "    def __init__(self, name):\n",
    "        self.name = name       # composition! Person has-a name\n",
    "        \n",
    "    def greet(self):\n",
    "        return f'Hello, {self.name}!'\n",
    "        \n",
    "p1 = Person('name1')        \n",
    "p2 = Person('name2')\n",
    "p3 = Person('name3')\n",
    "\n",
    "print(p1.greet())\n",
    "print(p2.greet())\n",
    "\n",
    "\n",
    "class Employee(Person):   # Employee is-a Person, because we inherit from Person\n",
    "    def __init__(self, name, id_number):\n",
    "        super().__init__(name)      # ask the superclass (Person) to assign to self.name\n",
    "        self.id_number = id_number  \n",
    "        \n",
    "e1 = Employee('emp1', 1)        \n",
    "e2 = Employee('emp2', 2)\n",
    "e3 = Employee('emp3', 3)\n",
    "\n",
    "print(e1.greet()) # inheritance provides this -- ICPO rule (instance, class, parents, object)\n",
    "print(e2.greet())"
   ]
  },
  {
   "cell_type": "code",
   "execution_count": 14,
   "metadata": {},
   "outputs": [
    {
     "data": {
      "text/plain": [
       "{'name': 'name1'}"
      ]
     },
     "execution_count": 14,
     "metadata": {},
     "output_type": "execute_result"
    }
   ],
   "source": [
    "vars(p1)"
   ]
  },
  {
   "cell_type": "code",
   "execution_count": 16,
   "metadata": {},
   "outputs": [
    {
     "data": {
      "text/plain": [
       "{'name': 'emp1', 'id_number': 1}"
      ]
     },
     "execution_count": 16,
     "metadata": {},
     "output_type": "execute_result"
    }
   ],
   "source": [
    "vars(e1)"
   ]
  },
  {
   "cell_type": "markdown",
   "metadata": {},
   "source": [
    "# Behavioral: Iterator\n",
    "\n",
    "The Iterator design pattern ensures that objects will all be able to run in a `for` loop. \n",
    "\n",
    "How does a `for` loop work in Python?\n",
    "\n",
    "1. `for` turns to the object at the end of the line, and asks if it is iterable:\n",
    "    - If yes, then `for` asks for the iterator object back\n",
    "    - If no, then the program ends with a `Type error`\n",
    "2. With the iterator object in place, we can then ask it for its next value.\n",
    "3. When all of the values are done, we get a `StopIteration` exception."
   ]
  },
  {
   "cell_type": "code",
   "execution_count": 17,
   "metadata": {},
   "outputs": [
    {
     "name": "stdout",
     "output_type": "stream",
     "text": [
      "a\n",
      "b\n",
      "c\n",
      "d\n"
     ]
    }
   ],
   "source": [
    "for one_item in 'abcd':\n",
    "    print(one_item)"
   ]
  },
  {
   "cell_type": "code",
   "execution_count": 20,
   "metadata": {},
   "outputs": [],
   "source": [
    "# ask the object if it's iterable with \"iter\"\n",
    "s = 'abcd'\n",
    "i = iter(s)"
   ]
  },
  {
   "cell_type": "code",
   "execution_count": 19,
   "metadata": {},
   "outputs": [
    {
     "ename": "TypeError",
     "evalue": "'int' object is not iterable",
     "output_type": "error",
     "traceback": [
      "\u001b[0;31m---------------------------------------------------------------------------\u001b[0m",
      "\u001b[0;31mTypeError\u001b[0m                                 Traceback (most recent call last)",
      "\u001b[0;32m/var/folders/rr/0mnyyv811fs5vyp22gf4fxk00000gn/T/ipykernel_60932/3099153963.py\u001b[0m in \u001b[0;36m<module>\u001b[0;34m\u001b[0m\n\u001b[0;32m----> 1\u001b[0;31m \u001b[0miter\u001b[0m\u001b[0;34m(\u001b[0m\u001b[0;36m3\u001b[0m\u001b[0;34m)\u001b[0m\u001b[0;34m\u001b[0m\u001b[0;34m\u001b[0m\u001b[0m\n\u001b[0m",
      "\u001b[0;31mTypeError\u001b[0m: 'int' object is not iterable"
     ]
    }
   ],
   "source": [
    "iter(3)"
   ]
  },
  {
   "cell_type": "code",
   "execution_count": 21,
   "metadata": {},
   "outputs": [
    {
     "name": "stdout",
     "output_type": "stream",
     "text": [
      "a\n"
     ]
    }
   ],
   "source": [
    "# ask, repeatedly for the next item\n",
    "\n",
    "print(next(i))"
   ]
  },
  {
   "cell_type": "code",
   "execution_count": 22,
   "metadata": {},
   "outputs": [
    {
     "name": "stdout",
     "output_type": "stream",
     "text": [
      "b\n"
     ]
    }
   ],
   "source": [
    "print(next(i))"
   ]
  },
  {
   "cell_type": "code",
   "execution_count": 23,
   "metadata": {},
   "outputs": [
    {
     "name": "stdout",
     "output_type": "stream",
     "text": [
      "c\n"
     ]
    }
   ],
   "source": [
    "print(next(i))"
   ]
  },
  {
   "cell_type": "code",
   "execution_count": 24,
   "metadata": {},
   "outputs": [
    {
     "name": "stdout",
     "output_type": "stream",
     "text": [
      "d\n"
     ]
    }
   ],
   "source": [
    "print(next(i))"
   ]
  },
  {
   "cell_type": "code",
   "execution_count": 25,
   "metadata": {},
   "outputs": [
    {
     "ename": "StopIteration",
     "evalue": "",
     "output_type": "error",
     "traceback": [
      "\u001b[0;31m---------------------------------------------------------------------------\u001b[0m",
      "\u001b[0;31mStopIteration\u001b[0m                             Traceback (most recent call last)",
      "\u001b[0;32m/var/folders/rr/0mnyyv811fs5vyp22gf4fxk00000gn/T/ipykernel_60932/3021917106.py\u001b[0m in \u001b[0;36m<module>\u001b[0;34m\u001b[0m\n\u001b[0;32m----> 1\u001b[0;31m \u001b[0mprint\u001b[0m\u001b[0;34m(\u001b[0m\u001b[0mnext\u001b[0m\u001b[0;34m(\u001b[0m\u001b[0mi\u001b[0m\u001b[0;34m)\u001b[0m\u001b[0;34m)\u001b[0m\u001b[0;34m\u001b[0m\u001b[0;34m\u001b[0m\u001b[0m\n\u001b[0m",
      "\u001b[0;31mStopIteration\u001b[0m: "
     ]
    }
   ],
   "source": [
    "print(next(i))"
   ]
  },
  {
   "cell_type": "markdown",
   "metadata": {},
   "source": [
    "# Python iterator protocol\n",
    "\n",
    "1. Ask the object if it's iterable with `iter`.\n",
    "2. If so, then we get its iterator back.\n",
    "3. Ask the iterator, repeatedly, for `next`.\n",
    "4. When we are on the verge of `StopIteration`, then stop.\n"
   ]
  },
  {
   "cell_type": "code",
   "execution_count": 28,
   "metadata": {},
   "outputs": [
    {
     "name": "stdout",
     "output_type": "stream",
     "text": [
      "[LoudIterator] now in __init__\n",
      "[LoudIterator] Now in __iter__\n",
      "[LoudIterator] now in __next__\n",
      "a\n",
      "[LoudIterator] now in __next__\n",
      "b\n",
      "[LoudIterator] now in __next__\n",
      "c\n",
      "[LoudIterator] now in __next__\n",
      "d\n",
      "[LoudIterator] now in __next__\n",
      "[StopIteration] now exiting...\n"
     ]
    }
   ],
   "source": [
    "class LoudIterator:\n",
    "    def __init__(self, data):\n",
    "        print(f'[LoudIterator] now in __init__')\n",
    "        self.data = data\n",
    "        self.index = 0\n",
    "        \n",
    "    def __iter__(self):   # this is invoked when the `for` loop asks if we're iterable\n",
    "        print(f'[LoudIterator] Now in __iter__')\n",
    "        return self\n",
    "    \n",
    "    def __next__(self):   # this is invoked every time `for` asks for the next value\n",
    "        print(f'[LoudIterator] now in __next__')\n",
    "        if self.index >= len(self.data):\n",
    "            print(f'[StopIteration] now exiting...')\n",
    "            raise StopIteration\n",
    "            \n",
    "        value = self.data[self.index]\n",
    "        self.index += 1\n",
    "        return value\n",
    "        \n",
    "li = LoudIterator('abcd')\n",
    "\n",
    "for one_item in li:\n",
    "    print(one_item)"
   ]
  },
  {
   "cell_type": "code",
   "execution_count": 29,
   "metadata": {},
   "outputs": [
    {
     "name": "stdout",
     "output_type": "stream",
     "text": [
      "[LoudIterator] now in __init__\n",
      "**** A ****\n",
      "[LoudIterator] Now in __iter__\n",
      "[LoudIterator] now in __next__\n",
      "a\n",
      "[LoudIterator] now in __next__\n",
      "b\n",
      "[LoudIterator] now in __next__\n",
      "c\n",
      "[LoudIterator] now in __next__\n",
      "d\n",
      "[LoudIterator] now in __next__\n",
      "[StopIteration] now exiting...\n",
      "**** B ****\n",
      "[LoudIterator] Now in __iter__\n",
      "[LoudIterator] now in __next__\n",
      "[StopIteration] now exiting...\n"
     ]
    }
   ],
   "source": [
    "li = LoudIterator('abcd')\n",
    "\n",
    "print('**** A ****')        \n",
    "for one_item in li:\n",
    "    print(one_item)\n",
    "\n",
    "print('**** B ****')        \n",
    "for one_item in li:\n",
    "    print(one_item)"
   ]
  },
  {
   "cell_type": "code",
   "execution_count": 31,
   "metadata": {},
   "outputs": [
    {
     "name": "stdout",
     "output_type": "stream",
     "text": [
      "[LoudIterator] now in __init__\n",
      "[LoudIterator] Now in __iter__\n",
      "[LoudIterator] now in __next__\n",
      "a\n",
      "[LoudIterator] now in __next__\n",
      "b\n",
      "[LoudIterator] now in __next__\n",
      "c\n",
      "[LoudIterator] now in __next__\n",
      "d\n",
      "[LoudIterator] now in __next__\n",
      "[StopIteration] now exiting...\n",
      "[LoudIterator] Now in __iter__\n",
      "[LoudIterator] now in __next__\n",
      "a\n",
      "[LoudIterator] now in __next__\n",
      "b\n",
      "[LoudIterator] now in __next__\n",
      "c\n",
      "[LoudIterator] now in __next__\n",
      "d\n",
      "[LoudIterator] now in __next__\n",
      "[StopIteration] now exiting...\n"
     ]
    }
   ],
   "source": [
    "class LoudIterator:\n",
    "    def __init__(self, data):\n",
    "        print(f'[LoudIterator] now in __init__')\n",
    "        self.data = data\n",
    "        self.index = 0\n",
    "        \n",
    "    def __iter__(self):   # this is invoked when the `for` loop asks if we're iterable\n",
    "        self.index = 0\n",
    "        print(f'[LoudIterator] Now in __iter__')\n",
    "        return self\n",
    "    \n",
    "    def __next__(self):   # this is invoked every time `for` asks for the next value\n",
    "        print(f'[LoudIterator] now in __next__')\n",
    "        if self.index >= len(self.data):\n",
    "            print(f'[StopIteration] now exiting...')\n",
    "            raise StopIteration\n",
    "            \n",
    "        value = self.data[self.index]\n",
    "        self.index += 1\n",
    "        return value\n",
    "        \n",
    "li = LoudIterator('abcd')\n",
    "\n",
    "for one_item in li:\n",
    "    print(one_item)\n",
    "for one_item in li:\n",
    "    print(one_item)    "
   ]
  },
  {
   "cell_type": "code",
   "execution_count": 33,
   "metadata": {},
   "outputs": [
    {
     "name": "stdout",
     "output_type": "stream",
     "text": [
      "[LoudIterator] now in __init__\n",
      "[LoudIterator] Now in __iter__\n",
      "[LoudIteratorHelper] now in __init__\n",
      "[LoudIteratorHelper] now in __next__\n",
      "a\n",
      "[LoudIteratorHelper] now in __next__\n",
      "b\n",
      "[LoudIteratorHelper] now in __next__\n",
      "c\n",
      "[LoudIteratorHelper] now in __next__\n",
      "d\n",
      "[LoudIteratorHelper] now in __next__\n",
      "[StopIteration] now exiting...\n",
      "[LoudIterator] Now in __iter__\n",
      "[LoudIteratorHelper] now in __init__\n",
      "[LoudIteratorHelper] now in __next__\n",
      "a\n",
      "[LoudIteratorHelper] now in __next__\n",
      "b\n",
      "[LoudIteratorHelper] now in __next__\n",
      "c\n",
      "[LoudIteratorHelper] now in __next__\n",
      "d\n",
      "[LoudIteratorHelper] now in __next__\n",
      "[StopIteration] now exiting...\n"
     ]
    }
   ],
   "source": [
    "class LoudIteratorHelper:  # iterator\n",
    "    def __init__(self, data):\n",
    "        print(f'[LoudIteratorHelper] now in __init__')\n",
    "        self.data = data\n",
    "        self.index = 0\n",
    "\n",
    "    def __next__(self):   # this is invoked every time `for` asks for the next value\n",
    "        print(f'[LoudIteratorHelper] now in __next__')\n",
    "        if self.index >= len(self.data):\n",
    "            print(f'[StopIteration] now exiting...')\n",
    "            raise StopIteration\n",
    "            \n",
    "        value = self.data[self.index]\n",
    "        self.index += 1\n",
    "        return value\n",
    "    \n",
    "\n",
    "class LoudIterator:   # iterable\n",
    "    def __init__(self, data):\n",
    "        print(f'[LoudIterator] now in __init__')\n",
    "        self.data = data\n",
    "        \n",
    "    def __iter__(self):   # this is invoked when the `for` loop asks if we're iterable\n",
    "        print(f'[LoudIterator] Now in __iter__')\n",
    "        return LoudIteratorHelper(self.data)\n",
    "    \n",
    "        \n",
    "li = LoudIterator('abcd')\n",
    "\n",
    "for one_item in li:\n",
    "    print(one_item)\n",
    "for one_item in li:\n",
    "    print(one_item)    "
   ]
  },
  {
   "cell_type": "markdown",
   "metadata": {},
   "source": [
    "# Exercise: Circle\n",
    "\n",
    "1. Define a class, `Circle`, which takes two arguments:\n",
    "    - An iterable (string, list, tuple) called `data` \n",
    "    - An integer, `maxtimes`\n",
    "2. When someone iterates over an instance of `Circle`, we will get `maxtimes` elements back.\n",
    "3. If `maxtimes` is too big for `data`, then we should circle back to the start of `data` as necessary.\n",
    "4. Implement this with the two-class paradigm, with `Circle` and `CircleIterator`.\n",
    "\n",
    "Example:\n",
    "\n",
    "```python\n",
    "c = Circle('abcd', 7)\n",
    "\n",
    "for one_item in c:\n",
    "    print(one_item)\n",
    "    \n",
    "a\n",
    "b\n",
    "c\n",
    "d\n",
    "a\n",
    "b\n",
    "c\n",
    "```"
   ]
  },
  {
   "cell_type": "code",
   "execution_count": 36,
   "metadata": {},
   "outputs": [
    {
     "name": "stdout",
     "output_type": "stream",
     "text": [
      "*** A ***\n",
      "a\n",
      "b\n",
      "c\n",
      "d\n",
      "a\n",
      "b\n",
      "c\n",
      "*** B ***\n"
     ]
    }
   ],
   "source": [
    "class Circle:\n",
    "    def __init__(self, data, maxtimes):\n",
    "        self.data = data\n",
    "        self.maxtimes = maxtimes\n",
    "        self.index = 0\n",
    "        \n",
    "    def __iter__(self):   # where is __next__ implemented?  On me!\n",
    "        return self\n",
    "    \n",
    "    def __next__(self):\n",
    "        if self.index >= self.maxtimes:\n",
    "            raise StopIteration\n",
    "            \n",
    "        value = self.data[self.index % len(self.data)]\n",
    "        self.index += 1\n",
    "        return value\n",
    "    \n",
    "c = Circle('abcd', 7)    \n",
    "\n",
    "print('*** A ***')\n",
    "for one_item in c:\n",
    "    print(one_item)\n",
    "\n",
    "print('*** B ***')\n",
    "for one_item in c:\n",
    "    print(one_item)    "
   ]
  },
  {
   "cell_type": "code",
   "execution_count": 37,
   "metadata": {},
   "outputs": [
    {
     "name": "stdout",
     "output_type": "stream",
     "text": [
      "*** A ***\n",
      "a\n",
      "b\n",
      "c\n",
      "d\n",
      "a\n",
      "b\n",
      "c\n",
      "*** B ***\n",
      "a\n",
      "b\n",
      "c\n",
      "d\n",
      "a\n",
      "b\n",
      "c\n"
     ]
    }
   ],
   "source": [
    "class CircleIterator:\n",
    "    def __init__(self, data, maxtimes):\n",
    "        self.data = data\n",
    "        self.maxtimes = maxtimes\n",
    "        self.index = 0\n",
    "\n",
    "    def __next__(self):\n",
    "        if self.index >= self.maxtimes:\n",
    "            raise StopIteration\n",
    "            \n",
    "        value = self.data[self.index % len(self.data)]\n",
    "        self.index += 1\n",
    "        return value\n",
    "\n",
    "class Circle:\n",
    "    def __init__(self, data, maxtimes):\n",
    "        self.data = data\n",
    "        self.maxtimes = maxtimes\n",
    "        \n",
    "    def __iter__(self):\n",
    "        return CircleIterator(self.data, self.maxtimes)\n",
    "    \n",
    "    \n",
    "c = Circle('abcd', 7)    \n",
    "\n",
    "print('*** A ***')\n",
    "for one_item in c:\n",
    "    print(one_item)\n",
    "\n",
    "print('*** B ***')\n",
    "for one_item in c:\n",
    "    print(one_item)    "
   ]
  },
  {
   "cell_type": "code",
   "execution_count": 38,
   "metadata": {},
   "outputs": [
    {
     "name": "stdout",
     "output_type": "stream",
     "text": [
      "*** A ***\n",
      "a\n",
      "b\n",
      "c\n",
      "d\n",
      "a\n",
      "b\n",
      "c\n",
      "*** B ***\n",
      "a\n",
      "b\n",
      "c\n",
      "d\n",
      "a\n",
      "b\n",
      "c\n"
     ]
    }
   ],
   "source": [
    "class CircleIterator:\n",
    "    def __init__(self, circle):\n",
    "        self.circle = circle\n",
    "        self.index = 0\n",
    "\n",
    "    def __next__(self):\n",
    "        if self.index >= self.circle.maxtimes:\n",
    "            raise StopIteration\n",
    "            \n",
    "        value = self.circle.data[self.index % len(self.circle.data)]\n",
    "        self.index += 1\n",
    "        return value\n",
    "\n",
    "class Circle:\n",
    "    def __init__(self, data, maxtimes):\n",
    "        self.data = data\n",
    "        self.maxtimes = maxtimes\n",
    "        \n",
    "    def __iter__(self):\n",
    "        return CircleIterator(self)\n",
    "    \n",
    "    \n",
    "c = Circle('abcd', 7)    \n",
    "\n",
    "print('*** A ***')\n",
    "for one_item in c:\n",
    "    print(one_item)\n",
    "\n",
    "print('*** B ***')\n",
    "for one_item in c:\n",
    "    print(one_item)    "
   ]
  },
  {
   "cell_type": "markdown",
   "metadata": {},
   "source": [
    "# Pattern: Strategy \n",
    "\n",
    "We have several classes, each of which implements a different algorithm that we might want to employ. Each of those classes' algorithms is available using the same interface (API). We want to choose, at runtime, which of these algorithms will be used."
   ]
  },
  {
   "cell_type": "code",
   "execution_count": 39,
   "metadata": {},
   "outputs": [],
   "source": [
    "import numpy as np"
   ]
  },
  {
   "cell_type": "code",
   "execution_count": 40,
   "metadata": {},
   "outputs": [
    {
     "data": {
      "text/plain": [
       "array([10,  5,  3,  8, 18,  2,  6, 25, -4])"
      ]
     },
     "execution_count": 40,
     "metadata": {},
     "output_type": "execute_result"
    }
   ],
   "source": [
    "a = np.array([10, 5, 3, 8, 18, 2, 6, 25, -4])\n",
    "a"
   ]
  },
  {
   "cell_type": "code",
   "execution_count": 41,
   "metadata": {},
   "outputs": [],
   "source": [
    "a.sort()"
   ]
  },
  {
   "cell_type": "code",
   "execution_count": 42,
   "metadata": {},
   "outputs": [
    {
     "data": {
      "text/plain": [
       "array([-4,  2,  3,  5,  6,  8, 10, 18, 25])"
      ]
     },
     "execution_count": 42,
     "metadata": {},
     "output_type": "execute_result"
    }
   ],
   "source": [
    "a"
   ]
  },
  {
   "cell_type": "code",
   "execution_count": 43,
   "metadata": {
    "collapsed": true
   },
   "outputs": [
    {
     "name": "stdout",
     "output_type": "stream",
     "text": [
      "Help on built-in function sort:\n",
      "\n",
      "sort(...) method of numpy.ndarray instance\n",
      "    a.sort(axis=-1, kind=None, order=None)\n",
      "    \n",
      "    Sort an array in-place. Refer to `numpy.sort` for full documentation.\n",
      "    \n",
      "    Parameters\n",
      "    ----------\n",
      "    axis : int, optional\n",
      "        Axis along which to sort. Default is -1, which means sort along the\n",
      "        last axis.\n",
      "    kind : {'quicksort', 'mergesort', 'heapsort', 'stable'}, optional\n",
      "        Sorting algorithm. The default is 'quicksort'. Note that both 'stable'\n",
      "        and 'mergesort' use timsort under the covers and, in general, the\n",
      "        actual implementation will vary with datatype. The 'mergesort' option\n",
      "        is retained for backwards compatibility.\n",
      "    \n",
      "        .. versionchanged:: 1.15.0\n",
      "           The 'stable' option was added.\n",
      "    \n",
      "    order : str or list of str, optional\n",
      "        When `a` is an array with fields defined, this argument specifies\n",
      "        which fields to compare first, second, etc.  A single field can\n",
      "        be specified as a string, and not all fields need be specified,\n",
      "        but unspecified fields will still be used, in the order in which\n",
      "        they come up in the dtype, to break ties.\n",
      "    \n",
      "    See Also\n",
      "    --------\n",
      "    numpy.sort : Return a sorted copy of an array.\n",
      "    numpy.argsort : Indirect sort.\n",
      "    numpy.lexsort : Indirect stable sort on multiple keys.\n",
      "    numpy.searchsorted : Find elements in sorted array.\n",
      "    numpy.partition: Partial sort.\n",
      "    \n",
      "    Notes\n",
      "    -----\n",
      "    See `numpy.sort` for notes on the different sorting algorithms.\n",
      "    \n",
      "    Examples\n",
      "    --------\n",
      "    >>> a = np.array([[1,4], [3,1]])\n",
      "    >>> a.sort(axis=1)\n",
      "    >>> a\n",
      "    array([[1, 4],\n",
      "           [1, 3]])\n",
      "    >>> a.sort(axis=0)\n",
      "    >>> a\n",
      "    array([[1, 3],\n",
      "           [1, 4]])\n",
      "    \n",
      "    Use the `order` keyword to specify a field to use when sorting a\n",
      "    structured array:\n",
      "    \n",
      "    >>> a = np.array([('a', 2), ('c', 1)], dtype=[('x', 'S1'), ('y', int)])\n",
      "    >>> a.sort(order='y')\n",
      "    >>> a\n",
      "    array([(b'c', 1), (b'a', 2)],\n",
      "          dtype=[('x', 'S1'), ('y', '<i8')])\n",
      "\n"
     ]
    }
   ],
   "source": [
    "help(a.sort)"
   ]
  },
  {
   "cell_type": "code",
   "execution_count": 44,
   "metadata": {},
   "outputs": [],
   "source": [
    "a.sort(kind='quicksort')"
   ]
  },
  {
   "cell_type": "code",
   "execution_count": 45,
   "metadata": {},
   "outputs": [
    {
     "data": {
      "text/plain": [
       "array([-4,  2,  3,  5,  6,  8, 10, 18, 25])"
      ]
     },
     "execution_count": 45,
     "metadata": {},
     "output_type": "execute_result"
    }
   ],
   "source": [
    "a"
   ]
  },
  {
   "cell_type": "code",
   "execution_count": 46,
   "metadata": {},
   "outputs": [
    {
     "name": "stdout",
     "output_type": "stream",
     "text": [
      "Checking with len()\n"
     ]
    },
    {
     "data": {
      "text/plain": [
       "4"
      ]
     },
     "execution_count": 46,
     "metadata": {},
     "output_type": "execute_result"
    }
   ],
   "source": [
    "# In Strategy, each algorithm is implemented using a class that offers the same API.\n",
    "\n",
    "# In this example, I have several different clases, each of which offers the functionality of \n",
    "# measuring the length of a string.\n",
    "\n",
    "\n",
    "class UseLen:\n",
    "    def get_length(self, data):\n",
    "        print(f'Checking with len()')\n",
    "        return len(data)\n",
    "    \n",
    "class UseLoop:\n",
    "    def get_length(self, data):\n",
    "        print(f'Checking with loop')\n",
    "        total = 0\n",
    "        for one_item in data:\n",
    "            total += 1\n",
    "        return total\n",
    "    \n",
    "# The CheckLen class will allow us to choose from among these two (or other, if we have them)\n",
    "# options for algorithms\n",
    "\n",
    "class CheckLen:\n",
    "    def __init__(self, strategy):\n",
    "        self.strategy = strategy\n",
    "        \n",
    "    def get_length(self, data):\n",
    "        return self.strategy.get_length(data)\n",
    "    \n",
    "# to use Strategy, I choose which algorithm I want to use by creating a new instance (UseLen())\n",
    "# I then pass that instance to CheckLen() when I create it.\n",
    "# calling c.get_length will invoke get_length on the appropriate strategy, i.e., UseLen\n",
    "c = CheckLen(UseLen())    \n",
    "c.get_length('abcd')\n",
    "                   "
   ]
  },
  {
   "cell_type": "code",
   "execution_count": 47,
   "metadata": {},
   "outputs": [
    {
     "name": "stdout",
     "output_type": "stream",
     "text": [
      "Checking with loop\n"
     ]
    },
    {
     "data": {
      "text/plain": [
       "4"
      ]
     },
     "execution_count": 47,
     "metadata": {},
     "output_type": "execute_result"
    }
   ],
   "source": [
    "c = CheckLen(UseLoop())    \n",
    "c.get_length('abcd')"
   ]
  },
  {
   "cell_type": "markdown",
   "metadata": {},
   "source": [
    "# Exercise: Text integrity checker\n",
    "\n",
    "Sometimes, we want to check if a string has changed from a previous time we've looked at it. We're going to implement three different strategies for checking whether text has changed across time, and then we're going to let a user select from among those different strategies.  We're going to have:\n",
    "\n",
    "- `LenChecker` -- not a good way to check the integrity of our string -- use `len`\n",
    "- `Sha1Checker` -- applies the SHA1 algorithm to the text, using `hashlib.sha1`, returning the `hexdigest`\n",
    "- `MD5Checker` -- applies the MD5 algorithm to the text, using `hashlib.md5`, returning its `hexdigest`\n",
    "\n",
    "```python\n",
    "test = 'this is a test sentence'\n",
    "\n",
    "c = Checker(LenChecker())\n",
    "print(c.check(text))  # should give length\n",
    "\n",
    "c = Checker(Sha1Checker())\n",
    "print(c.check(text))  # should return hex digits for this text\n",
    "\n",
    "c = Checker(MD5Checker())\n",
    "print(c.check(text))  # again, return hex digits\n",
    "```"
   ]
  },
  {
   "cell_type": "code",
   "execution_count": 48,
   "metadata": {},
   "outputs": [
    {
     "data": {
      "text/plain": [
       "'81fe8bfe87576c3ecb22426f8e57847382917acf'"
      ]
     },
     "execution_count": 48,
     "metadata": {},
     "output_type": "execute_result"
    }
   ],
   "source": [
    "import hashlib\n",
    "\n",
    "class LenChecker:\n",
    "    def check(self, data):\n",
    "        return len(data)\n",
    "    \n",
    "class Sha1Checker:\n",
    "    def check(self, data):\n",
    "        h = hashlib.sha1()\n",
    "        h.update(data.encode())\n",
    "        return h.hexdigest()\n",
    "    \n",
    "class MD5Checker:\n",
    "    def check(self, data):\n",
    "        h = hashlib.md5()\n",
    "        h.update(data.encode())\n",
    "        return h.hexdigest()\n",
    "    \n",
    "Sha1Checker().check('abcd')    "
   ]
  },
  {
   "cell_type": "code",
   "execution_count": 49,
   "metadata": {},
   "outputs": [
    {
     "data": {
      "text/plain": [
       "'e2fc714c4727ee9395f324cd2e7f331f'"
      ]
     },
     "execution_count": 49,
     "metadata": {},
     "output_type": "execute_result"
    }
   ],
   "source": [
    "MD5Checker().check('abcd')    "
   ]
  },
  {
   "cell_type": "code",
   "execution_count": 50,
   "metadata": {},
   "outputs": [
    {
     "data": {
      "text/plain": [
       "4"
      ]
     },
     "execution_count": 50,
     "metadata": {},
     "output_type": "execute_result"
    }
   ],
   "source": [
    "LenChecker().check('abcd')    "
   ]
  },
  {
   "cell_type": "code",
   "execution_count": 54,
   "metadata": {},
   "outputs": [
    {
     "name": "stdout",
     "output_type": "stream",
     "text": [
      "LenChecker  : 33\n",
      "MD5Checker  : eabfddcbb6ad72e277a24331c7704dc9\n",
      "Sha1Checker : bf244d5c9f413097631e526c64b5a8ba2815358f\n"
     ]
    }
   ],
   "source": [
    "class Checker:\n",
    "    def __init__(self, strategy):\n",
    "        self.strategy = strategy    # this will be an instance of LenChecker/MD5Checker/Sha1Checker\n",
    "    \n",
    "    def check(self, data):\n",
    "        return self.strategy.check(data)\n",
    "    \n",
    "s = 'this is a fantastic test sentence'    \n",
    "\n",
    "for one_strategy in [LenChecker, MD5Checker, Sha1Checker]:\n",
    "    result = Checker(one_strategy()).check(s)\n",
    "    print(f'{one_strategy.__name__:12}: {result}')"
   ]
  },
  {
   "cell_type": "code",
   "execution_count": 56,
   "metadata": {},
   "outputs": [
    {
     "data": {
      "text/plain": [
       "33"
      ]
     },
     "execution_count": 56,
     "metadata": {},
     "output_type": "execute_result"
    }
   ],
   "source": [
    "import hashlib\n",
    "\n",
    "def sha1_check(data):\n",
    "    h = hashlib.sha1()\n",
    "    h.update(data.encode())\n",
    "    return h.hexdigest()\n",
    "    \n",
    "def md5_check(data):\n",
    "    h = hashlib.md5()\n",
    "    h.update(data.encode())\n",
    "    return h.hexdigest()\n",
    "    \n",
    "# dispatch table\n",
    "strategies = {'len': len,\n",
    "              'sha1': sha1_check,\n",
    "              'md5': md5_check}\n",
    "\n",
    "strategies['len'](s)"
   ]
  },
  {
   "cell_type": "code",
   "execution_count": 58,
   "metadata": {},
   "outputs": [
    {
     "data": {
      "text/plain": [
       "33"
      ]
     },
     "execution_count": 58,
     "metadata": {},
     "output_type": "execute_result"
    }
   ],
   "source": [
    "class Check:\n",
    "    def __init__(self, strategy_name):\n",
    "        self.strategy = strategies[strategy_name]\n",
    "        \n",
    "    def check(self, data):\n",
    "        return self.strategy(data)\n",
    "    \n",
    "c = Check('len')    \n",
    "c.check(s)"
   ]
  },
  {
   "cell_type": "code",
   "execution_count": 59,
   "metadata": {},
   "outputs": [
    {
     "data": {
      "text/plain": [
       "33"
      ]
     },
     "execution_count": 59,
     "metadata": {},
     "output_type": "execute_result"
    }
   ],
   "source": [
    "c.strategy(s)"
   ]
  },
  {
   "cell_type": "markdown",
   "metadata": {},
   "source": [
    "# Next up\n",
    "\n",
    "1. Observers\n",
    "2. Adapter\n",
    "\n",
    "Resume at :05"
   ]
  },
  {
   "cell_type": "markdown",
   "metadata": {},
   "source": [
    "# Observer\n",
    "\n",
    "We have a class that will take action. Some other classes would like to know when those actions have been taken. Normally, we could hard-code these relationships. But we instead want to allow observers to register themselves at runtime.\n",
    "\n",
    "Meaning: Our main (action) class will start off with no observers. One or more observers will register themselves, and when the action of interest takes place, the action class will notify each observer in turn.\n",
    "\n",
    "This requires that (a) the action class provide an API that lets observers register, and (b) each observer implements a method (we'll call it `notify`) that lets them know when an action has taken place."
   ]
  },
  {
   "cell_type": "code",
   "execution_count": 60,
   "metadata": {},
   "outputs": [
    {
     "data": {
      "text/plain": [
       "True"
      ]
     },
     "execution_count": 60,
     "metadata": {},
     "output_type": "execute_result"
    }
   ],
   "source": [
    "class Access:\n",
    "    def __init__(self, userdict):\n",
    "        self.userdict = userdict   # dict of usernames and passwords (I know, never use cleartext passwords)\n",
    "        self.currently_online = set()\n",
    "        \n",
    "    def login(self, username, password):\n",
    "        if username in self.userdict and self.userdict[username] == password:\n",
    "            self.currently_online.add(username)\n",
    "            return True\n",
    "        else:\n",
    "            return False\n",
    "        \n",
    "    def logout(self, username):\n",
    "        if username in self.currently_online:\n",
    "            self.currently_online.remove(username)\n",
    "            return True\n",
    "        else:\n",
    "            return False\n",
    "        \n",
    "users = {'reuven':'12345',\n",
    "        'otheruser':'abcd',\n",
    "        'superuser':'ab12'}\n",
    "\n",
    "a = Access(users)\n",
    "a.login('reuven', '12345')"
   ]
  },
  {
   "cell_type": "code",
   "execution_count": 61,
   "metadata": {},
   "outputs": [
    {
     "data": {
      "text/plain": [
       "False"
      ]
     },
     "execution_count": 61,
     "metadata": {},
     "output_type": "execute_result"
    }
   ],
   "source": [
    "a.login('asfa', 'asdfsadf')"
   ]
  },
  {
   "cell_type": "code",
   "execution_count": 62,
   "metadata": {},
   "outputs": [
    {
     "data": {
      "text/plain": [
       "False"
      ]
     },
     "execution_count": 62,
     "metadata": {},
     "output_type": "execute_result"
    }
   ],
   "source": [
    "a.login('otheruser', 'sadfafd')"
   ]
  },
  {
   "cell_type": "code",
   "execution_count": 63,
   "metadata": {},
   "outputs": [
    {
     "data": {
      "text/plain": [
       "True"
      ]
     },
     "execution_count": 63,
     "metadata": {},
     "output_type": "execute_result"
    }
   ],
   "source": [
    "a.login('otheruser', 'abcd')"
   ]
  },
  {
   "cell_type": "code",
   "execution_count": 64,
   "metadata": {},
   "outputs": [
    {
     "data": {
      "text/plain": [
       "{'otheruser', 'reuven'}"
      ]
     },
     "execution_count": 64,
     "metadata": {},
     "output_type": "execute_result"
    }
   ],
   "source": [
    "a.currently_online"
   ]
  },
  {
   "cell_type": "code",
   "execution_count": 65,
   "metadata": {},
   "outputs": [
    {
     "data": {
      "text/plain": [
       "True"
      ]
     },
     "execution_count": 65,
     "metadata": {},
     "output_type": "execute_result"
    }
   ],
   "source": [
    "a.logout('reuven')"
   ]
  },
  {
   "cell_type": "code",
   "execution_count": 66,
   "metadata": {},
   "outputs": [
    {
     "data": {
      "text/plain": [
       "False"
      ]
     },
     "execution_count": 66,
     "metadata": {},
     "output_type": "execute_result"
    }
   ],
   "source": [
    "a.logout('reuven')"
   ]
  },
  {
   "cell_type": "code",
   "execution_count": 67,
   "metadata": {},
   "outputs": [
    {
     "data": {
      "text/plain": [
       "True"
      ]
     },
     "execution_count": 67,
     "metadata": {},
     "output_type": "execute_result"
    }
   ],
   "source": [
    "a.logout('otheruser')"
   ]
  },
  {
   "cell_type": "code",
   "execution_count": 68,
   "metadata": {},
   "outputs": [],
   "source": [
    "class Logger:\n",
    "    def __init__(self, filename):\n",
    "        self.filename = filename\n",
    "        \n",
    "    def log_message(self, message):\n",
    "        with open(self.filename, 'a') as f:\n",
    "            f.write(f'{message}\\n')\n",
    "            \n",
    "log = Logger('mylog.txt')            "
   ]
  },
  {
   "cell_type": "code",
   "execution_count": 69,
   "metadata": {},
   "outputs": [],
   "source": [
    "log.log_message('hello!')\n",
    "log.log_message('goodbye!')"
   ]
  },
  {
   "cell_type": "code",
   "execution_count": 70,
   "metadata": {},
   "outputs": [
    {
     "name": "stdout",
     "output_type": "stream",
     "text": [
      "hello!\r\n",
      "goodbye!\r\n"
     ]
    }
   ],
   "source": [
    "!cat mylog.txt"
   ]
  },
  {
   "cell_type": "code",
   "execution_count": 77,
   "metadata": {},
   "outputs": [
    {
     "data": {
      "text/plain": [
       "False"
      ]
     },
     "execution_count": 77,
     "metadata": {},
     "output_type": "execute_result"
    }
   ],
   "source": [
    "import time\n",
    "\n",
    "class Access:\n",
    "    def __init__(self, userdict):\n",
    "        self.userdict = userdict   # dict of usernames and passwords (I know, never use cleartext passwords)\n",
    "        self.currently_online = set()\n",
    "        self.observers = []        # list of observers\n",
    "        \n",
    "    def login(self, username, password):\n",
    "        if username in self.userdict and self.userdict[username] == password:\n",
    "            self.currently_online.add(username)\n",
    "            self.notify(f'{time.time()}\\t{username} logged in')\n",
    "            return True\n",
    "        else:\n",
    "            self.notify(f'{time.time()}\\t{username} FAILED TO log in')\n",
    "            return False\n",
    "        \n",
    "    def logout(self, username):\n",
    "        if username in self.currently_online:\n",
    "            self.currently_online.remove(username)\n",
    "            self.notify(f'{time.time()}\\t{username} logged out')\n",
    "            return True\n",
    "        else:\n",
    "            self.notify(f'{time.time()}\\t{username} FAILED TO log out')\n",
    "            return False\n",
    "        \n",
    "    def register_observer(self, new_observer):\n",
    "        self.observers.append(new_observer)\n",
    "        \n",
    "    def notify(self, message):\n",
    "        for one_observer in self.observers:\n",
    "            one_observer.notify(message)\n",
    "        \n",
    "users = {'reuven':'12345',\n",
    "        'otheruser':'abcd',\n",
    "        'superuser':'ab12'}\n",
    "\n",
    "\n",
    "class Logger:\n",
    "    def __init__(self, filename):\n",
    "        self.filename = filename\n",
    "        \n",
    "    def log_message(self, message):\n",
    "        with open(self.filename, 'a') as f:\n",
    "            f.write(f'{message}\\n')\n",
    "            \n",
    "    def notify(self, message):\n",
    "        self.log_message(message)\n",
    "            \n",
    "a = Access(users)\n",
    "\n",
    "log = Logger('mylog.txt')            \n",
    "a.register_observer(log)\n",
    "\n",
    "log2 = Logger('myotherlog.txt')\n",
    "a.register_observer(log2)\n",
    "\n",
    "a.login('reuven', '12345')     # log in for real\n",
    "a.login('reuven', '12345')     # try to log in a second time\n",
    "a.login('asfasf', 'asdfsafd')  # try to log -- bad username, bad password\n",
    "a.login('otheruser', 'a')      # try to log in with a bad password\n",
    "a.login('otheruser', 'abcd')   # try to log in with a bad password\n",
    "a.logout('reuven')\n",
    "a.logout('reuven')"
   ]
  },
  {
   "cell_type": "code",
   "execution_count": 78,
   "metadata": {},
   "outputs": [
    {
     "name": "stdout",
     "output_type": "stream",
     "text": [
      "1635261627.5549152\treuven logged in\r\n",
      "1635261627.555378\treuven logged in\r\n",
      "1635261627.555487\tasfasf FAILED TO log in\r\n",
      "1635261627.5555809\totheruser FAILED TO log in\r\n",
      "1635261627.555777\totheruser logged in\r\n",
      "1635261627.555962\treuven logged out\r\n",
      "1635261627.5561442\treuven FAILED TO log out\r\n",
      "1635261660.5942788\treuven logged in\r\n",
      "1635261660.595061\treuven logged in\r\n",
      "1635261660.595223\tasfasf FAILED TO log in\r\n",
      "1635261660.5954401\totheruser FAILED TO log in\r\n",
      "1635261660.595577\totheruser logged in\r\n",
      "1635261660.595801\treuven logged out\r\n",
      "1635261660.595988\treuven FAILED TO log out\r\n"
     ]
    }
   ],
   "source": [
    "!cat mylog.txt"
   ]
  },
  {
   "cell_type": "code",
   "execution_count": 79,
   "metadata": {},
   "outputs": [
    {
     "name": "stdout",
     "output_type": "stream",
     "text": [
      "1635261660.5942788\treuven logged in\r\n",
      "1635261660.595061\treuven logged in\r\n",
      "1635261660.595223\tasfasf FAILED TO log in\r\n",
      "1635261660.5954401\totheruser FAILED TO log in\r\n",
      "1635261660.595577\totheruser logged in\r\n",
      "1635261660.595801\treuven logged out\r\n",
      "1635261660.595988\treuven FAILED TO log out\r\n"
     ]
    }
   ],
   "source": [
    "!cat myotherlog.txt"
   ]
  },
  {
   "cell_type": "markdown",
   "metadata": {},
   "source": [
    "# Exercise: Online store\n",
    "\n",
    "1. Define a `Store` class.\n",
    "2. Define a method, `add_product`, which lets you add one product to the store. The store should contain a dict, `products`, in which the keys are product names and the values are product prices.\n",
    "3. Create a new store, and add several products.\n",
    "4. Add a new method, `purchase`. This method will take two arguments, the name of the product and the quantity. \n",
    "5. This will return the price for buying that product at that quantity. \n",
    "6. If the product does not exist in the store, then return None.\n",
    "7. Create a `PurchaseLog` class. Each instance of `PurchaseLog` will keep track of the purchases at our store.  This will need a `notify` method, which will write messages to the file.\n",
    "8. Create an instance of `PurchaseLog`, and have it register itself as an observer of the `Store`.\n",
    "9. When someone purchases a product, notify all of the observers. Send the string indicating (a) product name, (b) purchase quantity, (c) price for one, and (d) total price for that quantity."
   ]
  },
  {
   "cell_type": "code",
   "execution_count": 82,
   "metadata": {},
   "outputs": [],
   "source": [
    "class Store:\n",
    "    def __init__(self):\n",
    "        self.products = {}\n",
    "        self.observers = []\n",
    "        \n",
    "    def add_product(self, name, price):\n",
    "        self.products[name] = price\n",
    "        \n",
    "    def purchase(self, name, quantity):\n",
    "        if name in self.products:\n",
    "            price = self.products[name]\n",
    "            self.notify(f'{name}\\t{quantity}\\t{price}\\t{price*quantity}')\n",
    "            return price * quantity\n",
    "        else:\n",
    "            self.notify(f'Wanted to buy {name}, but we do not carry it!')\n",
    "            return None\n",
    "        \n",
    "    def register_observer(self, new_observer):\n",
    "        self.observers.append(new_observer)\n",
    "        \n",
    "    def notify(self, message):\n",
    "        for one_observer in self.observers:\n",
    "            one_observer.notify(message)\n",
    "        \n",
    "s = Store()\n",
    "s.add_product('apple', 5)\n",
    "s.add_product('banana', 2)\n",
    "s.add_product('cucumber', 1)"
   ]
  },
  {
   "cell_type": "code",
   "execution_count": 85,
   "metadata": {},
   "outputs": [],
   "source": [
    "import time\n",
    "\n",
    "class PurchaseLog:\n",
    "    def __init__(self, filename):\n",
    "        self.f = filename\n",
    "        \n",
    "    def notify(self, message):\n",
    "        with open(self.f, 'a') as outfile:\n",
    "            outfile.write(f'{time.time()}\\t{message}\\n')\n",
    "            \n",
    "p = PurchaseLog('purchaselog.txt')            \n",
    "s.register_observer(p)"
   ]
  },
  {
   "cell_type": "code",
   "execution_count": 86,
   "metadata": {},
   "outputs": [],
   "source": [
    "s.purchase('apple', 3)\n",
    "s.purchase('banana', 5)\n",
    "s.purchase('cucumber', 6)\n",
    "s.purchase('elephant', 1)"
   ]
  },
  {
   "cell_type": "code",
   "execution_count": 87,
   "metadata": {},
   "outputs": [
    {
     "name": "stdout",
     "output_type": "stream",
     "text": [
      "1635263824.069123\tapple\t3\t5\t15\r\n",
      "1635263824.0693572\tbanana\t5\t2\t10\r\n",
      "1635263824.069466\tcucumber\t6\t1\t6\r\n",
      "1635263824.06957\tWanted to buy elephant, but we do not carry it!\r\n"
     ]
    }
   ],
   "source": [
    "!cat purchaselog.txt"
   ]
  },
  {
   "cell_type": "markdown",
   "metadata": {},
   "source": [
    "# Pattern: Adapter\n",
    "\n",
    "We have code that assumes a particular API on another object. That API changes -- either because the other object's API just changes (new version) or we're switching to a competitor with a different API.\n",
    "\n",
    "We could retool all of our existing code to use this new API. But that will be time consuming and expensive. So instead, we'll have our code connect to an ADAPTER, which will then connect to the new service/API.\n",
    "\n",
    "This means that our existing code can remain untouched. We just need to be sure to connect via the adapter, rather than directly to the new API."
   ]
  },
  {
   "cell_type": "code",
   "execution_count": 88,
   "metadata": {},
   "outputs": [],
   "source": [
    "# Example: Configuration file reader\n",
    "\n",
    "# let's create a config file, with name=value on each line\n",
    "\n",
    "d = {'a':1, 'b':2, 'c':3}\n",
    "with open('myconfig.txt', 'w') as f:\n",
    "    for key, value in d.items():\n",
    "        f.write(f'{key}={value}\\n')"
   ]
  },
  {
   "cell_type": "code",
   "execution_count": 89,
   "metadata": {},
   "outputs": [
    {
     "name": "stdout",
     "output_type": "stream",
     "text": [
      "a=1\r\n",
      "b=2\r\n",
      "c=3\r\n"
     ]
    }
   ],
   "source": [
    "!cat myconfig.txt"
   ]
  },
  {
   "cell_type": "code",
   "execution_count": 90,
   "metadata": {},
   "outputs": [
    {
     "data": {
      "text/plain": [
       "{'a': '1', 'b': '2', 'c': '3'}"
      ]
     },
     "execution_count": 90,
     "metadata": {},
     "output_type": "execute_result"
    }
   ],
   "source": [
    "class ConfigReader:\n",
    "    def __init__(self, filename):\n",
    "        self.filename = filename\n",
    "        \n",
    "    def get_config(self):\n",
    "        # use a dict comprehension to read from the file\n",
    "        return {one_line.split('=')[0] : one_line.split('=')[1].strip()\n",
    "                for one_line in open(self.filename) }\n",
    "    \n",
    "c = ConfigReader('myconfig.txt')    \n",
    "c.get_config()"
   ]
  },
  {
   "cell_type": "code",
   "execution_count": 92,
   "metadata": {},
   "outputs": [
    {
     "name": "stdout",
     "output_type": "stream",
     "text": [
      "('a', '1')\n",
      "('b', '2')\n",
      "('c', '3')\n"
     ]
    }
   ],
   "source": [
    "class NewConfigReader:\n",
    "    def __init__(self, filename):\n",
    "        self.file = open(filename)   # in the new API, the file is kept open!\n",
    "        \n",
    "    def __iter__(self):\n",
    "        return self\n",
    "    \n",
    "    def __next__(self):\n",
    "        next_line = self.file.readline()  # ask for the next line from the file\n",
    "        \n",
    "        if not next_line:  # if it's an empty string\n",
    "            raise StopIteration\n",
    "            \n",
    "        return tuple(next_line.strip().split('='))\n",
    "    \n",
    "nc = NewConfigReader('myconfig.txt')    \n",
    "for one_pair in nc:\n",
    "    print(one_pair)"
   ]
  },
  {
   "cell_type": "code",
   "execution_count": 99,
   "metadata": {},
   "outputs": [],
   "source": [
    "class ConfigAdapter:\n",
    "    def __init__(self, ncr):\n",
    "        self.ncr = ncr\n",
    "        \n",
    "    def get_config(self):      # emulate the API of our old ConfigReader class\n",
    "        return dict(self.ncr)  # use dict on an iterator of 2-element tuples to get a dict\n",
    "    \n",
    "ca = ConfigAdapter(NewConfigReader('myconfig.txt'))    "
   ]
  },
  {
   "cell_type": "code",
   "execution_count": 100,
   "metadata": {},
   "outputs": [
    {
     "data": {
      "text/plain": [
       "{'a': '1', 'b': '2', 'c': '3'}"
      ]
     },
     "execution_count": 100,
     "metadata": {},
     "output_type": "execute_result"
    }
   ],
   "source": [
    "ca.get_config()"
   ]
  },
  {
   "cell_type": "markdown",
   "metadata": {},
   "source": [
    "# Exercise: Prefix-postfix adapter\n",
    "\n",
    "Normally, we humans use \"infix notation\" in math, looking like `2 + 3`.  But there are other options:\n",
    "\n",
    "- In *prefix* notation, we say `+ 2 3`. This is used in the Lisp programming language, which lets us then say `+ 2 3 4 5` without any parentheses or additional uses of `+`.  This is known as \"Polish notation,\" because of the Polish mathematician who invented it.\n",
    "- In *postfix* notation, we say `2 3 +`. This is used on HP calculators, among other things. The advantage is that you can say `2 3 + 4 *` and it'll use the two topmost stack elements.  This is known as RPN, or Reverse Polish Notation.\n",
    "\n",
    "I want you to:\n",
    "- Write a class called `Calc` which has one method, `calculate`.  It takes a string. That string should be in the form of *prefix* notation, taking one operator and two numbers. (You can decide how many operators you really want to implement; `+` and `-` are sufficient.\n",
    "- Write a class called `RPNCalc`, which has one method, `calculate`. It also takes a string, but that should be in RPN.\n",
    "- Write a class called `RPNAdapter`, which takes an instance of `RPNCalc` as its argument.  You can then call `calculate` on your adapter, passing it a prefix-notation string.  It'll translate that into an RPN string, and return the result.\n",
    "\n",
    "```python\n",
    "c = RPNAdapter(RPNCalc())\n",
    "c.calculate('- 10 3')   # it'll return 7\n",
    "```"
   ]
  },
  {
   "cell_type": "code",
   "execution_count": 101,
   "metadata": {},
   "outputs": [
    {
     "data": {
      "text/plain": [
       "8"
      ]
     },
     "execution_count": 101,
     "metadata": {},
     "output_type": "execute_result"
    }
   ],
   "source": [
    "class Calc:   # prefix notation\n",
    "    def calculate(self, s):\n",
    "        op, first, second = s.split()  # I'm assuming it's a legit PN string\n",
    "        first = int(first)\n",
    "        second = int(second)\n",
    "\n",
    "        if op == '+':\n",
    "            return first + second\n",
    "        elif op == '-':\n",
    "            return first - second\n",
    "        else:\n",
    "            return f'Unknown operator {op}'\n",
    "        \n",
    "        \n",
    "Calc().calculate('+ 3 5')"
   ]
  },
  {
   "cell_type": "code",
   "execution_count": 102,
   "metadata": {},
   "outputs": [
    {
     "data": {
      "text/plain": [
       "8"
      ]
     },
     "execution_count": 102,
     "metadata": {},
     "output_type": "execute_result"
    }
   ],
   "source": [
    "class RPNCalc:   # postfix notation\n",
    "    def calculate(self, s):\n",
    "        first, second, op = s.split()  # I'm assuming it's a legit RPN string\n",
    "        first = int(first)\n",
    "        second = int(second)\n",
    "\n",
    "        if op == '+':\n",
    "            return first + second\n",
    "        elif op == '-':\n",
    "            return first - second\n",
    "        else:\n",
    "            return f'Unknown operator {op}'\n",
    "        \n",
    "        \n",
    "RPNCalc().calculate('3 5 +')"
   ]
  },
  {
   "cell_type": "code",
   "execution_count": 106,
   "metadata": {},
   "outputs": [
    {
     "data": {
      "text/plain": [
       "8"
      ]
     },
     "execution_count": 106,
     "metadata": {},
     "output_type": "execute_result"
    }
   ],
   "source": [
    "class RPNAdapter:\n",
    "    def __init__(self, rpn):\n",
    "        self.rpn = rpn\n",
    "        \n",
    "    def calculate(self, s):        # here, our adapter rewrites things!\n",
    "        op, first, second = s.split()\n",
    "        rpn_s = f'{first} {second} {op}'\n",
    "        \n",
    "        return self.rpn.calculate(rpn_s)\n",
    "\n",
    "c = RPNAdapter(RPNCalc())\n",
    "c.calculate('+ 3 5')  # it'll be rewritten, and thus work with our RPNCalc()"
   ]
  },
  {
   "cell_type": "markdown",
   "metadata": {},
   "source": [
    "# Next up\n",
    "\n",
    "- Proxies\n",
    "- Creation patterns\n",
    "\n",
    "1. Please fill out the course survey (see the chat, or click https://app.performitiv.com/fv2/cisco/ceoevt/VC00472735)\n",
    "2. We'll return in 1:15, at 1:55 p.m. Eastern"
   ]
  },
  {
   "cell_type": "markdown",
   "metadata": {},
   "source": [
    "# Proxy pattern\n",
    "\n",
    "Normally, my software connects to an object of some sort via an API. A proxy will sit between my object and that API, offering an identical (or subset of) that API.  The proxy can then filter/modify/cache/etc. the requests being made to the API, or the results being returned.\n",
    "\n",
    "This is different from the Adapter, in that the original API and the Proxy API are the same. By contrast, the Adapter changes the API that the destination object offers, making it look like the old, legacy object.\n",
    "\n"
   ]
  },
  {
   "cell_type": "code",
   "execution_count": 107,
   "metadata": {},
   "outputs": [],
   "source": [
    "# Example: Caching Web proxy (not following all of the official rules for proxies)\n",
    "\n",
    "import requests   # one of the most famous/popular Python packages -- you have to install it from PyPI\n",
    "\n",
    "r = requests.get('https://cisco.com/')"
   ]
  },
  {
   "cell_type": "code",
   "execution_count": 108,
   "metadata": {},
   "outputs": [
    {
     "data": {
      "text/plain": [
       "requests.models.Response"
      ]
     },
     "execution_count": 108,
     "metadata": {},
     "output_type": "execute_result"
    }
   ],
   "source": [
    "type(r)"
   ]
  },
  {
   "cell_type": "code",
   "execution_count": 109,
   "metadata": {
    "collapsed": true
   },
   "outputs": [
    {
     "data": {
      "text/plain": [
       "b'\\n\\n\\n\\n\\n\\n\\n\\n\\n\\n\\n\\n<!DOCTYPE html>\\n<html xmlns:fb=\"//www.facebook.com/2008/fbml\" xmlns:og=\"//opengraphprotocol.org/schema/\" lang=\"en\" xml:lang=\"en\"  class=\"no-touch no-js\">\\n\\n\\n\\n\\n\\n\\n\\n\\n\\n\\n\\n\\n\\n<head>\\n    <meta charset=\"utf-8\">\\n    <meta name=\"HandheldFriendly\" content=\"True\" />\\n    <meta name=\"MobileOptimized\" content=\"320\" />\\n    <meta name=\"viewport\" content=\"width=device-width, initial-scale=1.0\" />\\n\\n    \\n        <script tyle=\"text/javascript\" src=\"/content/dam/cdc/j/cdcrSwitch.js\"></script>\\n         \\n    \\n\\n\\n\\n\\n\\n\\n\\n\\n\\n\\n    <link rel=\"stylesheet\" href=\"/etc/designs/cdc/clientlibs/responsive/css/cisco-sans.min.css\" type=\"text/css\">\\n\\n\\n    \\n\\n\\n\\n\\n\\n\\n\\n\\n\\n    <link rel=\"stylesheet\" href=\"/etc/designs/cdc/clientlibs/responsive/css/homepage.min.css\" type=\"text/css\">\\n\\n\\n\\n\\n    \\n\\n\\n\\n\\n\\n\\n\\n\\n\\n\\n<script type=\"text/javascript\" src=\"/c/dam/cdc/t/ctm-core.js\"></script>\\n<script>\\n    window[\\'adrum-start-time\\'] = new Date().getTime();\\n    window.environ = \"prod\" ;\\n</script>\\n<script type=\"text/javascript\" src=\"/c/dam/cdc/j/personalization-init.js\"></script>\\n\\n\\n\\n\\n\\n\\n\\n    \\n\\n\\n\\n\\n\\n\\n\\n\\r\\n\\r\\n      <style id=\"targetable-styles\"  class=\"pzn-styles\">\\r\\n        .targetable, .mboxDefault, .targetable.hidden { visibility:hidden; }\\r\\n        .targetable { position:relative; }\\r\\n        .targetable.spinner > :not(.spinner-box) { opacity: 0 !important; }\\r\\n        .targetable.spinner > div.spinner-box { position: absolute; top: 50%; left: 50%;transform: translateX(-50%) translateY(-50%); }\\r\\n        div.spinner-box > div.spinner-wheel { position:relative; visibility:visible; width:4em; height:4em; border-radius:100%; border:.2em solid #cccccc; border-left-color:#049fd9; -webkit-animation: load 1.1s infinite linear; animation: load 1.1s infinite linear; } @-webkit-keyframes load{ 0%{ -ms-transform: rotate(7deg); -webkit-transform: rotate(7deg); transform: rotate(7deg); } 100%{ -ms-transform: rotate(360deg); -webkit-transform: rotate(360deg); transform: rotate(360deg); } } @keyframes load{ 0%{ -ms-transform: rotate(7deg); -webkit-transform: rotate(7deg); transform: rotate(7deg); } 100%{ -ms-transform: rotate(360deg); -webkit-transform: rotate(360deg); transform: rotate(360deg); } }\\r\\n        .targetable.obscured { visibility:visible; opacity:.1; transition: opacity 2s ease-in-out; -moz-transition: opacity 2s ease-in-out; -webkit-transition: opacity 2s ease-in-out; filter: blur(5px); -webkit-filter: blur(5px); -moz-filter: blur(5px); -o-filter: blur(5px); -ms-filter: blur(5px); filter: url(\\'data:image/svg+xml;utf9,<svg%20version=\\\\\"1.1\\\\\"%20xmlns=\\\\\"http://www.w3.org/2000/svg\\\\\"><filter%20id=\\\\\"blur\\\\\"><feGaussianBlur%20stdDeviation=\\\\\"3\\\\\"%20/></filter></svg>#blur\\'); filter: progid: DXImageTransform.Microsoft.Blur(PixelRadius=\\'5\\'); -webkit-transition: 2s -webkit-filter linear; -moz-transition: 2s -moz-filter linear; -o-transition: 2s -o-filter linear; }\\r\\n      </style>\\r\\n    \\r\\n\\r\\n\\r\\n  <script type=\"text/javascript\">\\r\\n  \\t\\tif (window.cpe === undefined) { window.cpe = {}; }\\r\\n\\t\\t  if (cpe.trgt === undefined) { cpe.trgt = {}; cpe.trgt.personalizationObj=null;}\\r\\n          cpe.trgt.personalizationObj={\\r\\n\\t\\t\\t              \\'hideMethod\\': \\'elements\\',\\n        \\'delayForData\\': true,\\n        \\'safetyTimeout\\': \\'4000\\',\\n        \\'async\\': true,\\n        \\'loadLocale\\': false,\\n        \\'loadCps\\': true,\\n        \\'loadVps\\': true,\\n        \\'loadProfound\\': true,\\n        \\'entity\\': \\'{\"id\":\"1531236473363629\",\"categoryId\":\"HomePages,HOME\"}\\',\\n        \\'loadBlueKai\\': true,\\n\\r\\n          }\\r\\n    </script>\\r\\n\\r\\n\\r\\n\\n    \\n    \\n\\n\\n\\n\\n\\n\\n\\n \\n    <title>Cisco - Networking, Cloud, and Cybersecurity Solutions</title>\\n    \\n    \\n    \\n    \\n    \\n\\n\\n\\n\\n\\n\\n\\n\\n\\n\\n\\n\\n\\n\\n\\n    <script type=\"application/ld+json\">\\r\\n[{\\r\\n  \"@context\": \"https://www.schema.org\",\\r\\n  \"@type\": \"Corporation\",\\r\\n  \"name\": \"Cisco - Global Home Page\",\\r\\n  \"url\": \"https://www.cisco.com\",\\r\\n  \"logo\": \"https://www.cisco.com/web/fw/i/logo-open-graph.gif\",\\r\\n  \"description\": \"Cisco is the worldwide leader in IT, networking, and cybersecurity solutions. We help companies of all sizes transform how people connect, communicate, and collaborate.\"\\r\\n},\\r\\n{\\r\\n  \"@context\": \"https://www.schema.org\",\\r\\n  \"@type\": \"WebSite\",\\r\\n  \"name\": \"Cisco\",\\r\\n  \"alternateName\": \"Cisco - Global Home Page\",\\r\\n  \"url\": \"https://www.cisco.com\",\\r\\n\"publisher\": {\"@type\": \"Corporation\",\\r\\n\"name\": \"Cisco\"},\\r\\n\"potentialAction\": {\"@type\":\"SearchAction\",\\r\\n\"target\":\"https://search.cisco.com/search?query={search_term}&locale=enUS&source=ggl_sitelinks_searchbox\",\\r\\n\"query-input\":\"required name=search_term\"}\\r\\n}]\\r\\n</script>\\r\\n\\n\\n    <meta http-equiv=\"Content-type\" content=\"text/html;charset=UTF-8\"  />\\n    <meta name=\"description\" content=\"Cisco delivers innovative software-defined networking, cloud, and security solutions to help transform your business, empowering an inclusive future for all. \"  />\\n    <meta name=\"title\" content=\"Cisco - Networking, Cloud, and Cybersecurity Solutions\"  />\\n    <meta name=\"templateName\" content=\"responsive_homepage\"  />\\n    <meta property=\"fb:app_id\" content=\"156494687694418\"  />\\n    <meta name=\"ioContentSource\" content=\"WEM\"  />\\n    <meta name=\"concept\" content=\"Welcome to Cisco\"  />\\n    <meta name=\"docType\" content=\"Cisco.com Default Home\"  />\\n    <meta name=\"iaPath\" content=\"cisco.com#Home Pages\"  />\\n    <meta name=\"contentType\" content=\"cisco.com#US#preSales\"  />\\n    <meta name=\"locale\" content=\"US\"  />\\n    <meta name=\"language\" content=\"en\"  />\\n    <meta name=\"country\" content=\"US\"  />\\n    <meta name=\"CCID_Page\" content=\"cc001784\"  />\\n    <meta name=\"date\" content=\"Tue Oct 26 08:22:32 PDT 2021\"  />\\n    <meta name=\"accessLevel\" content=\"Customer\"  />\\n    <meta name=\"accessLevel\" content=\"Guest\"  />\\n    <meta name=\"accessLevel\" content=\"Partner\"  />\\n    <meta name=\"entitlementExpression\" content=\"contains( &quot;0,1,2,3,4,7&quot; , $profileField[3] )\"  />\\n    <meta property=\"og:site_name\" content=\"Cisco\"  />\\n    <meta property=\"og:type\" content=\"website\"  />\\n    <meta property=\"og:title\" content=\"Cisco - Networking, Cloud, and Cybersecurity Solutions\"  />\\n    <meta property=\"og:description\" content=\"Cisco delivers innovative software-defined networking, cloud, and security solutions to help transform your business, empowering an inclusive future for all. \"  />\\n    <meta property=\"og:url\" content=\"https://www.cisco.com/c/en/us/index.html\"  />\\n    <link rel=\"canonical\" href=\"https://www.cisco.com\"/>\\n\\t<link rel=\"alternate\" hreflang=\"x-default\" href=\"https://www.cisco.com\"/><link rel=\"alternate\" hreflang=\"ja-jp\" href=\"https://www.cisco.com/c/ja_jp/index.html\"/>\\n<link rel=\"alternate\" hreflang=\"uk-ua\" href=\"https://www.cisco.com/c/uk_ua/index.html\"/>\\n<link rel=\"alternate\" hreflang=\"pt-br\" href=\"https://www.cisco.com/c/pt_br/index.html\"/>\\n<link rel=\"alternate\" hreflang=\"zh-tw\" href=\"https://www.cisco.com/c/zh_tw/index.html\"/>\\n<link rel=\"alternate\" hreflang=\"ru-ru\" href=\"https://www.cisco.com/c/ru_ru/index.html\"/>\\n<link rel=\"alternate\" hreflang=\"cs-cz\" href=\"https://www.cisco.com/c/cs_cz/index.html\"/>\\n<link rel=\"alternate\" hreflang=\"es-ar\" href=\"https://www.cisco.com/c/es_ar/index.html\"/>\\n<link rel=\"alternate\" hreflang=\"de-ch\" href=\"https://www.cisco.com/c/de_ch/index.html\"/>\\n<link rel=\"alternate\" hreflang=\"da-dk\" href=\"https://www.cisco.com/c/da_dk/index.html\"/>\\n<link rel=\"alternate\" hreflang=\"de-de\" href=\"https://www.cisco.com/c/de_de/index.html\"/>\\n<link rel=\"alternate\" hreflang=\"sv-se\" href=\"https://www.cisco.com/c/sv_se/index.html\"/>\\n<link rel=\"alternate\" hreflang=\"ar-eg\" href=\"https://www.cisco.com/c/ar_eg/index.html\"/>\\n<link rel=\"alternate\" hreflang=\"ar-sa\" href=\"https://www.cisco.com/c/ar_ae/index.html\"/>\\n<link rel=\"alternate\" hreflang=\"es-bo\" href=\"https://www.cisco.com/c/es_mx/index.html\"/>\\n<link rel=\"alternate\" hreflang=\"no-no\" href=\"https://www.cisco.com/c/no_no/index.html\"/>\\n<link rel=\"alternate\" hreflang=\"ko-kr\" href=\"https://www.cisco.com/c/ko_kr/index.html\"/>\\n<link rel=\"alternate\" hreflang=\"es-pe\" href=\"https://www.cisco.com/c/es_pe/index.html\"/>\\n<link rel=\"alternate\" hreflang=\"es-hn\" href=\"https://www.cisco.com/c/es_mx/index.html\"/>\\n<link rel=\"alternate\" hreflang=\"es-pa\" href=\"https://www.cisco.com/c/es_pa/index.html\"/>\\n<link rel=\"alternate\" hreflang=\"en-sa\" href=\"https://www.cisco.com/c/en_ae/index.html\"/>\\n<link rel=\"alternate\" hreflang=\"nl-nl\" href=\"https://www.cisco.com/c/nl_nl/index.html\"/>\\n<link rel=\"alternate\" hreflang=\"ro-ro\" href=\"https://www.cisco.com/c/ro_ro/index.html\"/>\\n<link rel=\"alternate\" hreflang=\"en-sg\" href=\"https://www.cisco.com/c/en_sg/index.html\"/>\\n<link rel=\"alternate\" hreflang=\"es-pr\" href=\"https://www.cisco.com/c/es_mx/index.html\"/>\\n<link rel=\"alternate\" hreflang=\"fr-fr\" href=\"https://www.cisco.com/c/fr_fr/index.html\"/>\\n<link rel=\"alternate\" hreflang=\"ru-kz\" href=\"https://www.cisco.com/c/ru_ru/index.html\"/>\\n<link rel=\"alternate\" hreflang=\"zh-cn\" href=\"https://www.cisco.com/c/zh_cn/index.html\"/>\\n<link rel=\"alternate\" hreflang=\"pt-pt\" href=\"https://www.cisco.com/c/pt_pt/index.html\"/>\\n<link rel=\"alternate\" hreflang=\"es-py\" href=\"https://www.cisco.com/c/es_mx/index.html\"/>\\n<link rel=\"alternate\" hreflang=\"es-gt\" href=\"https://www.cisco.com/c/es_mx/index.html\"/>\\n<link rel=\"alternate\" hreflang=\"en-ae\" href=\"https://www.cisco.com/c/en_ae/index.html\"/>\\n<link rel=\"alternate\" hreflang=\"de-at\" href=\"https://www.cisco.com/c/de_at/index.html\"/>\\n<link rel=\"alternate\" hreflang=\"es-ec\" href=\"https://www.cisco.com/c/es_ec/index.html\"/>\\n<link rel=\"alternate\" hreflang=\"en-in\" href=\"https://www.cisco.com/c/en_in/index.html\"/>\\n<link rel=\"alternate\" hreflang=\"en-il\" href=\"https://www.cisco.com/c/en_il/index.html\"/>\\n<link rel=\"alternate\" hreflang=\"en-be\" href=\"https://www.cisco.com/c/en_be/index.html\"/>\\n<link rel=\"alternate\" hreflang=\"en-qa\" href=\"https://www.cisco.com/c/en_ae/index.html\"/>\\n<link rel=\"alternate\" hreflang=\"es-ve\" href=\"https://www.cisco.com/c/es_mx/index.html\"/>\\n<link rel=\"alternate\" hreflang=\"en-id\" href=\"https://www.cisco.com/c/en_id/index.html\"/>\\n<link rel=\"alternate\" hreflang=\"es-es\" href=\"https://www.cisco.com/c/es_es/index.html\"/>\\n<link rel=\"alternate\" hreflang=\"en-au\" href=\"https://www.cisco.com/c/en_au/index.html\"/>\\n<link rel=\"alternate\" hreflang=\"es-ni\" href=\"https://www.cisco.com/c/es_mx/index.html\"/>\\n<link rel=\"alternate\" hreflang=\"ru-ua\" href=\"https://www.cisco.com/c/ru_ua/index.html\"/>\\n<link rel=\"alternate\" hreflang=\"en-ph\" href=\"https://www.cisco.com/c/en_ph/index.html\"/>\\n<link rel=\"alternate\" hreflang=\"en-hk\" href=\"https://www.cisco.com/c/en_hk/index.html\"/>\\n<link rel=\"alternate\" hreflang=\"es-mx\" href=\"https://www.cisco.com/c/es_mx/index.html\"/>\\n<link rel=\"alternate\" hreflang=\"en-za\" href=\"https://www.cisco.com/c/en_za/index.html\"/>\\n<link rel=\"alternate\" hreflang=\"en-ca\" href=\"https://www.cisco.com/c/en_ca/index.html\"/>\\n<link rel=\"alternate\" hreflang=\"ar-ae\" href=\"https://www.cisco.com/c/ar_ae/index.html\"/>\\n<link rel=\"alternate\" hreflang=\"pl-pl\" href=\"https://www.cisco.com/c/pl_pl/index.html\"/>\\n<link rel=\"alternate\" hreflang=\"fr-dz\" href=\"https://www.cisco.com/c/fr_dz/index.html\"/>\\n<link rel=\"alternate\" hreflang=\"es-uy\" href=\"https://www.cisco.com/c/es_mx/index.html\"/>\\n<link rel=\"alternate\" hreflang=\"es-bz\" href=\"https://www.cisco.com/c/es_bz/index.html\"/>\\n<link rel=\"alternate\" hreflang=\"fr-be\" href=\"https://www.cisco.com/c/fr_be/index.html\"/>\\n<link rel=\"alternate\" hreflang=\"th-th\" href=\"https://www.cisco.com/c/th_th/index.html\"/>\\n<link rel=\"alternate\" hreflang=\"en-gb\" href=\"https://www.cisco.com/c/en_uk/index.html\"/>\\n<link rel=\"alternate\" hreflang=\"it-it\" href=\"https://www.cisco.com/c/it_it/index.html\"/>\\n<link rel=\"alternate\" hreflang=\"es-cl\" href=\"https://www.cisco.com/c/es_cl/index.html\"/>\\n<link rel=\"alternate\" hreflang=\"es-co\" href=\"https://www.cisco.com/c/es_co/index.html\"/>\\n<link rel=\"alternate\" hreflang=\"en-eg\" href=\"https://www.cisco.com/c/en_eg/index.html\"/>\\n<link rel=\"alternate\" hreflang=\"fr-ca\" href=\"https://www.cisco.com/c/fr_ca/index.html\"/>\\n<link rel=\"alternate\" hreflang=\"tr-tr\" href=\"https://www.cisco.com/c/tr_tr/index.html\"/>\\n<link rel=\"alternate\" hreflang=\"hu-hu\" href=\"https://www.cisco.com/c/hu_hu/index.html\"/>\\n<link rel=\"alternate\" hreflang=\"en-ng\" href=\"https://www.cisco.com/c/en_dz/index.html\"/>\\n<link rel=\"alternate\" hreflang=\"nl-be\" href=\"https://www.cisco.com/c/nl_be/index.html\"/>\\n<link rel=\"alternate\" hreflang=\"ar-qa\" href=\"https://www.cisco.com/c/ar_ae/index.html\"/>\\n<link rel=\"alternate\" hreflang=\"en-my\" href=\"https://www.cisco.com/c/en_my/index.html\"/>\\n<link rel=\"alternate\" hreflang=\"fr-ch\" href=\"https://www.cisco.com/c/fr_ch/index.html\"/>\\n<link rel=\"alternate\" hreflang=\"es-cr\" href=\"https://www.cisco.com/c/es_cr/index.html\"/>\\n<link rel=\"alternate\" hreflang=\"vi-vn\" href=\"https://www.cisco.com/c/vi_vn/index.html\"/>\\n<link rel=\"alternate\" hreflang=\"en-dz\" href=\"https://www.cisco.com/c/en_dz/index.html\"/>\\n<link rel=\"alternate\" hreflang=\"zh-hk\" href=\"https://www.cisco.com/c/zh_hk/index.html\"/>\\n<link rel=\"alternate\" hreflang=\"es-sv\" href=\"https://www.cisco.com/c/es_mx/index.html\"/>\\n<link rel=\"alternate\" hreflang=\"en-us\" href=\"https://www.cisco.com\"/>\\n\\n\\n\\n    \\n \\n    \\n    \\n\\n\\n\\n\\n\\n\\n\\n\\n\\n    <script type=\"text/javascript\" src=\"/etc.clientlibs/clientlibs/granite/jquery.min.js\"></script>\\n<script type=\"text/javascript\" src=\"/etc.clientlibs/clientlibs/granite/utils.min.js\"></script>\\n<script type=\"text/javascript\" src=\"/etc.clientlibs/clientlibs/granite/jquery/granite.min.js\"></script>\\n<script type=\"text/javascript\" src=\"/etc.clientlibs/foundation/clientlibs/jquery.min.js\"></script>\\n<script type=\"text/javascript\" src=\"/etc.clientlibs/foundation/clientlibs/shared.min.js\"></script>\\n<script type=\"text/javascript\" src=\"/etc.clientlibs/cq/personalization/clientlib/personalization/kernel.min.js\"></script>\\n<script type=\"text/javascript\" src=\"/etc.clientlibs/cq/personalization/clientlib/personalization/kernel.min.js\"></script>\\n<script type=\"text/javascript\">\\n    $CQ(function() {\\n        CQ_Analytics.SegmentMgr.loadSegments(\"\\\\/etc\\\\/segmentation\");\\n        CQ_Analytics.ClientContextUtils.init(\"\\\\/c\\\\/dnc\\\\/etc\\\\/clientcontext\\\\/default\", \"\\\\/content\\\\/en\\\\/us\\\\/index\");\\n\\n        \\n    });\\n</script>\\n\\n    \\n    \\n\\n\\n\\n\\n\\n\\n\\n\\n\\n\\n\\n\\n\\n\\n\\n\\n\\n\\n  \\n\\n\\n\\n\\n\\n\\n\\n\\n\\n\\n\\n    <!-- Search META tags -->\\n    <meta name=\"robots\" content=\"noodp\" />\\n\\n    <!-- BING Search Validation -->\\n    <meta name=\"msvalidate.01\" content=\"E92E7806156B3C869F3B8E2FBF802972\" />\\n\\n    <!-- Yandex Search Validation -->\\n    <meta name=\"yandex-verification\" content=\"d14288eb6e3058b1\" />\\n\\n    <!-- Baidu Search Validation more meta data-->\\n    <meta name=\"baidu-site-verification\" content=\"4IlrMkGw3Y\" />\\n\\n    <!--For Spotlight FB sharing-->\\n    <link rel=\"image_src\" type=\"image/jpeg\" href=\"//content.ogilvy.edgesuite.net/showcase/facebook_share_icon.jpg\"/>\\n\\n    <!--Google https Search Validation more meta data-->\\n    <meta name=\"google-site-verification\" content=\"9MlQU9MMQ1jHLMUkONKe6QzZ-ZIGRv0BCD1_rY1Zdmc\" />\\n\\n    <!-- .Search META tags -->\\n\\n<meta http-equiv=\"content-language\" content=\"en-us\">\\n\\n\\n<!-- app indexing -->\\n<link rel=\"alternate\" href=\"android-app://com.cisco.androidcisco/cisco.com/Home\"/>\\n<link rel=\"alternate\" href=\"ios-app://375704031/cisco.com/Home\"/>\\n<!-- /app indexing -->\\n\\n<script type=\"text/javascript\" src=\"/etc/designs/cdc/clientlibs/responsive/js/foundation.min.js\"></script>\\n\\n\\n\\n\\n\\n\\n\\n\\n\\n\\n\\n\\n    \\n\\n\\n\\n\\n\\n\\n\\n\\n\\n<script>\\n    cdc.wcAncillaryAssetAllocator.init([\\'cdc-search\\', \\'cdc-nav\\'], \\'en/us\\', true, false, true);\\n</script>\\n\\n    <script>\\n        sessionStorage.setItem(\"logOutIntermediateMessage\", \\'You are being logged out.\\');\\n    </script>\\n    \\n    \\n\\t\\n\\n\\n\\n\\n\\n\\n\\n\\n\\n\\n\\n<!-- Custom JSON LD For Products Type -->\\n\\n    \\n    <script type=\"application/ld+json\">\\n        [\\n           \\n            {\\n          \"@context\": \"http://www.schema.org\",                                                                        \\n          \"@type\": \"WebPage\",\\n          \"name\": \"Cisco - Networking, Cloud, and Cybersecurity Solutions\",  \\t\\t  \\n          \"url\": \"https://www.cisco.com\",\\n          \"description\": \"Cisco delivers innovative software-defined networking, cloud, and security solutions to help transform your business, empowering an inclusive future for all. \",\\n          \"publisher\": {\\n              \"@type\": \"Corporation\",\\n                 \"name\": \"Cisco\"\\n            }\\n        }]\\n    </script>\\n<!-- End Custom JSON LD For Products Type -->\\n\\n<!-- Video JSON LD -->\\n\\n\\n\\n\\n   \\t<script type=\"application/ld+json\">\\n\\t\\t[\\n    {\\n  \"@context\": \"https://schema.org\",\\n  \"@type\": \"VideoObject\",\\n  \"name\": \"Cisco DNA Software Subscriptions\",\\n  \"description\": \"Put your Cisco infrastructure on steroids with Cisco DNA Center and our special sauce, Cisco DNA software subscriptions.\",\\n  \"thumbnailUrl\": [\\n    \"https://cf-images.us-east-1.prod.boltdns.net/v1/static/1384193102001/46b7141e-f88c-4a4a-95cb-961142a097e6/3fa1ea24-861c-45d6-a04d-95dc23cc500b/160x90/match/image.jpg\"\\n  ],\\n  \"uploadDate\": \"2020-02-24T19:14:27.287Z\",\\n  \"duration\": \"PT1M50.848S\",\\n  \"contentUrl\": \"http://players.brightcove.net/1384193102001/NJgI8K0ie_default/index.html?videoId=6135506677001\",\\n  \"embedUrl\": \"https://www.cisco.com/c/en/us/index.html?socialshare=lightbox2\"\\n}\\n\\n\\t\\t]\\n    </script>\\n    \\n<!-- End Video JSON LD -->\\n\\n    \\n</head>\\n\\n<body id=\"wcq\" class=\"\\n\\n\\n\\n\\n\\n\\n\\n\\n\\nfw-res cdc-homepage &nbsp; cdc-transform\">\\n    \\n    \\n\\n\\n\\n\\n\\n\\n\\n\\n\\n<div id=\"fw-skiplinks\">\\n    <ul class=\"container\">\\n        <li><a id=\"skiplink-content\" href=\"#fw-content\">Skip to content</a></li>\\n        <li><a id=\"skiplink-search\" href=\"#fw-content\">Skip to search</a></li>\\n\\n        <li><a id=\"skiplink-footer\" href=\"#fw-footer\" class=\"last\">Skip to footer</a></li>\\n    </ul>\\n</div>\\n\\n    \\n\\n\\n\\n\\n\\n\\n\\n\\n\\n\\n\\n\\n\\n\\n\\n\\n\\n\\n\\n\\n\\n\\n\\n\\n\\n\\n\\n\\n\\n \\n<script type=\"text/javascript\">\\n    if (window.cdc === undefined) { window.cdc = {}; } \\n    cdc.isReiJspLoaded = true;\\n\\n    if (cdc.cdcMasthead === undefined) { cdc.cdcMasthead = {}; }\\n    if (cdc.cdcMasthead.additional === undefined) { cdc.cdcMasthead.additional = {}; }\\n    cdc.cdcMasthead.additional.env = \\'prod\\';\\n    cdc.cdcMasthead.additional.linkSwaps = {accountUrl: \"//www.cisco.com/c/en/us/about/account.html\", registrationUrl: \"https://id.cisco.com/signin/register\", profileUrl: \"https://rpfa.cloudapps.cisco.com/rpfa/profile/profile_management.do\"}; \\n</script>     \\n\\n     \\n<header id=\"fwt-masthead\"\\n\\n\\n\\n\\n\\n\\n\\nclass=\"cdc no-nav-wc\" data-owner=\"ID\">\\n    <div id=\"fwt-banner\">\\n        <a id=\"fwt-logo\" class=\"has-events\" title=\"Cisco.com Worldwide\" href=\"/c/en/us/index.html\" aria-labelledby=\"fwt-logo-title\">\\n            \\n\\n\\n\\n\\n\\n\\n\\n\\n\\n            <svg xmlns=\"http://www.w3.org/2000/svg\" width=\"108\" height=\"57\" viewBox=\"0 0 108 57\" role=\"img\">\\n                <title id=\"fwt-logo-title\">Cisco.com Worldwide</title><defs><path d=\"M0 22.769a2.348 2.348 0 0 0 3.935 1.545c.434-.403.7-.955.744-1.545v-5.2a2.34 2.34 0 0 0-4.679 0v5.2\" id=\"bar_short\" class=\"bar\"></path><path d=\"M12.95 22.769a2.349 2.349 0 0 0 2.34 2.171 2.346 2.346 0 0 0 2.339-2.171V11.112a2.341 2.341 0 0 0-4.679 0V22.77\" id=\"bar_tall\" class=\"bar\"></path><path d=\"M25.832 27.464a2.345 2.345 0 0 0 4.678 0V2.249a2.342 2.342 0 0 0-4.678 0v25.215\" id=\"bar_grande\" class=\"bar\"></path><path d=\"M24.026 56.277v-5.002l-.098.043a9.253 9.253 0 0 1-3.605.915 5.303 5.303 0 0 1-3.63-1.07 4.644 4.644 0 0 1-1.58-2.244 5.395 5.395 0 0 1-.106-3 4.6 4.6 0 0 1 1.609-2.566 4.823 4.823 0 0 1 2.528-1.09 8.332 8.332 0 0 1 4.774.895l.108.056v-5.03l-.228-.061a12.78 12.78 0 0 0-4.552-.596 10.534 10.534 0 0 0-4.065.93 9.29 9.29 0 0 0-3.329 2.572 10.014 10.014 0 0 0-.182 12.18 9.546 9.546 0 0 0 5.292 3.403c2.211.538 4.528.456 6.697-.234l.367-.101\" id=\"cisco_c\"></path></defs><g fill=\"#00bceb\" fill-rule=\"evenodd\"><use href=\"#cisco_c\"/><use href=\"#cisco_c\" x=\"49.5\"/><path d=\"M41.69 52.125l-.019 4.308.315.054c.989.185 1.987.313 2.99.385a18.1 18.1 0 0 0 2.642.051c.842-.06 1.675-.218 2.48-.468a6.862 6.862 0 0 0 2.573-1.371 5.19 5.19 0 0 0 1.498-2.148 5.912 5.912 0 0 0-.03-4.324 4.852 4.852 0 0 0-1.343-1.862 5.568 5.568 0 0 0-1.97-1.147l-3.25-1.206a1.742 1.742 0 0 1-.887-.845 1.107 1.107 0 0 1 .036-.986 1.29 1.29 0 0 1 .217-.291 1.75 1.75 0 0 1 .48-.347c.363-.18.755-.293 1.158-.337a6.76 6.76 0 0 1 2.072.022c.81.088 1.613.231 2.402.43l.168.037v-3.974l-.31-.067a21.14 21.14 0 0 0-2.444-.435 12.545 12.545 0 0 0-3.213-.014 6.945 6.945 0 0 0-3.699 1.488 4.908 4.908 0 0 0-1.58 2.178 5.984 5.984 0 0 0-.003 4.05c.242.65.63 1.237 1.136 1.714.437.422.932.78 1.47 1.065.708.38 1.458.675 2.235.878.257.077.512.158.766.243l.385.141.11.045c.38.136.726.35 1.018.628.202.19.358.423.455.683.06.237.061.485.003.723a1.536 1.536 0 0 1-.744.892 3.691 3.691 0 0 1-1.239.387 9 9 0 0 1-1.92.097 21.973 21.973 0 0 1-2.507-.334c-.433-.09-.864-.19-1.291-.303l-.16-.04zM30.546 56.607h4.73V37.846h-4.73zM85.305 43.386a4.934 4.934 0 1 1 6.157 7.711 4.934 4.934 0 0 1-6.157-7.71m-6.867 3.848A9.87 9.87 0 0 0 90.44 56.72a9.629 9.629 0 0 0 3.157-17.729 9.934 9.934 0 0 0-15.16 8.244\"></path><use href=\"#bar_short\" x=\"0\"/><use href=\"#bar_tall\" x=\"0\"/><use href=\"#bar_grande\" x=\"0\"/><use href=\"#bar_tall\" x=\"25.875\"/><use href=\"#bar_short\" x=\"51.75\"/><use href=\"#bar_tall\" x=\"51.75\"/><use href=\"#bar_grande\" x=\"51.75\"/><use href=\"#bar_tall\" x=\"77.625\"/><use href=\"#bar_short\" x=\"103.375\"/></g>\\n            </svg>\\n\\n        </a>\\n        \\n\\n\\n\\n\\n\\n\\n\\n\\n<div id=\"fwt-cornerstone\">\\n\\n\\n\\n\\n\\n\\n\\n\\n\\n\\n        <button id=\"fwt-nav-button\" aria-labelledby=\"fwt-nav-button-label\" aria-haspopup=\"true\" aria-expanded=\"false\">\\n            <div>\\n                <span></span>\\n                <span></span>\\n                <span></span>\\n            </div>\\n            <div class=\"nav-label active\" id=\"fwt-nav-button-label\">MENU</div>\\n            <div class=\"nav-label\" id=\"fwt-nav-button-close-label\">CLOSE</div>\\n        </button>\\n<slot name=\"masthead-title\">\\n    <div id=\"fwt-sitearea-buttons\">\\n        <button class=\"forCdcr\" type=\"button\" name=\"Products\" disabled aria-controls=\"Products-tab\" aria-haspopup=\"true\" aria-selected=\"false\">Products and Services</button>\\n        <button  class=\"forCdc\" type=\"button\" name=\"Products\" disabled aria-controls=\"Products-tab\" aria-haspopup=\"true\" aria-selected=\"false\">Products</button>   \\n        <button class=\"forCdcr\" type=\"button\" name=\"Solutions\" disabled aria-controls=\"Solutions-tab\" aria-haspopup=\"true\" aria-selected=\"false\">Solutions</button>\\n        <button type=\"button\" name=\"Support\" disabled aria-controls=\"Support-tab\" aria-haspopup=\"true\" aria-selected=\"false\">Support</button>\\n        <button class=\"forCdcr\" type=\"button\" name=\"Learn\" disabled aria-controls=\"Learn-tab\" aria-haspopup=\"true\" aria-selected=\"false\">Learn</button>\\n        <button class=\"forCdc\" type=\"button\" name=\"Partners\" disabled aria-controls=\"Partners-tab\" aria-haspopup=\"true\" aria-selected=\"false\">Partners</button>\\n        <button class=\"forCdc\" type=\"button\" name=\"EventsVideos\" disabled aria-controls=\"EventsVideos-tab\" aria-haspopup=\"true\" aria-selected=\"false\">Events &amp; Videos</button>\\n        <button class=\"forCdcr hide\" type=\"button\" name=\"Partners\" disabled aria-controls=\"Partners-tab\" aria-haspopup=\"true\" aria-selected=\"false\">Partners</button>\\n    </div>\\n</slot>\\n</div>\\n        <div id=\"fwt-utilities\">\\n        \\n\\n\\n\\n\\n\\n\\n\\n\\n\\n\\n\\n<a href=\"/c/en/us/about/sitemap.html\" id=\"fwt-exploreCisco-button\">Explore Cisco</a>\\n\\n<button id=\"fwt-search-button\" disabled=\"disabled\" aria-label=\"Search\" aria-haspopup=\"true\" aria-expanded=\"false\" title=\"Search\">\\n<span class=\"forCdcr\">Search</span> <svg xmlns=\"http://www.w3.org/2000/svg\" width=\"36\" height=\"36\" viewBox=\"0 0 36 36\" role=\"img\" aria-labelledby=\"srch-btn-title\">\\n    <title id=\"srch-btn-title\">Search</title>\\n    <path d=\"M18.694 24.496a9.988 9.988 0 01-3.55.648c-5.524 0-10.002-4.477-10.001-10 0-5.524 4.477-10.002 10-10.001 5.524 0 10.001 4.477 10.001 10 0 2.721-1.177 5.256-2.94 7.06l7.92 7.92\" stroke=\"#4d4c4c\" stroke-width=\"2\" fill=\"none\" fill-rule=\"evenodd\" stroke-linejoin=\"round\"/>\\n</svg>\\n</button>\\n<slot name=\"masthead-utilities\"></slot>\\n\\n\\n\\n            <button id=\"fwt-ellipsis-button\">\\n                <svg xmlns=\"http://www.w3.org/2000/svg\" xmlns:xlink=\"http://www.w3.org/1999/xlink\" viewBox=\"0 0 32 32\" width=\"32\" height=\"32\" role=\"img\" aria-labelledby=\"fwt-ellipsis-button-icon-title\">\\n    <title id=\"fwt-ellipsis-button-icon-title\">More</title>\\n    <g id=\"fwt-ellipsis-dots\" fill=\"#4d4c4c\">\\n        <ellipse cx=\"16\" cy=\"16\" rx=\"2.65\" ry=\"2.51\" />\\n        <ellipse cx=\"16\" cy=\"16\" rx=\"2.65\" ry=\"2.51\" style=\"transform: translateY(-8.75px)\"/>\\n        <ellipse cx=\"16\" cy=\"16\" rx=\"2.65\" ry=\"2.51\" style=\"transform: translateY(8.75px)\"/>\\n    </g>\\n</svg>\\n                <svg xmlns=\"http://www.w3.org/2000/svg\" class=\"svg-x\" width=\"36\" height=\"36\" viewBox=\"0 0 36 36\" stroke=\"#fff\" stroke-width=\"2\" role=\"img\"><use href=\"#svg-x\"/></svg>\\n            </button>\\n\\n        </div>\\n    </div>\\n    <div id=\"fwt-rei-utilities\">\\n        \\n\\n\\n\\n\\n\\n\\n\\n\\n\\n\\n<div class=\"fwt-rei-utilities-left\">\\n    \\n</div>\\n<div class=\"fwt-rei-utilities-right\">\\n    \\n    <a data-config-metrics-group=\"global nav\" href=\"/c/en/us/buy.html\" id=\"fwt-buy-button\">How to Buy</a>\\n    <button type=\"button\" id=\"fwt-partner-button\" class=\"show\" name=\"Partners\" aria-controls=\"Partners-tab\" aria-haspopup=\"true\" aria-selected=\"false\">Partners</button>\\n\\t\\n    <button id=\"fwt-profile-button\" class=\"ellipsis-short ellipsis-medium\" aria-haspopup=\"true\" aria-expanded=\"false\"  aria-labelledby=\"fwt-profile-button-loggedout-title\" title=\"Log In\">\\n        <svg xmlns=\"http://www.w3.org/2000/svg\" width=\"20\" height=\"20\" viewBox=\"0 0 40 40\" id=\"fwt-profile-button-loggedout\" role=\"img\" >\\n            <title id=\"fwt-profile-button-loggedout-title\">Log in</title>\\n            <g class=\"addStroke\" fill=\"none\" fill-rule=\"evenodd\" stroke=\"#\" stroke-linecap=\"round\" stroke-linejoin=\"round\" stroke-width=\"2\">\\n                <path class=\"forCdcr\" d=\"M 28 31 V 26.07 c 0 -4.07 -3.136 -7.069 -6.967 -7.069 h -4.566 C 12.135 19 9 22.181 9 26.07 v 4.006 H 9 L 9 31 M 12 9.857 C 12 6.622 14.584 4 17.772 4 c 3.187 0 5.772 2.622 5.772 5.857 c 0 3.235 -2.585 5.857 -5.772 5.857 c -3.188 0 -5.772 -2.622 -5.772 -5.857 z\"></path>\\n                <path class=\"forCdc\" d=\"M27.5 32.077V26.07c0-3.888-3.136-7.069-6.967-7.069h-4.566C12.135 19 9 22.181 9 26.07v4.006c0 .553.454 1.001.998 1.001H20.94M12 9.857C12 6.622 14.584 4 17.772 4c3.187 0 5.772 2.622 5.772 5.857 0 3.235-2.585 5.857-5.772 5.857-3.188 0-5.772-2.622-5.772-5.857z\"></path>\\n            </g>\\n        </svg>\\n\\n        <svg class=\"forCdcr\" id=\"fwt-profile-svg-cdcr\" width=\"14\" height=\"14\" viewBox=\"0 0 20 20\" fill=\"none\" xmlns=\"http://www.w3.org/2000/svg\" style=\"stroke:none;margin-top: -1px;\">\\n            <title id=\"fwt-profile-button-loggedout-title\">Log in</title>\\n            <mask id=\"mask0\" mask-type=\"alpha\" maskUnits=\"userSpaceOnUse\" x=\"4\" y=\"1\" width=\"12\" height=\"18\">\\n                <path d=\"M10 8C9.30777 8 8.63108 7.79473 8.05551 7.41015C7.47993 7.02556 7.03133 6.47894 6.76642 5.83939C6.50152 5.19985 6.4322 4.49612 6.56725 3.81719C6.7023 3.13825 7.03564 2.51461 7.52513 2.02513C8.01461 1.53564 8.63825 1.2023 9.31718 1.06725C9.99612 0.932205 10.6999 1.00152 11.3394 1.26642C11.9789 1.53133 12.5256 1.97993 12.9101 2.55551C13.2947 3.13108 13.5 3.80777 13.5 4.5C13.4974 5.42745 13.1278 6.31615 12.472 6.97196C11.8162 7.62777 10.9274 7.99736 10 8ZM10 2C9.50555 2 9.0222 2.14662 8.61108 2.42133C8.19995 2.69603 7.87952 3.08648 7.6903 3.54329C7.50108 4.00011 7.45157 4.50277 7.54804 4.98773C7.6445 5.47268 7.8826 5.91814 8.23223 6.26777C8.58187 6.6174 9.02732 6.8555 9.51228 6.95196C9.99723 7.04843 10.4999 6.99892 10.9567 6.8097C11.4135 6.62048 11.804 6.30005 12.0787 5.88893C12.3534 5.4778 12.5 4.99445 12.5 4.5C12.4974 3.83777 12.2331 3.20342 11.7649 2.73514C11.2966 2.26687 10.6622 2.00263 10 2Z\" fill=\"#1B1C1D\"></path>\\n                <path d=\"M15.5 19H4.5C4.36739 19 4.24021 18.9473 4.14645 18.8536C4.05268 18.7598 4 18.6326 4 18.5V13.45C4.00264 12.5358 4.36697 11.6598 5.0134 11.0134C5.65983 10.367 6.53581 10.0026 7.45 10H12.55C13.4642 10.0026 14.3402 10.367 14.9866 11.0134C15.633 11.6598 15.9974 12.5358 16 13.45V18.5C16 18.6326 15.9473 18.7598 15.8536 18.8536C15.7598 18.9473 15.6326 19 15.5 19ZM5 18H15V13.45C15 12.8002 14.7419 12.1771 14.2824 11.7176C13.8229 11.2581 13.1998 11 12.55 11H7.45C6.80022 11 6.17705 11.2581 5.71759 11.7176C5.25812 12.1771 5 12.8002 5 13.45V18Z\" fill=\"#1B1C1D\"></path>\\n            </mask>\\n            <g mask=\"url(#mask0)\">\\n                <path d=\"M20 0H0V20H20V0Z\" fill=\"#1B1C1D\"></path>\\n            </g>\\n        </svg>\\n\\n        <div class=\"text\">Log in</div>\\n        <svg class= \"forCdc\" xmlns=\"http://www.w3.org/2000/svg\" width=\"36\" height=\"36\" viewBox=\"0 0 36 36\" id=\"fwt-profile-button-loggedin\" role=\"img\" >\\n            <title id=\"fwt-profile-button-loggedin-title\">Log out</title>\\n            <g fill=\"none\" fill-rule=\"evenodd\">\\n                <path id=\"forCdc\" stroke=\"#4d4c4c\" stroke-linecap=\"round\" stroke-linejoin=\"round\" stroke-width=\"2\" d=\"M22.857 31.36c-1.616.614-3.37.95-5.202.95C9.56 32.31 3 25.749 3 17.655S9.561 3 17.655 3 32.31 9.561 32.31 17.655c0 3.988-1.727 7.703-4.31 10.344\" x=\"0\" y=\"0\"></path>\\n                <circle id=\"forCdcr\" cx=\"18\" cy=\"18\" r=\"17\" fill=\"#E6E7E8\"/>\\n                <text fill=\"#007493\" font-family=\"CiscoSans, Arial, sans-serif\" font-weight=\"300\" font-size=\"16\" x=\"50%\" y=\"50%\" dy=\".35em\" text-anchor=\"middle\" id=\"fwt-initials\"> </text>\\n            </g> \\n        </svg>\\n    </button>\\n\\t\\n            <button id=\"fwt-language-button\" class=\"ellipsis-short ellipsis-medium\" aria-haspopup=\"true\" aria-expanded=\"false\" aria-labelledby=\"fwt-language-button-icon-title\" title=\"Choose Language Selection\">\\n                <svg class=\"forCdc\" xmlns=\"http://www.w3.org/2000/svg\" width=\"50\" height=\"36\" viewBox=\"0 0 50 36\" role=\"img\" >\\n                    <title id=\"fwt-language-button-icon-title\">Choose Language Selection</title>\\n                    <g fill=\"none\" fill-rule=\"evenodd\">\\n                        <g stroke=\"#4d4c4c\" stroke-linecap=\"round\" stroke-linejoin=\"round\" stroke-width=\"2\" transform=\"rotate(30 14.912 12.822)\">\\n                            <path d=\"M23.196 28.598c-5.967 3.308-13.83.982-17.138-4.986-3.308-5.967-1.152-13.487 4.816-16.795C16.84 3.51 24.36 5.665 27.669 11.633c1.466 2.645 2.409 6.763.314 12.125\"></path>\\n                            <ellipse cx=\"16.938\" cy=\"18.031\" rx=\"4.154\" ry=\"12.142\" transform=\"rotate(-30.001 16.938 18.03)\"></ellipse>\\n                            <path d=\"M5.42 19.568L24.63 8.694M9.368 26.463l19.21-11.04\"></path>\\n                        </g>\\n                        <text fill=\"#4d4c4c\" font-family=\"CiscoSans, Arial, sans-serif\" font-weight=\"300\" font-size=\"12\" letter-spacing=\".926\" style=\"text-transform: uppercase; direction: ltr;\">\\n                            <tspan x=\"30\" y=\"16\">us</tspan>\\n                        </text>\\n                        <text fill=\"#4d4c4c\" font-family=\"CiscoSans, Arial, sans-serif\" font-weight=\"300\" font-size=\"12\" letter-spacing=\".926\" style=\"text-transform: uppercase; direction: ltr;\">\\n                            <tspan x=\"30\" y=\"29\">en</tspan>\\n                        </text>\\n                    </g>\\n                </svg>\\n\\n                <svg class=\"forCdcr\" width=\"14\" height=\"14\" viewBox=\"0 0 20 20\" fill=\"none\" xmlns=\"http://www.w3.org/2000/svg\" style=\"stroke:none!important;margin-top: 2px;\">\\n                    <title id=\"fwt-language-button-icon-title\">Choose Language Selection</title>\\n                    <mask id=\"mask1\" mask-type=\"alpha\" maskUnits=\"userSpaceOnUse\" x=\"2\" y=\"2\" width=\"17\" height=\"17\">\\n                        <path d=\"M10.56 2C8.89073 2 7.25894 2.495 5.87099 3.4224C4.48304 4.3498 3.40126 5.66794 2.76246 7.21015C2.12365 8.75236 1.95651 10.4494 2.28217 12.0866C2.60783 13.7238 3.41166 15.2276 4.59202 16.408C5.77237 17.5883 7.27624 18.3922 8.91344 18.7178C10.5506 19.0435 12.2476 18.8763 13.7898 18.2375C15.3321 17.5987 16.6502 16.517 17.5776 15.129C18.505 13.7411 19 12.1093 19 10.44C18.9974 8.20238 18.1073 6.05718 16.5251 4.47494C14.9428 2.89271 12.7976 2.00265 10.56 2ZM18 10H15.11C15.149 7.6789 14.4716 5.4022 13.17 3.48C14.5191 3.9837 15.6933 4.8676 16.5505 6.02475C17.4077 7.18189 17.9112 8.56267 18 10ZM10 3.11V10H7C7.11 6.56 8.39 3.67 10 3.11ZM10 11V17.77C8.41 17.22 7.14 14.39 7 11H10ZM11 17.81V11H14.11C14 14.48 12.64 17.37 11 17.81ZM11 10V3.07C12.66 3.51 14 6.47 14.11 10H11ZM8 3.48C6.67716 5.3952 5.97862 7.67246 6 10H3.15C3.23918 8.55999 3.74513 7.17698 4.60624 6.01937C5.46735 4.86176 6.64646 3.97949 8 3.48ZM3.15 11H6C6.00393 13.2834 6.70138 15.5118 8 17.39C6.66487 16.9007 5.4982 16.0385 4.6385 14.9058C3.7788 13.7731 3.26219 12.4175 3.15 11ZM13.15 17.39C14.4391 15.5094 15.1229 13.2799 15.11 11H18C17.8895 12.4152 17.3758 13.7692 16.5198 14.9016C15.6639 16.034 14.5014 16.8976 13.17 17.39H13.15Z\" fill=\"#1B1C1D\"></path>\\n                    </mask>\\n                    <g mask=\"url(#mask1)\">\\n                        <path d=\"M20 0H0V20H20V0Z\" fill=\"#1B1C1D\"></path>\\n                    </g>\\n                </svg>\\n                <div class=\"text forCdcr fwt-language-submenu\">en us</div>\\n            </button> \\n</div>\\n    </div> \\n    \\n    <div id=\"fwt-masthead-overlay\">\\n        <svg xmlns=\"http://www.w3.org/2000/svg\" width=\"36\" height=\"36\" viewBox=\"0 0 36 36\" style=\"display:none;\"><defs><path id=\"svg-x\" fill=\"none\" fill-rule=\"evenodd\" stroke=\"inherit\" stroke-linecap=\"round\" stroke-width=\"inherit\" d=\"M30.26 6.495L5.505 31.25M5.495 6.495L30.25 31.25\"/></defs></svg>\\n        \\n\\n\\n\\n\\n\\n\\n\\n\\n\\n        <cdc-nav lang=\"en\" hide-partners-menu></cdc-nav>\\n        <cdc-search lang=\"en\" has-type-ahead has-close-button has-voice-search typeahead-variant></cdc-search>\\n        <slot name=\"masthead-overlay\"></slot>\\n\\n        <div id=\"fwt-partner\">\\n            <div class=\"fwt-partner-container\">\\n                <p class=\"profile-header sectional\">For Partners</p>\\n                <ul>\\n                    <li><a data-config-metrics-group=\"global nav\" data-config-metrics-title=\"partners utility menu\" data-config-metrics-item=\"Partners Home\" href=\"/c/en/us/partners.html\">Partners Home</a></li>\\n                    <li><a data-config-metrics-group=\"global nav\" data-config-metrics-title=\"partners utility menu\" data-config-metrics-item=\"New Partner Program\" href=\"/c/en/us/partners/partner-with-cisco/new-partner-program.html\">New Partner Program</a></li>\\n                    <li><a data-config-metrics-group=\"global nav\" data-config-metrics-title=\"partners utility menu\" data-config-metrics-item=\"Partner Certifications\" href=\"/c/en/us/partners/partner-with-cisco/channel-partner-program/certifications.html\">Partner Certifications</a></li>\\n                    <li><a data-config-metrics-group=\"global nav\" data-config-metrics-title=\"partners utility menu\" data-config-metrics-item=\"Support\" href=\"/c/en/us/partners/support-help.html\">Support</a></li>\\n                    <li><a data-config-metrics-group=\"global nav\" data-config-metrics-title=\"partners utility menu\" data-config-metrics-item=\"Tools\" href=\"/c/en/us/partners/tools.html\">Tools</a></li>\\n                </ul>\\n            </div>\\n            <div class=\"fwt-partner-find\">\\n                <div class=\"fwt-already-partner\"> \\n                    <p class=\"profile-header sectional\">Already a Partner?</p>\\n\\n                    <a data-config-metrics-group=\"global nav\" data-config-metrics-title=\"partners utility menu\" data-config-metrics-item=\"Log in\" class=\"button-cta dark manage profile-url\" href=\"/c/login/index.html?referer=/c/en/us/index.html\">Log in</a>\\n\\n                    <button  data-config-metrics-group=\"global nav\" data-config-metrics-title=\"partners utility menu\" data-config-metrics-item=\"Close Partner Menu\"  value=\"Close Partner Menu\" type=\"button\" class=\"close-partner-button\" aria-label=\"Close Partner Menu\">\\n                        <svg id=\"fwt-partner-close-button\"  xmlns=\"http://www.w3.org/2000/svg\" class=\"svg-x\" width=\"36\" height=\"36\" viewBox=\"0 0 36 36\" stroke=\"#000000\" stroke-width=\"2\" role=\"img\"><use href=\"#svg-x\"></use></svg>\\n                    </button>\\n                </div>\\n\\n                <div class=\"fwt-partner-search\"> \\n                    <p class=\"profile-header sectional find-a-cisco-partner find-partner\"><a data-config-metrics-group=\"global nav\" data-config-metrics-title=\"partners utility menu\" data-config-metrics-item=\"Find a Cisco Partner\" href=\"https://locatr.cloudapps.cisco.com/WWChannels/LOCATR/openBasicSearch.do\">Find a Cisco Partner</a></p>\\n                </div> \\n                <div class=\"fwt-partner-search\"> \\n                    <p class=\"profile-header sectional find-a-cisco-partner meet-partner\"><a data-config-metrics-group=\"global nav\" data-config-metrics-title=\"partners utility menu\" data-config-metrics-item=\"Meet our Partners\" href=\"/c/en/us/partners/meet-our-partners.html\">Meet our Partners</a></p>\\n                </div> \\n                <div class=\"fwt-partner-search\"> \\n                    <p class=\"profile-header sectional find-a-cisco-partner become-partner\"><a data-config-metrics-group=\"global nav\" data-config-metrics-title=\"partners utility menu\" data-config-metrics-item=\"Become a Cisco Partner\" href=\"https://partnersuccess.cisco.com/becomeapartner\">Become a Cisco Partner</a></p>\\n                </div> \\n            </div>\\n        </div>\\n\\n        <div id=\"fwt-ellipsis-profile\" class=\"ellipsis-short ellipsis-medium\">\\n\\n            <button id=\"fwt-profile_ellipsis-button\" class=\"ellipsis-short ellipsis-medium\" aria-haspopup=\"true\" aria-expanded=\"false\"  aria-labelledby=\"fwt-profile_ellipsis-button-loggedout-title\" title=\"Log In\">\\n                <svg xmlns=\"http://www.w3.org/2000/svg\" width=\"36\" height=\"36\" viewBox=\"0 0 36 36\" id=\"fwt-profile_ellipsis-button-loggedout\" role=\"img\" >\\n                    <title id=\"fwt-profile_ellipsis-button-loggedout-title\">Log In</title>\\n                    <g fill=\"none\" fill-rule=\"evenodd\" stroke=\"#4d4c4c\" stroke-linecap=\"round\" stroke-linejoin=\"round\" stroke-width=\"2\">\\n                        <path d=\"M27.5 32.077V26.07c0-3.888-3.136-7.069-6.967-7.069h-4.566C12.135 19 9 22.181 9 26.07v4.006c0 .553.454 1.001.998 1.001H20.94M12 9.857C12 6.622 14.584 4 17.772 4c3.187 0 5.772 2.622 5.772 5.857 0 3.235-2.585 5.857-5.772 5.857-3.188 0-5.772-2.622-5.772-5.857z\"></path>\\n                    </g>\\n                </svg>\\n                <svg xmlns=\"http://www.w3.org/2000/svg\" width=\"36\" height=\"36\" viewBox=\"0 0 36 36\" id=\"fwt-profile_ellipsis-button-loggedin\" role=\"img\" >\\n                    <title id=\"fwt-profile_ellipsis-button-loggedin-title\">Log Out</title>\\n                    <g fill=\"none\" fill-rule=\"evenodd\">\\n                        <path stroke=\"#4d4c4c\" stroke-linecap=\"round\" stroke-linejoin=\"round\" stroke-width=\"2\" d=\"M22.857 31.36c-1.616.614-3.37.95-5.202.95C9.56 32.31 3 25.749 3 17.655S9.561 3 17.655 3 32.31 9.561 32.31 17.655c0 3.988-1.727 7.703-4.31 10.344\" x=\"0\" y=\"0\"></path>\\n                        <text fill=\"#007493\" font-family=\"CiscoSans, Arial, sans-serif\" font-weight=\"300\" font-size=\"16\" x=\"50%\" y=\"50%\" dy=\".35em\" text-anchor=\"middle\" id=\"fwt-initials_ellipsis\"> </text>\\n                    </g> \\n                </svg><span>&nbsp;Log In</span>\\n            </button>\\n            <div id=\"fwt-profile\">\\n                \\n\\n\\n\\n\\n\\n\\n\\n\\n\\n<div id=\"fwt-profile-content\">\\n\\n    <div id=\"fwt-profile-login-content\" class=\"fwt-profile-content-container not_logged_in_fwt_profile\">\\n        <p class=\"profile-header\">Have an account?</p>\\n        <ul class=\"checked\">\\n            <li>\\n<svg xmlns=\"http://www.w3.org/2000/svg\" width=\"12\" height=\"11\" viewBox=\"0 0 12 11\" role=\"img\">\\n    <path fill=\"none\" fill-rule=\"evenodd\" stroke=\"#1ba0d7\" stroke-linecap=\"round\" stroke-width=\"3\" d=\"M1.882 4.95l2.903 2.903L10.09 2.55\"/>\\n</svg>&nbsp;&nbsp;Personalized content\\n            </li>\\n            <li>\\n<svg xmlns=\"http://www.w3.org/2000/svg\" width=\"12\" height=\"11\" viewBox=\"0 0 12 11\" role=\"img\">\\n    <path fill=\"none\" fill-rule=\"evenodd\" stroke=\"#1ba0d7\" stroke-linecap=\"round\" stroke-width=\"3\" d=\"M1.882 4.95l2.903 2.903L10.09 2.55\"/>\\n</svg>&nbsp;&nbsp;Your products and support\\n            </li>\\n        </ul>\\n        <a class=\"button-cta dark login-url\" href=\"/c/login/index.html?referer=/c/en/us/index.html\">Log in</a>\\n        <span class=\"account-none\"> Don\\'t have an account? <a id=\"register_cdcr\" href=\"https://id.cisco.com/signin/register\">Sign up</a></span>\\n        <ul class=\"forgot-password\">\\n            <li><a href=\"https://id.cisco.com/signin/forgot-password\">Forgot your password?</a></li>\\n            <li><a class=\"account-url\" href=\"//www.cisco.com/c/en/us/about/account.html\">About Cisco accounts</a></li>\\n        </ul>\\n    </div>\\n    <div id=\"fwt-create-account-bar\" class=\"fwt-profile-content-container\">\\n        <p class=\"profile-header\">Need an account?</p>\\n        <a class=\"button-cta light registration-url\" href=\"https://id.cisco.com/signin/register\">Create an account</a>\\n        <ul>\\n            <li><a href=\"//www.cisco.com/c/en/us/about/help.html\">Help</a></li>\\n        </ul>\\n\\n    </div>\\n</div>\\n<button value=\"Close Profile Menu\" type=\"button\" class=\"close-button\" id=\"fwt-profile-close-button\" aria-label=\"Close Profile Menu\">\\n    <svg xmlns=\"http://www.w3.org/2000/svg\" class=\"svg-x\" width=\"36\" height=\"36\" viewBox=\"0 0 36 36\" stroke=\"#fff\" stroke-width=\"2\" role=\"img\"><use href=\"#svg-x\"/></svg>\\n</button>\\n\\n            </div>\\n        </div>\\n        <div id=\"fwt-ellipsis-language\" class=\"ellipsis-short ellipsis-medium\">\\n\\n            <button id=\"fwt-language_ellipsis-button\" class=\"ellipsis-short ellipsis-medium\" aria-haspopup=\"true\" aria-expanded=\"false\" aria-labelledby=\"fwt-language_ellipsis-button-icon-title\" title=\"Choose Language Selection\">\\n                <svg xmlns=\"http://www.w3.org/2000/svg\" width=\"50\" height=\"36\" viewBox=\"0 0 50 36\" role=\"img\" >\\n                    <title id=\"fwt-language_ellipsis-button-icon-title\">Choose Language Selection</title>\\n                    <g fill=\"none\" fill-rule=\"evenodd\">\\n                        <g stroke=\"#4d4c4c\" stroke-linecap=\"round\" stroke-linejoin=\"round\" stroke-width=\"2\" transform=\"rotate(30 14.912 12.822)\">\\n                            <path d=\"M23.196 28.598c-5.967 3.308-13.83.982-17.138-4.986-3.308-5.967-1.152-13.487 4.816-16.795C16.84 3.51 24.36 5.665 27.669 11.633c1.466 2.645 2.409 6.763.314 12.125\"></path>\\n                            <ellipse cx=\"16.938\" cy=\"18.031\" rx=\"4.154\" ry=\"12.142\" transform=\"rotate(-30.001 16.938 18.03)\"></ellipse>\\n                            <path d=\"M5.42 19.568L24.63 8.694M9.368 26.463l19.21-11.04\"></path>\\n                        </g>\\n                        <text fill=\"#4d4c4c\" font-family=\"CiscoSans, Arial, sans-serif\" font-weight=\"300\" font-size=\"12\" letter-spacing=\".926\" style=\"text-transform: uppercase; direction: ltr;\">\\n                            <tspan x=\"30\" y=\"16\">us</tspan>\\n                        </text>\\n                        <text fill=\"#4d4c4c\" font-family=\"CiscoSans, Arial, sans-serif\" font-weight=\"300\" font-size=\"12\" letter-spacing=\".926\" style=\"text-transform: uppercase; direction: ltr;\">\\n                            <tspan x=\"30\" y=\"29\">en</tspan>\\n                        </text>\\n                    </g>\\n                </svg>&nbsp;Choose Language Selection\\n            </button> \\n            <div id=\"fwt-language\">\\n            </div>\\n        </div>\\n        <div id=\"fwt-nav-links\">\\n            <ul>\\n                <li>\\n                    <a href=\"/c/en/us/products/index.html\">Products</a>\\n                </li>\\n                <li>\\n                    <a href=\"/c/en/us/support/index.html\">Support</a>\\n                </li>\\n\\n                <li>\\n                    <a href=\"/c/en/us/partners.html\">Partners</a>\\n                </li>\\n                <li>\\n                    <a href=\"/c/en/us/training-events/events.html\">Events & Videos</a>\\n                </li>   \\n\\n            </ul>\\n        </div>\\n    </div>\\n\\n</header>\\n\\n\\n    \\n\\n\\n\\n\\n\\n\\n\\n\\n\\n<div id=\"fw-content\" class=\"container grid\">\\n      \\n    \\n\\n\\n\\n\\n\\n\\n\\n\\n\\n\\n\\n\\r\\n\\n\\n\\n\\n<!-- DM:components/layouts/category-atl:V1.0.0 -->\\n\\n\\n\\n\\n\\n\\n\\n\\n\\n\\n\\n\\n\\n\\n\\r\\n\\n\\n\\n\\n\\n\\n\\n\\n\\n\\n\\n<script type=\"text/javascript\" src=\"/etc/designs/cdc/dmr/libs/u.min.js\"></script>\\n<script type=\"text/javascript\" src=\"/etc/designs/cdc/dmr/libs/nmsp.min.js\"></script>\\n<script type=\"text/javascript\" src=\"/etc/designs/cdc/dmr/libs/log.min.js\"></script>\\n<script type=\"text/javascript\" src=\"/etc/designs/cdc/dmr/libs/metrics.min.js\"></script>\\n\\n\\n\\n\\n<!-- DM:components/html/htmlblob:V1.2.6 -->\\n\\n\\n\\t\\n\\n  \\n        \\t<!-- contents found: dmc-cxt-bnr --> \\n\\n        \\t<!-- contents found: dmc-cxt-bnr --> \\n\\n\\n\\n\\t<style>\\r\\n    #fwt-tophat-banner:not(.dgbanner) {\\r\\n        background: #1b1c1d;\\r\\n        min-height: 28px;\\r\\n        transition: none;\\r\\n    }\\r\\n\\r\\n    #fwt-tophat-banner a {\\r\\n        border-bottom: 0;\\r\\n        color: #fff;\\r\\n        font-size: 12px;\\r\\n        font-weight: 400;\\r\\n        margin: 0;\\r\\n        padding: 0;\\r\\n        text-align: left;\\r\\n    }\\r\\n\\r\\n    #fwt-tophat-banner a:hover {\\r\\n        text-decoration: underline;\\r\\n    }\\r\\n    \\r\\n    #fwt-tophat-banner a:after {\\r\\n        border: 0;\\r\\n        border-bottom: 2px solid #fff;\\r\\n        border-right: 2px solid #fff;\\r\\n        content: \"\";\\r\\n        display: inline-block;\\r\\n        height: 5px;\\r\\n        margin: .5px;\\r\\n        transform: rotate(-45deg);\\r\\n        transform-origin: 32% 93%;\\r\\n        -webkit-transition: all .5s cubic-bezier(0.39, 0.575, 0.565, 1);\\r\\n        -moz-transition: all .5s cubic-bezier(0.39, 0.575, 0.565, 1);\\r\\n        -o-transition: all .5s cubic-bezier(0.39, 0.575, 0.565, 1);\\r\\n        transition: all .5s cubic-bezier(0.39, 0.575, 0.565, 1);\\r\\n        width: 5px;\\r\\n        margin-right: 0;\\r\\n        margin-left: 5px;\\r\\n        right: auto;\\r\\n        top: auto;\\r\\n    }\\r\\n\\r\\n    #fwt-tophat-banner-content:not(.mbox) {\\r\\n        margin: 0 10px;\\r\\n        padding: 0;\\r\\n    }\\r\\n\\r\\n    @media only screen and (min-width: 37.5em) {\\r\\n        #fwt-tophat-banner-content:not(.mbox) {\\r\\n            margin: 0 20px;\\r\\n        }\\r\\n    }\\r\\n\\r\\n    @media only screen and (min-width: 64em) {\\r\\n        #fwt-tophat-banner-content:not(.mbox) {\\r\\n            padding: 0;\\r\\n            text-align: left;\\r\\n        }\\r\\n    }\\r\\n\\r\\n    @media only screen and (min-width: 80em) {\\r\\n        #fwt-tophat-banner-content:not(.mbox) {\\r\\n            margin: 0 35px;\\r\\n            max-width: 1530px;\\r\\n        }\\r\\n    }\\r\\n\\r\\n    #fwt-tophat-banner .dmc-cxt-bnr {\\r\\n        display: block;\\r\\n        min-height: auto;\\r\\n        padding: 0;\\r\\n    }\\r\\n\\r\\n    #fwt-tophat-banner .dmc-cxt-bnr .b-cnt {\\r\\n        text-align: left;\\r\\n    }\\r\\n\\r\\n    #fwt-tophat-close-button {\\r\\n        display: none;\\r\\n    }\\r\\n</style>\\n\\n\\n\\n\\n\\n\\n\\n\\n\\n\\n\\n\\n\\n\\n\\r\\n\\n\\n\\n\\n\\n<link rel=\"stylesheet\" href=\"/etc/designs/cdc/dmr/section/clientLib.min.css\" type=\"text/css\">\\n\\n\\n\\n\\n\\n\\n<section class=\"dmc-section targetable hidden\" id=\"section-context-banner\" data-config-metrics-group=\"Section\" data-config-metrics-title=\"section-context-banner\" data-version=\"DM:components/section/section-container:V1.1.1\">\\n    \\n    \\n\\n\\n\\n\\n\\n\\n\\n\\r\\n\\n\\n\\n\\r\\n\\n\\n\\n\\r\\n \\n\\t\\t\\t\\t<link rel=\"stylesheet\" href=\"/etc/designs/cdc/dmr/text/base-v2.min.css\" type=\"text/css\">\\n\\n        \\r\\n\\r\\n<link rel=\"stylesheet\" href=\"/etc/designs/cdc/dmr/libs/base.min.css\" type=\"text/css\">\\n<script type=\"text/javascript\" src=\"/etc/designs/cdc/dmr/libs/base.min.js\"></script>\\n\\r\\n\\r\\n\\t\\r\\n    \\r\\n    \\r\\n    \\r\\n    \\r\\n\\t\\r\\n  \\t\\t<link rel=\"stylesheet\" href=\"/etc/designs/cdc/dmr/context-banner/clientLib-v2.min.css\"><script src=\"/etc/designs/cdc/dmr/context-banner/clientLib-v2.min.js\" defer></script>\\r\\n\\t\\r\\n\\t\\r\\n\\r\\n<!-- Start of Context Banner Component -->\\r\\n<!-- DM:components/context-banner/context-banner:V1.2.7 -->\\r\\n<div class=\"dm0 dmc-cxt-bnr compact dm-cmcl thmd-0\" data-config-metrics-group=\"context banner\" data-config-metrics-title=\"WebexOne is on now. Join us for 30 sessions across 6 tracks.\">\\r\\n\\t\\r\\n\\t<!-- Start of content -->\\r\\n\\t<div class=\"b-cnt\">\\r\\n\\t\\t\\r\\n\\t\\t\\t<p>WebexOne is on now. Join us for 30 sessions across 6 tracks.</p>\\r\\n\\t\\t\\r\\n\\t\\t\\r\\n\\t\\t\\r\\n\\t\\t\\t<a class=\"cta pri0\" data-cta-type=\"cta pri0\" href=\"https://www.webex.com/webexone/index.html?utm_medium=Website&utm_source=CDC&utm_campaign=2021_wx1&utm_content=CDC_ContextBanner&team=CDC\" data-config-metrics-item=\"Register now\">Register now</a>\\r\\n\\t\\t\\r\\n\\t\\t\\r\\n\\t\\t\\r\\n\\t\\t\\r\\n\\t\\t\\r\\n\\t</div>\\r\\n\\t<!-- End of content -->\\r\\n</div>   \\r\\n<!-- End of Context Banner Component -->\\n\\n</section>\\n\\n\\n\\n\\n\\n\\n\\n\\n\\r\\n\\r\\n\\r\\n\\n\\n\\n\\n\\n\\n\\n\\n\\n\\n\\n\\n\\n\\n\\n\\n\\n\\r\\n\\n\\n\\n\\n\\n\\n\\n\\n\\n\\n\\n<section class=\"dmc-section\" id=\"section-video-blade999999\" data-config-metrics-group=\"Section\" data-config-metrics-title=\"section-video-blade999999\" data-version=\"DM:components/section/section-container:V1.1.1\">\\n    \\n    \\n\\n</section>\\n\\n\\n\\n\\n\\n\\n\\n\\n\\r\\n\\r\\n\\r\\n\\n\\n\\n\\n\\n\\n\\n\\n\\n\\n\\n\\n\\n\\n\\n\\r\\n\\n\\n\\n\\n\\n\\n\\n\\n\\n\\n\\n\\n\\n\\n\\n<!-- DM:components/html/htmlblob:V1.2.6 -->\\n\\n\\n\\t\\n\\n  \\n\\n\\n\\t<!-- geo-routers pilot -->\\r\\n\\r\\n<section id=\"geo-router-pilot\">\\r\\n\\r\\n</section>\\r\\n\\r\\n\\r\\n\\r\\n<script>\\r\\nfunction openWWS(){\\r\\nvar masthead = cdc.wcUtil.getObj(\\'masthead\\');\\r\\nif (cdc.wcUtil.getMethod(\\'cdc-masthead\\', \\'getActiveElement\\')().length === 0) {\\r\\ncdc.wcUtil.getMethod(\\'cdc-masthead\\', \\'mastheadClickHandler\\')(masthead.querySelector(\\'#fwt-language-button\\'), masthead);\\r\\n}\\r\\n}\\r\\n</script>\\r\\n\\r\\n\\n\\n\\n\\n\\n\\n\\n\\n\\n\\n\\n\\n\\n\\n\\n\\n\\n\\r\\n\\n\\n\\n\\n\\n\\n\\n\\n\\n\\n\\n<section class=\"dmc-section targetable spinner\" id=\"section-anchor-marquee\" data-config-metrics-group=\"Section\" data-config-metrics-title=\"section-anchor-marquee\" data-version=\"DM:components/section/section-container:V1.1.1\">\\n    \\n    <div class=\"spinner-box\">\\n        <div class=\"spinner-wheel\"></div>\\n    </div>\\n    \\n    \\n\\n\\n\\n\\n\\n\\n\\n\\n\\n\\n\\n\\n\\n\\r\\n\\n\\n\\n\\n\\n\\n\\n\\n\\n\\n\\n\\n\\n\\n\\n<!-- DM:components/html/htmlblob:V1.2.6 -->\\n\\n\\n\\t\\n\\n  \\n        \\t<!-- contents found: dmc-mq --> \\n\\n\\n\\n\\t<!-- 3M Safari -->\\r\\n<script>document.querySelectorAll(\\'.dmc-mq3 source[media=\"(min-width:37.5em)\"]\\').forEach( (el) => { el.media=\"(min-width:60rem)\"; });</script>\\r\\n<!-- /3M Safari -->\\n\\n\\n\\n\\n\\n\\n\\n\\n\\n\\n\\n\\n\\n\\n\\n\\r\\n\\n\\n\\n\\n \\n\\t\\t\\t\\t\\n        \\n\\n\\n\\n    \\r\\n    \\r\\n    \\r\\n    \\r\\n    \\r\\n\\t\\r\\n  \\t\\t<link rel=\"stylesheet\" href=\"/etc/designs/cdc/dmr/anchor-marquee/triple/clientLib.min.css\"><script src=\"/etc/designs/cdc/dmr/anchor-marquee/triple/clientLib.min.js\" defer></script>\\r\\n\\t\\r\\n\\n\\n\\n\\n<section id=\"section-anchor-marquee-triple\" class=\"dmc-mq3-container \">\\n        \\n    <div class=\"dmc-mq3\" data-config-metrics-group=\"Anchor Marquee, Triple\" data-version=\"DM:components/anchor-marquee/triple/triple:V1.2.0\">\\n        <section class=\"pnls\">\\n            \\n\\n\\n\\n\\n\\n\\n\\n\\n\\n\\n\\n\\r\\n\\n\\n\\n\\n \\n\\t\\t\\t\\t\\n        \\n\\n\\n    \\n\\n\\n\\n\\n\\n<section id=\"section-anchor-marquee-triple-panel-02\" class=\"dmc-mq3-panel-container pnl pnl-primary \">\\n    <div class=\"dm0 thmd-0 pnl-cnt\" data-config-metrics-group=\"3 Marquee\" data-config-metrics-title=\"WebexOne 2021\" data-version=\"DM:components/anchor-marquee/triple/triple-panel:V1.2.2\">\\n        \\n        <div class=\"bg dm-img\" alt=\"WebexOne 2021\">\\n            <picture>            \\n                <source srcset=\"/content/dam/assets/ltc/home/m3-webex-2021-960x532.jpg\"  media=\"(min-width:600px)\">\\n                \\n                    <source srcset=\"/content/dam/assets/ltc/home/m3-webex-2021-600x400.jpg\">\\n                \\n                \\n            </picture>\\n            <noscript><img src=\"/c/dam/assets/ltc/home/m3-webex-2021-960x532.jpg\" alt=\"WebexOne 2021\"></noscript>\\n        </div>\\n        \\n\\n        <div class=\"pvw\">\\n            <h1>WebexOne 2021</h1>\\n        </div>\\n        <div class=\"cnt\">\\n            <div class=\"pri-1\">WebexOne 2021</div>\\n            \\n                <p>Don\\'t miss the special guests and announcements from the first day of WebexOne.</p>\\n            \\n            <ul class=\"ctas\"><li><div class=\"lightbox-link\" data-lightbox-id=\"lightbox2\"><a class=\"cta pri0\" href=\"javascript:void(0);\" role=\"button\" data-config-metrics-item=\"Watch the replay now \">Watch the replay now </a></div></li></ul>\\n        </div>\\n    </div>\\n</section>\\n\\n            \\n\\n\\n\\n\\n\\n\\n\\n\\n\\n\\n\\n\\r\\n\\n\\n\\n\\n \\n\\t\\t\\t\\t\\n        \\n\\n\\n    \\n\\n\\n\\n\\n\\n<section id=\"section-anchor-marquee-triple-panel-01\" class=\"dmc-mq3-panel-container pnl \">\\n    <div class=\"dm0 thmd-0 pnl-cnt\" data-config-metrics-group=\"3 Marquee\" data-config-metrics-title=\"Introducing the all-new Webex app for iPad\" data-version=\"DM:components/anchor-marquee/triple/triple-panel:V1.2.2\">\\n        \\n        <div class=\"bg dm-img\" alt=\"Introducing the all-new Webex app for iPad\">\\n            <picture>            \\n                <source srcset=\"/content/dam/assets/ltc/home/m3-webex-ipad-960x532.jpg\"  media=\"(min-width:600px)\">\\n                \\n                    <source srcset=\"/content/dam/assets/ltc/home/m3-webex-ipad-600x400.jpg\">\\n                \\n                \\n            </picture>\\n            <noscript><img src=\"/c/dam/assets/ltc/home/m3-webex-ipad-960x532.jpg\" alt=\"Introducing the all-new Webex app for iPad\"></noscript>\\n        </div>\\n        \\n\\n        <div class=\"pvw\">\\n            <h1>Introducing the all-new Webex app for iPad</h1>\\n        </div>\\n        <div class=\"cnt\">\\n            <div class=\"pri-1\">Introducing the all-new Webex app for iPad</div>\\n            \\n                <p>Webex is excited to partner with Apple to meet our users on the devices they love.</p>\\n            \\n            <ul class=\"ctas\"><li><div class=\"lightbox-link\" data-lightbox-id=\"lightbox1\"><a class=\"cta pri0\" href=\"javascript:void(0);\" role=\"button\" data-config-metrics-item=\"Watch now (0:50)\">Watch now (0:50)</a></div></li><li><a class=\"cta sec0\" href=\"https://blog.webex.com/hybrid-work/magical-experiences-introducing-the-all-new-webex-app-for-ipad?utm_medium=Website&utm_source=CDC&utm_campaign=2021_wx1&utm_content=CDC_TripleMarquee&team=CDC\" data-config-metrics-item=\"Read more\">Read more</a></li></ul>\\n        </div>\\n    </div>\\n</section>\\n               \\n            \\n\\n\\n\\n\\n\\n\\n\\n\\n\\n\\n\\n\\r\\n\\n\\n\\n\\n \\n\\t\\t\\t\\t\\n        \\n\\n\\n    \\n\\n\\n\\n\\n\\n<section id=\"section-anchor-marquee-triple-panel-03\" class=\"dmc-mq3-panel-container pnl \">\\n    <div class=\"dm0 thmd-0 pnl-cnt\" data-config-metrics-group=\"3 Marquee\" data-config-metrics-title=\"Collaboration insights from Webex\" data-version=\"DM:components/anchor-marquee/triple/triple-panel:V1.2.2\">\\n        \\n        <div class=\"bg dm-img\" alt=\"Collaboration insights from Webex\">\\n            <picture>            \\n                <source srcset=\"/content/dam/assets/ltc/home/m3-collaboration-insights-960x532.jpg\"  media=\"(min-width:600px)\">\\n                \\n                    <source srcset=\"/content/dam/assets/ltc/home/m3-collaboration-insights-600x400.jpg\">\\n                \\n                \\n            </picture>\\n            <noscript><img src=\"/c/dam/assets/ltc/home/m3-collaboration-insights-960x532.jpg\" alt=\"Collaboration insights from Webex\"></noscript>\\n        </div>\\n        \\n\\n        <div class=\"pvw\">\\n            <h1>Collaboration insights from Webex</h1>\\n        </div>\\n        <div class=\"cnt\">\\n            <div class=\"pri-1\">Collaboration insights from Webex</div>\\n            \\n                <p>Collaboration insights help people thrive.</p>\\n            \\n            <ul class=\"ctas\"><li><div class=\"lightbox-link\" data-lightbox-id=\"lightbox3\"><a class=\"cta pri0\" href=\"javascript:void(0);\" role=\"button\" data-config-metrics-item=\"Watch video (1:00)\">Watch video (1:00)</a></div></li></ul>\\n        </div>\\n    </div>\\n</section>\\n\\n        </section>\\n    </div>\\n</section>\\n\\n\\n</section>\\n\\n\\n\\n\\n\\n\\n\\n\\n\\r\\n\\r\\n\\r\\n\\n\\n\\n\\n\\n\\n\\n\\n\\n\\n\\n\\n\\n\\n\\n\\n\\n<div id=\\'lightbox1\\' class=\\'dmc-lb video\\' style=\\'display:none\\'data-ltbox-type=\\'video\\' role=\\'dialog\\' aria-modal=\\'true\\' aria-hidden=\\'true\\' aria-labelledby=\\'lb_title\\' aria-describedby=\\'lb_desc\\' data-ltbox-title=\\'\\' data-ltbox-description=\\'\\' data-ltbox-content=\\'6278205715001\\' data-ltbox-version = \\'v2\\' data-config-metrics-group=\\'Lightbox\\' data-config-metrics-title=\\'\\' data-ltbox-style=\\'normal\\' data-ltbox-component-id=\\'lightbox-1\\' data-ltbox-player-type-id = \\'NJgI8K0ie\\' data-ltbox-account-id = \\'1384193102001\\' data-ltbox-interactivity = \\'interactivityenable\\' data-ltbox-interactivity-override-id = \\'\\' >\\n    \\n</div>\\n\\n \\n\\n\\n\\n\\n\\n\\n\\n\\n\\n\\n\\n\\n\\n\\n\\n<div id=\\'lightbox2\\' class=\\'dmc-lb video\\' style=\\'display:none\\'data-ltbox-type=\\'video\\' role=\\'dialog\\' aria-modal=\\'true\\' aria-hidden=\\'true\\' aria-labelledby=\\'lb_title\\' aria-describedby=\\'lb_desc\\' data-ltbox-title=\\'\\' data-ltbox-description=\\'\\' data-ltbox-content=\\'6274966083001\\' data-ltbox-version = \\'v2\\' data-config-metrics-group=\\'Lightbox\\' data-config-metrics-title=\\'\\' data-ltbox-style=\\'normal\\' data-ltbox-component-id=\\'lightbox-2\\' data-ltbox-player-type-id = \\'NJgI8K0ie\\' data-ltbox-account-id = \\'1384193102001\\' data-ltbox-interactivity = \\'interactivityenable\\' data-ltbox-interactivity-override-id = \\'\\' >\\n    \\n</div>\\n\\n \\n\\n\\n\\n\\n\\n\\n\\n\\n\\n\\n\\n\\n\\n\\n\\n<div id=\\'lightbox3\\' class=\\'dmc-lb video\\' style=\\'display:none\\'data-ltbox-type=\\'video\\' role=\\'dialog\\' aria-modal=\\'true\\' aria-hidden=\\'true\\' aria-labelledby=\\'lb_title\\' aria-describedby=\\'lb_desc\\' data-ltbox-title=\\'\\' data-ltbox-description=\\'\\' data-ltbox-content=\\'6272668704001\\' data-ltbox-version = \\'v2\\' data-config-metrics-group=\\'Lightbox\\' data-config-metrics-title=\\'\\' data-ltbox-style=\\'normal\\' data-ltbox-component-id=\\'lightbox-3\\' data-ltbox-player-type-id = \\'NJgI8K0ie\\' data-ltbox-account-id = \\'1384193102001\\' data-ltbox-interactivity = \\'interactivityenable\\' data-ltbox-interactivity-override-id = \\'\\' >\\n    \\n</div>\\n\\n \\n\\n\\n\\n\\n\\n\\n\\n\\n\\n\\n\\n\\n\\n\\n\\n<div id=\\'lightbox4\\' class=\\'dmc-lb video\\' style=\\'display:none\\'data-ltbox-type=\\'video\\' role=\\'dialog\\' aria-modal=\\'true\\' aria-hidden=\\'true\\' aria-labelledby=\\'lb_title\\' aria-describedby=\\'lb_desc\\' data-ltbox-title=\\'\\' data-ltbox-description=\\'\\' data-ltbox-content=\\'6277746802001\\' data-ltbox-version = \\'v2\\' data-config-metrics-group=\\'Lightbox\\' data-config-metrics-title=\\'\\' data-ltbox-style=\\'normal\\' data-ltbox-component-id=\\'lightbox-4\\' data-ltbox-player-type-id = \\'NJgI8K0ie\\' data-ltbox-account-id = \\'1384193102001\\' data-ltbox-interactivity = \\'interactivityenable\\' data-ltbox-interactivity-override-id = \\'\\' >\\n    \\n</div>\\n\\n \\n\\n\\n\\n\\n\\n\\n\\n\\n\\n\\n\\n\\n\\n\\n\\n<div id=\\'lightbox5\\' class=\\'dmc-lb video\\' style=\\'display:none\\'data-ltbox-type=\\'video\\' role=\\'dialog\\' aria-modal=\\'true\\' aria-hidden=\\'true\\' aria-labelledby=\\'lb_title\\' aria-describedby=\\'lb_desc\\' data-ltbox-title=\\'\\' data-ltbox-description=\\'\\' data-ltbox-content=\\'6277327250001\\' data-ltbox-version = \\'v2\\' data-config-metrics-group=\\'Lightbox\\' data-config-metrics-title=\\'\\' data-ltbox-style=\\'normal\\' data-ltbox-component-id=\\'lightbox-5\\' data-ltbox-player-type-id = \\'NJgI8K0ie\\' data-ltbox-account-id = \\'1384193102001\\' data-ltbox-interactivity = \\'interactivityenable\\' data-ltbox-interactivity-override-id = \\'\\' >\\n    \\n</div>\\n\\n \\n\\n\\n\\n\\n\\n\\n\\n\\n\\n\\n\\n\\n\\n\\n\\n<div id=\\'lightbox6\\' class=\\'dmc-lb video\\' style=\\'display:none\\'data-ltbox-type=\\'video\\' role=\\'dialog\\' aria-modal=\\'true\\' aria-hidden=\\'true\\' aria-labelledby=\\'lb_title\\' aria-describedby=\\'lb_desc\\' data-ltbox-title=\\'\\' data-ltbox-description=\\'\\' data-ltbox-content=\\'6257967431001\\' data-ltbox-version = \\'v2\\' data-config-metrics-group=\\'Lightbox\\' data-config-metrics-title=\\'\\' data-ltbox-style=\\'normal\\' data-ltbox-component-id=\\'lightbox-6\\' data-ltbox-player-type-id = \\'NJgI8K0ie\\' data-ltbox-account-id = \\'1384193102001\\' data-ltbox-interactivity = \\'interactivityenable\\' data-ltbox-interactivity-override-id = \\'\\' >\\n    \\n</div>\\n\\n \\n\\n\\n\\n\\n\\n\\n\\n\\n\\n\\n\\n\\n\\n\\n\\n<div id=\\'lightbox7\\' class=\\'dmc-lb video\\' style=\\'display:none\\'data-ltbox-type=\\'video\\' role=\\'dialog\\' aria-modal=\\'true\\' aria-hidden=\\'true\\' aria-labelledby=\\'lb_title\\' aria-describedby=\\'lb_desc\\' data-ltbox-title=\\'\\' data-ltbox-description=\\'\\' data-ltbox-content=\\'6265362686001\\' data-ltbox-version = \\'v2\\' data-config-metrics-group=\\'Lightbox\\' data-config-metrics-title=\\'\\' data-ltbox-style=\\'normal\\' data-ltbox-component-id=\\'lightbox-7\\' data-ltbox-player-type-id = \\'NJgI8K0ie\\' data-ltbox-account-id = \\'1384193102001\\' data-ltbox-interactivity = \\'interactivityenable\\' data-ltbox-interactivity-override-id = \\'\\' >\\n    \\n</div>\\n\\n \\n\\n\\n\\n\\n\\n\\n\\n\\r\\n\\r\\n\\r\\n\\n\\n\\n\\r\\n\\n\\n\\n\\r\\n\\r\\n<link rel=\"stylesheet\" href=\"/etc/designs/cdc/dmr/quick-task-bar/clientLib.min.css\" type=\"text/css\">\\n\\r\\n\\r\\n\\r\\n\\r\\n<div class =\"dm0 thmd-1 dmc-qt-bar compact\" data-config-metrics-group=\"quick_tasks\" data-config-metrics-title=\"prospects\" data-version=\"DM:components/quick-task-bar/quick-task-bar:V1.1.3\">\\r\\n    <ul>\\r\\n        \\r\\n                    <li>\\r\\n                        <a href=\"/c/en/us/solutions/enterprise/design-zone/index.html\" data-config-metrics-item=\"Design Guides\"><span class=\"d-guides\"></span>Design Guides</a>\\r\\n                    </li>\\r\\n                \\t\\r\\n                    <li>\\r\\n                        <a href=\"https://learninglocator.cloudapps.cisco.com/GlobalLearningLocator/LLocatorHome.do\" data-config-metrics-item=\"Find Training\"><span class=\"l-locator\"></span>Find Training</a>\\r\\n                    </li>\\r\\n                \\t\\r\\n                    <li>\\r\\n                        <a href=\"/c/en/us/training-events/training-certifications.html\" data-config-metrics-item=\"Learning &amp; Certifications\"><span class=\"c-cert\"></span>Learning & Certifications</a>\\r\\n                    </li>\\r\\n                \\t\\r\\n                    <li>\\r\\n                        <a href=\"https://software.cisco.com/download/navigator.html\" data-config-metrics-item=\"Software Downloads\"><span class=\"dwnls\"></span>Software Downloads</a>\\r\\n                    </li>\\r\\n                \\t\\r\\n                    <li>\\r\\n                        <a href=\"https://community.cisco.com\" data-config-metrics-item=\"Cisco Community\"><span class=\"cmnty\"></span>Cisco Community</a>\\r\\n                    </li>\\r\\n                \\t\\r\\n                    <li>\\r\\n                        <a href=\"https://mycase.cloudapps.cisco.com/case\" data-config-metrics-item=\"Tech Support Cases\"><span class=\"support\"></span>Tech Support Cases</a>\\r\\n                    </li>\\r\\n                \\t\\r\\n    </ul>\\r\\n</div>\\r\\n\\n\\n\\n\\n\\n\\n\\n\\n\\n\\n\\n\\n\\n\\n\\n\\n\\r\\n\\n\\n\\n\\n \\n\\t\\t\\t\\t\\n        \\n\\n\\n    \\n\\n\\n\\n\\n\\n<link rel=\"stylesheet\" href=\"/etc/designs/cdc/dmr/blade/clientLib-v2.min.css\" type=\"text/css\">\\n\\n\\n\\n<!-- DM:components/blade/blade:V2.2.0 -->\\n<div class=\"dm0 dmc-bld compact    \"  data-config-metrics-group=\"Blade\">\\n    \\n        \\n        \\n            \\n        \\n    \\n    <div class=\"bl-cnt \">\\n        <div class=\"row full\">\\n            <div class=\"col full\">\\n                \\n            </div>\\n        </div>\\n        <div class=\"row full \">\\n            \\n            <div class=\"col full\">\\n                \\n\\n\\n\\n\\n\\n\\n\\n\\n\\n\\n\\n\\n\\n\\n\\n\\r\\n\\n\\n\\n\\n \\n\\n\\t\\r\\n    \\r\\n    \\r\\n    \\r\\n    \\r\\n\\t\\r\\n  \\t\\t<link rel=\"stylesheet\" href=\"/etc/designs/cdc/dmr/mosaic/clientLib-v2.min.css\">\\r\\n\\t\\r\\n\\n\\n\\n    <div class=\"dmc-msrow full\" data-config-metrics-group=\"Mosaic Row\" data-version=\"DM:components/mosaic/rows/mosaic-row-full:V1.3.1\">\\n        <div class=\"mscol full\" data-config-metrics-title=\"Hero Tile\">\\n            \\n\\n\\n\\n\\n\\n\\n\\n\\n\\n\\n\\n\\r\\n\\n\\n\\n\\n\\n\\n\\n\\n\\n\\n\\n<section class=\"dmc-section targetable spinner\" id=\"mosaic-hero-1\" data-config-metrics-group=\"Section\" data-config-metrics-title=\"mosaic-hero-1\" data-version=\"DM:components/section/section-container:V1.1.1\">\\n    \\n    \\n\\n\\n\\n\\n\\n\\n\\n\\n\\n\\n\\n\\r\\n\\n\\n\\n\\n \\n\\t\\t\\t\\t\\n        \\n\\n\\n \\n\\n\\t\\r\\n    \\r\\n    \\r\\n    \\r\\n    \\r\\n\\t\\r\\n  \\t\\t\\r\\n\\t\\r\\n\\n\\n\\n\\n\\n\\n\\n\\n<div class=\"dm0 dmc-mstl hero dm-cmcl nopd-thm compact var-2 focal-C thmd-1\" data-version=\"DM:components/mosaic/mosaic-tile-hero:V2.1.1\">\\n    \\n        <a class=\"lnk \" href=\"https://blog.webex.com/hybrid-work/elevating-work-and-customer-experiences-in-a-hybrid-world?utm_medium=Website&utm_source=CDC&utm_campaign=2021_wx1&utm_content=CDC_HeroBanner&team=CDC\" data-config-metrics-item=\"Announcement: Elevating work and customer experiences in a hybrid world \">\\n    \\n        <div class=\"msimg\">\\n        \\n                    \\n\\n\\n\\n\\n<link rel=\"stylesheet\" href=\"/etc/designs/cdc/dmr/image/image-v2/clientLib.min.css\" type=\"text/css\">\\n\\n\\n\\n\\n\\t\\n\\t\\n\\t\\t\\n\\t\\t\\t<div class=\"dm-img\" src=\"/c/en/us/index/jcr:content/homepagemaincontentparsys/category_atl/layout-category-atl/blade_1893593999/bladeContents/mosaic_row_full/mosaic_row_parsys/section_container/target_content_parsys/mosaic_tile_hero.img.jpg/1635259333770.jpg\" title=\"Elevating work and customer experiences in a hybrid world \" alt=\"Elevating work and customer experiences in a hybrid world \" >\\n\\t\\t\\t\\t<noscript class=\"dmimg-ns\"><img src=\"/c/en/us/index/_jcr_content/homepagemaincontentparsys/category_atl/layout-category-atl/blade_1893593999/bladeContents/mosaic_row_full/mosaic_row_parsys/section_container/target_content_parsys/mosaic_tile_hero.img.jpg/1635259333770.jpg\" title=\"Elevating work and customer experiences in a hybrid world \" alt=\"Elevating work and customer experiences in a hybrid world \"></noscript>\\n\\t\\t\\t</div>\\n\\t\\t\\n\\t\\n\\n\\n                \\n    </div>\\n        \\n    <div class=\"mscnt\">\\n        \\n      \\t\\t    <p class=\"ebrw util\">Announcement</p>\\n        \\n                <div class=\"inner-content\">\\n                    <h3>Elevating work and customer experiences in a hybrid world </h3>\\n                    <p>Webex innovations enable inclusive and efficient hybrid work experiences for people, communities, and organizations.</p>\\r\\n\\n                </div>\\n    </div>\\n        \\n            </a>\\n            \\n</div>\\n \\n\\n\\n</section>\\n\\n\\n\\n\\n\\n\\n\\n\\n\\r\\n\\r\\n\\r\\n\\n\\n\\n        </div>\\n    </div>\\n   \\n\\n\\n\\n\\n\\n\\n\\n\\n\\n\\n\\n\\n\\n\\n\\r\\n\\n\\n\\n\\n \\n\\n\\t\\r\\n    \\r\\n    \\r\\n    \\r\\n    \\r\\n\\t\\r\\n  \\t\\t\\r\\n\\t\\r\\n\\n\\n\\n<div class=\"dmc-msrow wn\"  data-config-metrics-group=\"Mosaic Row\"  data-version=\"DM:components/mosaic/rows/mosaic-row-wide-narrow:V1.3.1\">\\n    <div class=\"mscol wide\"  data-config-metrics-title=\"Wide Tile\"  >\\n        \\n\\n\\n\\n    </div>\\n    <div class=\"mscol narrow\"  data-config-metrics-title=\"Narrow Tile\" >\\n        \\n\\n\\n\\n    </div>\\n</div>\\n\\n\\n\\n\\n\\n\\n\\n\\n\\n\\n\\n\\n\\n\\n\\r\\n\\n\\n\\n\\n \\n\\n\\t\\r\\n    \\r\\n    \\r\\n    \\r\\n    \\r\\n\\t\\r\\n  \\t\\t\\r\\n\\t\\r\\n\\n\\n\\n<div class=\"dmc-msrow wn\"  data-config-metrics-group=\"Mosaic Row\"  data-version=\"DM:components/mosaic/rows/mosaic-row-wide-narrow:V1.3.1\">\\n    <div class=\"mscol wide\"  data-config-metrics-title=\"Wide Tile\"  >\\n        \\n\\n\\n\\n\\n\\n\\n\\n\\n\\n\\n\\n\\r\\n\\n\\n\\n\\n\\n\\n\\n\\n\\n\\n\\n<section class=\"dmc-section targetable hidden\" id=\"mosaic-twothird-med-1\" data-config-metrics-group=\"Section\" data-config-metrics-title=\"mosaic-twothird-med-1\" data-version=\"DM:components/section/section-container:V1.1.1\">\\n    \\n    \\n\\n\\n\\n\\n\\n\\n\\n\\n\\n\\n\\n\\r\\n\\n\\n\\n\\n \\n\\t\\t\\t\\t\\n        \\n\\n\\n \\n\\n\\t\\r\\n    \\r\\n    \\r\\n    \\r\\n    \\r\\n\\t\\r\\n  \\t\\t\\r\\n\\t\\r\\n\\n\\n\\n\\n\\n\\n\\n<div class=\"dm0 dmc-mstl wide dm-cmcl nopd-thm compact full focal-C\" data-version=\"DM:components/mosaic/mosaic-tile-wide:V2.1.1\">\\n\\n    \\t<div class=\"lightbox-link\" data-lightbox-id=\"lightbox4\">\\n    \\n     \\t\\t<a class=\"lnk\" href=\"javascript:void(0);\" role=\"button\" data-config-metrics-item=\"Video: A unified experience for hybrid teams \">\\n\\n\\n    <div class=\"msimg\">\\n        \\n        \\t\\n\\n\\n\\n\\n\\n\\n\\n\\n\\t\\n\\t\\n\\t\\t\\n\\t\\t\\t<div class=\"dm-img\" src=\"/c/en/us/index/jcr:content/homepagemaincontentparsys/category_atl/layout-category-atl/blade_1893593999/bladeContents/mosaic_row_wide_narr_165157960/mosaic_col_wide_parsys/section_container/target_content_parsys/mosaic_tile_wide.img.jpg/1635258144231.jpg\" title=\"A unified experience for hybrid teams \" alt=\"A unified experience for hybrid teams \" >\\n\\t\\t\\t\\t<noscript class=\"dmimg-ns\"><img src=\"/c/en/us/index/_jcr_content/homepagemaincontentparsys/category_atl/layout-category-atl/blade_1893593999/bladeContents/mosaic_row_wide_narr_165157960/mosaic_col_wide_parsys/section_container/target_content_parsys/mosaic_tile_wide.img.jpg/1635258144231.jpg\" title=\"A unified experience for hybrid teams \" alt=\"A unified experience for hybrid teams \"></noscript>\\n\\t\\t\\t</div>\\n\\t\\t\\n\\t\\n\\n\\n        \\n    </div>\\n\\n    <div class=\"mscnt\">\\n        \\n        <p class=\"ebrw util\">Video</p>\\n        \\n\\n        <div class=\"inset\">\\n            <h3>A unified experience for hybrid teams </h3>\\n            <div class=\"desc\"><p>T-Mobile upgraded to a collaboration suite for an intuitive experience.</p>\\r\\n</div>\\n        </div>\\n\\n    </div>\\n\\n</a>\\n    \\n</div>\\n\\n    \\n</div>\\n\\n</section>\\n\\n\\n\\n\\n\\n\\n\\n\\n\\r\\n\\r\\n\\r\\n\\n\\n\\n    </div>\\n    <div class=\"mscol narrow\"  data-config-metrics-title=\"Narrow Tile\" >\\n        \\n\\n\\n\\n\\n\\n\\n\\n\\n\\n\\n\\n\\r\\n\\n\\n\\n\\n\\n\\n\\n\\n\\n\\n\\n<section class=\"dmc-section\" id=\"mosaic-onethird-med-1\" data-config-metrics-group=\"Section\" data-config-metrics-title=\"mosaic-onethird-med-1\" data-version=\"DM:components/section/section-container:V1.1.1\">\\n    \\n    \\n\\n\\n\\n\\n\\n\\n\\n\\n\\n\\n\\n\\r\\n\\n\\n\\n\\n \\n\\t\\t\\t\\t\\n        \\n\\n \\n\\n\\t\\r\\n    \\r\\n    \\r\\n    \\r\\n    \\r\\n\\t\\r\\n  \\t\\t\\r\\n\\t\\r\\n\\n\\n\\n\\n\\n\\n<div class=\"dm0 dmc-mstl narrow dm-cmcl nopd-thm compact var-2 focal-C\" data-version=\"DM:components/mosaic/mosaic-narrow-tile:V2.1.1\">\\n\\t\\n\\t\\t<a class=\"lnk\" href=\"https://www.webex.com/hybrid-work-readiness-assessment.html?utm_medium=Website&utm_source=CDC&utm_campaign=2021_wx1&utm_content=CDC_NarrowTile&team=CDC\" data-config-metrics-item=\"Assessment: Hybrid work readiness assessment\">\\n\\t\\n\\t\\t\\t<div class=\"msimg\">\\n                \\n                    \\n\\n\\n\\n\\n\\n\\n\\n\\n\\t\\n\\t\\n\\t\\t\\n\\t\\t\\t<div class=\"dm-img\" src=\"/c/en/us/index/jcr:content/homepagemaincontentparsys/category_atl/layout-category-atl/blade_1893593999/bladeContents/mosaic_row_wide_narr_165157960/mosaic_col_narrow_parsys/section_container/target_content_parsys/mosaic_narrow_tile.img.jpg/1635258357895.jpg\" title=\"Hybrid work readiness assessment\" alt=\"Hybrid work readiness assessment\" >\\n\\t\\t\\t\\t<noscript class=\"dmimg-ns\"><img src=\"/c/en/us/index/_jcr_content/homepagemaincontentparsys/category_atl/layout-category-atl/blade_1893593999/bladeContents/mosaic_row_wide_narr_165157960/mosaic_col_narrow_parsys/section_container/target_content_parsys/mosaic_narrow_tile.img.jpg/1635258357895.jpg\" title=\"Hybrid work readiness assessment\" alt=\"Hybrid work readiness assessment\"></noscript>\\n\\t\\t\\t</div>\\n\\t\\t\\n\\t\\n\\n\\n                \\n            </div>\\n            <span class=\"gradient\"></span>   \\n\\t\\n            <div class=\"mscnt\">\\n\\t\\n\\t\\t\\t\\t<p class=\"ebrw util\">Assessment</p>\\n\\t\\n\\t<div class=\"inset\">\\n\\t\\t<h3>Hybrid work readiness assessment</h3>\\n        <div class=\"desc\"><p>Are you ready for hybrid work? Find out now.</p>\\r\\n</div>\\n    </div>\\n\\t\\t\\t</div>\\n\\t\\n\\t\\t</a>\\n\\t\\t\\n</div>\\n\\n\\n</section>\\n\\n\\n\\n\\n\\n\\n\\n\\n\\r\\n\\r\\n\\r\\n\\n\\n\\n    </div>\\n</div>\\n\\n\\n\\n\\n\\n\\n\\n\\n\\n\\n\\n\\n\\n\\n\\n\\n\\r\\n\\n\\n\\n\\n \\n\\n\\t\\r\\n    \\r\\n    \\r\\n    \\r\\n    \\r\\n\\t\\r\\n  \\t\\t\\r\\n\\t\\r\\n\\n\\n\\n<div class=\"dmc-msrow thirds\"  data-config-metrics-group=\"Mosaic Row\"  data-version=\"DM:components/mosaic/rows/mosaic-row-thirds:V1.3.1\">\\n    <div class=\"mscol third\"  data-config-metrics-title=\"Small Tile 1\"  >\\n        \\n\\n\\n\\n\\n\\n\\n\\n\\n\\n\\n\\n\\r\\n\\n\\n\\n\\n \\n\\t\\t\\t\\t\\n        \\n\\n \\n\\n\\t\\r\\n    \\r\\n    \\r\\n    \\r\\n    \\r\\n\\t\\r\\n  \\t\\t\\r\\n\\t\\r\\n\\n\\n\\n\\n\\n\\n<div class=\"dm0 dmc-mstl narrow dm-cmcl nopd-thm compact var-3 focal-C\" data-version=\"DM:components/mosaic/mosaic-narrow-tile:V2.1.1\">\\n\\t\\n\\t<div class=\"lightbox-link\" data-lightbox-id=\"lightbox5\">\\n\\t\\t\\n\\t\\t<a class=\"lnk\" href=\"javascript:void(0);\" role=\"button\" data-config-metrics-item=\"Video: Webex Suite: Built for hybrid work\">\\n\\t\\n\\t\\t\\t<div class=\"msimg\">\\n                \\n                    \\n\\n\\n\\n\\n\\n\\n\\n\\n\\t\\n\\t\\n\\t\\t\\n\\t\\t\\t<div class=\"dm-img\" src=\"/c/en/us/index/jcr:content/homepagemaincontentparsys/category_atl/layout-category-atl/blade_1893593999/bladeContents/mosaic_row_thirds/mosaic_col_third_1_parsys/mosaic_narrow_tile.img.jpg/1635259393998.jpg\" title=\"Webex Suite: Built for hybrid work\" alt=\"Webex Suite: Built for hybrid work\" >\\n\\t\\t\\t\\t<noscript class=\"dmimg-ns\"><img src=\"/c/en/us/index/_jcr_content/homepagemaincontentparsys/category_atl/layout-category-atl/blade_1893593999/bladeContents/mosaic_row_thirds/mosaic_col_third_1_parsys/mosaic_narrow_tile.img.jpg/1635259393998.jpg\" title=\"Webex Suite: Built for hybrid work\" alt=\"Webex Suite: Built for hybrid work\"></noscript>\\n\\t\\t\\t</div>\\n\\t\\t\\n\\t\\n\\n\\n                \\n            </div>\\n            <span class=\"gradient\"></span>   \\n\\t\\n            <div class=\"mscnt\">\\n\\t\\n\\t\\t\\t\\t<p class=\"ebrw util\">Video</p>\\n\\t\\n\\t<div class=\"inset\">\\n\\t\\t<h3>Webex Suite: Built for hybrid work</h3>\\n        <div class=\"desc\"><p>One suite. For all types of teamwork.</p>\\r\\n</div>\\n    </div>\\n\\t\\t\\t</div>\\n\\t\\n\\t\\t</a>\\n\\t\\t\\n\\t</div>\\n\\t\\t\\n</div>\\n\\n\\n    </div>\\n\\n    <div class=\"mscol third\"  data-config-metrics-title=\"Small Tile 2\"  >\\n        \\n\\n\\n\\n\\n\\n\\n\\n\\n\\n\\n\\n\\r\\n\\n\\n\\n\\n \\n\\t\\t\\t\\t\\n        \\n\\n \\n\\n\\t\\r\\n    \\r\\n    \\r\\n    \\r\\n    \\r\\n\\t\\r\\n  \\t\\t\\r\\n\\t\\r\\n\\n\\n\\n\\n\\n\\n<div class=\"dm0 dmc-mstl narrow dm-cmcl nopd-thm compact var-3 focal-C\" data-version=\"DM:components/mosaic/mosaic-narrow-tile:V2.1.1\">\\n\\t\\n\\t\\t<a class=\"lnk\" href=\"https://blog.webex.com/video-conferencing/whats-new-in-webex-october-2021?utm_medium=Website&utm_source=CDC&utm_campaign=2021_wx1&utm_content=CDC_SmallTile&team=CDC\" data-config-metrics-item=\"Blog: What\\'s new in Webex: October 2021\">\\n\\t\\n\\t\\t\\t<div class=\"msimg\">\\n                \\n                    \\n\\n\\n\\n\\n\\n\\n\\n\\n\\t\\n\\t\\n\\t\\t\\n\\t\\t\\t<div class=\"dm-img\" src=\"/c/en/us/index/jcr:content/homepagemaincontentparsys/category_atl/layout-category-atl/blade_1893593999/bladeContents/mosaic_row_thirds/mosaic_col_third_2_parsys/mosaic_narrow_tile.img.jpg/1635259423387.jpg\" title=\"What\\'s new in Webex: October 2021\" alt=\"What\\'s new in Webex: October 2021\" >\\n\\t\\t\\t\\t<noscript class=\"dmimg-ns\"><img src=\"/c/en/us/index/_jcr_content/homepagemaincontentparsys/category_atl/layout-category-atl/blade_1893593999/bladeContents/mosaic_row_thirds/mosaic_col_third_2_parsys/mosaic_narrow_tile.img.jpg/1635259423387.jpg\" title=\"What\\'s new in Webex: October 2021\" alt=\"What\\'s new in Webex: October 2021\"></noscript>\\n\\t\\t\\t</div>\\n\\t\\t\\n\\t\\n\\n\\n                \\n            </div>\\n            <span class=\"gradient\"></span>   \\n\\t\\n            <div class=\"mscnt\">\\n\\t\\n\\t\\t\\t\\t<p class=\"ebrw util\">Blog</p>\\n\\t\\n\\t<div class=\"inset\">\\n\\t\\t<h3>What\\'s new in Webex: October 2021</h3>\\n        <div class=\"desc\"><p>Explore the latest innovations across Webex.</p>\\r\\n</div>\\n    </div>\\n\\t\\t\\t</div>\\n\\t\\n\\t\\t</a>\\n\\t\\t\\n</div>\\n\\n\\n    </div>\\n\\n    <div class=\"mscol third\"  data-config-metrics-title=\"Small Tile 3\"  >\\n        \\n\\n\\n\\n\\n\\n\\n\\n\\n\\n\\n\\n\\r\\n\\n\\n\\n\\n \\n\\t\\t\\t\\t\\n        \\n\\n \\n\\n\\t\\r\\n    \\r\\n    \\r\\n    \\r\\n    \\r\\n\\t\\r\\n  \\t\\t\\r\\n\\t\\r\\n\\n\\n\\n\\n\\n\\n<div class=\"dm0 dmc-mstl narrow dm-cmcl nopd-thm compact var-3 focal-C\" data-version=\"DM:components/mosaic/mosaic-narrow-tile:V2.1.1\">\\n\\t\\n\\t\\t<a class=\"lnk\" href=\"https://blog.webex.com/collaboration-devices/our-newest-webex-devices-built-to-fit-any-kind-of-workspace?utm_medium=Website&utm_source=CDC&utm_campaign=2021_wx1&utm_content=CDC_SmallTile&team=CDC\" data-config-metrics-item=\"Blog: Our newest Webex devices\">\\n\\t\\n\\t\\t\\t<div class=\"msimg\">\\n                \\n                    \\n\\n\\n\\n\\n\\n\\n\\n\\n\\t\\n\\t\\n\\t\\t\\n\\t\\t\\t<div class=\"dm-img\" src=\"/c/en/us/index/jcr:content/homepagemaincontentparsys/category_atl/layout-category-atl/blade_1893593999/bladeContents/mosaic_row_thirds/mosaic_col_third_3_parsys/mosaic_narrow_tile.img.jpg/1635259454141.jpg\" title=\"Our newest Webex devices\" alt=\"Our newest Webex devices\" >\\n\\t\\t\\t\\t<noscript class=\"dmimg-ns\"><img src=\"/c/en/us/index/_jcr_content/homepagemaincontentparsys/category_atl/layout-category-atl/blade_1893593999/bladeContents/mosaic_row_thirds/mosaic_col_third_3_parsys/mosaic_narrow_tile.img.jpg/1635259454141.jpg\" title=\"Our newest Webex devices\" alt=\"Our newest Webex devices\"></noscript>\\n\\t\\t\\t</div>\\n\\t\\t\\n\\t\\n\\n\\n                \\n            </div>\\n            <span class=\"gradient\"></span>   \\n\\t\\n            <div class=\"mscnt\">\\n\\t\\n\\t\\t\\t\\t<p class=\"ebrw util\">Blog</p>\\n\\t\\n\\t<div class=\"inset\">\\n\\t\\t<h3>Our newest Webex devices</h3>\\n        <div class=\"desc\"><p>Explore our latest additions, built for any workspace.</p>\\r\\n</div>\\n    </div>\\n\\t\\t\\t</div>\\n\\t\\n\\t\\t</a>\\n\\t\\t\\n</div>\\n\\n \\n    </div>\\n</div>\\n\\n\\n\\n\\n\\n\\n\\n\\n\\n\\n\\n\\n\\n\\n\\r\\n\\n\\n\\n\\n \\n\\n\\t\\r\\n    \\r\\n    \\r\\n    \\r\\n    \\r\\n\\t\\r\\n  \\t\\t\\r\\n\\t\\r\\n\\n\\n\\n<div class=\"dmc-msrow thirds\"  data-config-metrics-group=\"Mosaic Row\"  data-version=\"DM:components/mosaic/rows/mosaic-row-thirds:V1.3.1\">\\n    <div class=\"mscol third\"  data-config-metrics-title=\"Small Tile 1\"  >\\n        \\n\\n\\n\\n\\n\\n\\n\\n\\n\\n\\n\\n\\r\\n\\n\\n\\n\\n \\n\\t\\t\\t\\t\\n        \\n\\n \\n\\n\\t\\r\\n    \\r\\n    \\r\\n    \\r\\n    \\r\\n\\t\\r\\n  \\t\\t\\r\\n\\t\\r\\n\\n\\n\\n\\n\\n\\n<div class=\"dm0 dmc-mstl narrow dm-cmcl nopd-thm compact var-3 focal-C\" data-version=\"DM:components/mosaic/mosaic-narrow-tile:V2.1.1\">\\n\\t\\n\\t\\t<a class=\"lnk\" href=\"https://www.webex.com/content/dam/wbx/us/documents/pdf/Webex-Accolades-Book.pdf\" data-config-metrics-item=\"E-book: Webex powers inclusive experiences \">\\n\\t\\n\\t\\t\\t<div class=\"msimg\">\\n                \\n                    \\n\\n\\n\\n\\n\\n\\n\\n\\n\\t\\n\\t\\n\\t\\t\\n\\t\\t\\t<div class=\"dm-img\" src=\"/c/en/us/index/jcr:content/homepagemaincontentparsys/category_atl/layout-category-atl/blade_1893593999/bladeContents/mosaic_row_thirds_co/mosaic_col_third_1_parsys/mosaic_narrow_tile.img.jpg/1635260015458.jpg\" title=\"Webex powers inclusive experiences \" alt=\"Webex powers inclusive experiences \" >\\n\\t\\t\\t\\t<noscript class=\"dmimg-ns\"><img src=\"/c/en/us/index/_jcr_content/homepagemaincontentparsys/category_atl/layout-category-atl/blade_1893593999/bladeContents/mosaic_row_thirds_co/mosaic_col_third_1_parsys/mosaic_narrow_tile.img.jpg/1635260015458.jpg\" title=\"Webex powers inclusive experiences \" alt=\"Webex powers inclusive experiences \"></noscript>\\n\\t\\t\\t</div>\\n\\t\\t\\n\\t\\n\\n\\n                \\n            </div>\\n            <span class=\"gradient\"></span>   \\n\\t\\n            <div class=\"mscnt\">\\n\\t\\n\\t\\t\\t\\t<p class=\"ebrw util\">E-book</p>\\n\\t\\n\\t<div class=\"inset\">\\n\\t\\t<h3>Webex powers inclusive experiences </h3>\\n        <div class=\"desc\"><p>See how Webex is positioned for hybrid work.</p>\\r\\n</div>\\n    </div>\\n\\t\\t\\t</div>\\n\\t\\n\\t\\t</a>\\n\\t\\t\\n</div>\\n\\n\\n    </div>\\n\\n    <div class=\"mscol third\"  data-config-metrics-title=\"Small Tile 2\"  >\\n        \\n\\n\\n\\n\\n\\n\\n\\n\\n\\n\\n\\n\\r\\n\\n\\n\\n\\n \\n\\t\\t\\t\\t\\n        \\n\\n \\n\\n\\t\\r\\n    \\r\\n    \\r\\n    \\r\\n    \\r\\n\\t\\r\\n  \\t\\t\\r\\n\\t\\r\\n\\n\\n\\n\\n\\n\\n<div class=\"dm0 dmc-mstl narrow dm-cmcl nopd-thm compact var-3 focal-C\" data-version=\"DM:components/mosaic/mosaic-narrow-tile:V2.1.1\">\\n\\t\\n\\t\\t<a class=\"lnk\" href=\"https://blog.webex.com/hybrid-work/future-proof-your-marketing-event-strategy?utm_medium=Website&utm_source=CDC&utm_campaign=2021_wx1&utm_content=CDC_SmallTile&team=CDC\" data-config-metrics-item=\"Blog: Enhance your event strategy\">\\n\\t\\n\\t\\t\\t<div class=\"msimg\">\\n                \\n                    \\n\\n\\n\\n\\n\\n\\n\\n\\n\\t\\n\\t\\n\\t\\t\\n\\t\\t\\t<div class=\"dm-img\" src=\"/c/en/us/index/jcr:content/homepagemaincontentparsys/category_atl/layout-category-atl/blade_1893593999/bladeContents/mosaic_row_thirds_co/mosaic_col_third_2_parsys/mosaic_narrow_tile.img.jpg/1635259504399.jpg\" title=\"Enhance your event strategy\" alt=\"Enhance your event strategy\" >\\n\\t\\t\\t\\t<noscript class=\"dmimg-ns\"><img src=\"/c/en/us/index/_jcr_content/homepagemaincontentparsys/category_atl/layout-category-atl/blade_1893593999/bladeContents/mosaic_row_thirds_co/mosaic_col_third_2_parsys/mosaic_narrow_tile.img.jpg/1635259504399.jpg\" title=\"Enhance your event strategy\" alt=\"Enhance your event strategy\"></noscript>\\n\\t\\t\\t</div>\\n\\t\\t\\n\\t\\n\\n\\n                \\n            </div>\\n            <span class=\"gradient\"></span>   \\n\\t\\n            <div class=\"mscnt\">\\n\\t\\n\\t\\t\\t\\t<p class=\"ebrw util\">Blog</p>\\n\\t\\n\\t<div class=\"inset\">\\n\\t\\t<h3>Enhance your event strategy</h3>\\n        <div class=\"desc\"><p>Whether virtual, in-person, or hybrid, Webex delivers.</p>\\r\\n</div>\\n    </div>\\n\\t\\t\\t</div>\\n\\t\\n\\t\\t</a>\\n\\t\\t\\n</div>\\n\\n\\n    </div>\\n\\n    <div class=\"mscol third\"  data-config-metrics-title=\"Small Tile 3\"  >\\n        \\n\\n\\n\\n\\n\\n\\n\\n\\n\\n\\n\\n\\r\\n\\n\\n\\n\\n \\n\\t\\t\\t\\t\\n        \\n\\n \\n\\n\\t\\r\\n    \\r\\n    \\r\\n    \\r\\n    \\r\\n\\t\\r\\n  \\t\\t\\r\\n\\t\\r\\n\\n\\n\\n\\n\\n\\n<div class=\"dm0 dmc-mstl narrow dm-cmcl nopd-thm compact var-3 focal-C\" data-version=\"DM:components/mosaic/mosaic-narrow-tile:V2.1.1\">\\n\\t\\n\\t\\t<a class=\"lnk\" href=\"https://www.webex.com/content/dam/wbx/us/ebook/6-strategies-for-hybrid-work-success-cm-2845.pdf\" data-config-metrics-item=\"E-book: 6 strategies for hybrid work success  \">\\n\\t\\n\\t\\t\\t<div class=\"msimg\">\\n                \\n                    \\n\\n\\n\\n\\n\\n\\n\\n\\n\\t\\n\\t\\n\\t\\t\\n\\t\\t\\t<div class=\"dm-img\" src=\"/c/en/us/index/jcr:content/homepagemaincontentparsys/category_atl/layout-category-atl/blade_1893593999/bladeContents/mosaic_row_thirds_co/mosaic_col_third_3_parsys/mosaic_narrow_tile_8.img.jpg/1635259564197.jpg\" title=\"6 strategies for hybrid work success  \" alt=\"6 strategies for hybrid work success  \" >\\n\\t\\t\\t\\t<noscript class=\"dmimg-ns\"><img src=\"/c/en/us/index/_jcr_content/homepagemaincontentparsys/category_atl/layout-category-atl/blade_1893593999/bladeContents/mosaic_row_thirds_co/mosaic_col_third_3_parsys/mosaic_narrow_tile_8.img.jpg/1635259564197.jpg\" title=\"6 strategies for hybrid work success  \" alt=\"6 strategies for hybrid work success  \"></noscript>\\n\\t\\t\\t</div>\\n\\t\\t\\n\\t\\n\\n\\n                \\n            </div>\\n            <span class=\"gradient\"></span>   \\n\\t\\n            <div class=\"mscnt\">\\n\\t\\n\\t\\t\\t\\t<p class=\"ebrw util\">E-book</p>\\n\\t\\n\\t<div class=\"inset\">\\n\\t\\t<h3>6 strategies for hybrid work success  </h3>\\n        <div class=\"desc\"><p>This report is based on data from three global surveys.</p>\\r\\n</div>\\n    </div>\\n\\t\\t\\t</div>\\n\\t\\n\\t\\t</a>\\n\\t\\t\\n</div>\\n\\n \\n    </div>\\n</div>\\n\\n\\n            </div>\\n            \\n        </div>\\n        <div class=\"row full\">\\n            <div class=\"col full\">\\n\\t\\t\\t\\t\\n            </div>\\n        </div>\\n    </div>\\n</div>\\n\\n\\n\\n\\n\\n\\n\\n\\n\\r\\n\\r\\n\\r\\n\\n\\n\\n\\n\\n\\n\\n\\n\\n\\n\\n\\n\\n\\n\\n\\n\\n\\n\\n\\n\\n\\n\\n\\n\\n\\n\\n\\n\\n\\n\\n<div class=\"row full blowout pri-marquee no-padding blade-marq3\" data-owner=\"ID\">\\n    <div class=\"col full\">\\n        \\n        \\n\\n    </div>\\n</div>\\n\\n\\n\\n\\n\\n\\n\\n\\n\\n\\n\\n\\n\\n\\n\\n\\n\\n\\n\\n\\n\\n\\n\\n\\n\\n\\n\\n\\n\\n<div class=\"row full blowout no-padding\" data-owner=\"ID\">\\n    <div class=\"col full\">\\n        \\n        \\n\\n\\n\\n\\n\\n\\n\\n\\n\\n\\n\\n\\n\\n<div class=\"fwt-fatfooter media\">\\n    <div id=\"social-and-news\">\\n\\n        <section id=\"social\">\\n            <span id=\"ff-followus\">Follow Us</span>\\n\\n            <a id=\"ff-twitter\" href=\"//twitter.com/Cisco/\" role=\"twitter_url\" title=\"twitter\" target=\"_self\">\\n                <svg width=\"32\" height=\"32\" viewBox=\"0 0 32 32\" role=\"img\" xmlns=\"http://www.w3.org/2000/svg\" xmlns:xlink=\"http://www.w3.org/1999/xlink\"><path d=\"m31.38462,7.26845c-1.15385,0.48174 -2.30769,0.84304 -3.58974,0.96348c1.28205,-0.72261 2.30769,-3.54002 2.82051,-4.21523c-1.28205,1.27739 -2.5641,0.79565 -3.97436,0.55478c-1.28205,-0.79565 -2.94872,-0.07304 -4.74359,-0.07304c-3.46154,0 -6.28205,2.64957 -6.28205,5.90132c0,0.48174 0,0.96348 0.12821,1.32479c-5.25642,-0.24087 -9.8718,-2.52914 -12.94872,-6.31003c-0.64103,-0.84304 -0.89744,2.0948 -0.89744,3.17871c0,2.0474 1.15385,3.85393 2.82051,4.93784c-1.02564,-0.12043 -2.05128,-0.3613 -2.82051,-0.72261c0,0 0,0 0,0.12044c0,2.89044 2.17949,5.29914 5,5.78088c-0.51282,0.12044 -1.02564,0.24087 -1.66667,0.24087c-0.38461,0 -0.76923,0 -1.15384,-0.12043c0.76923,2.4087 3.07692,4.09479 5.89743,4.09479c-2.17948,1.56566 -4.87179,2.52914 -7.82051,2.52914c-0.51282,0 -1.02564,0 -1.53846,-0.12043c2.82051,1.50152 6.15385,2.64957 9.61538,2.64957c11.66667,0 17.94872,-9.03264 17.94872,-16.86092l0,-0.72261c1.28205,-0.84304 2.30769,-1.92696 3.20513,-3.13131\" fill=\"#fff\"/></svg>\\n            </a>\\n\\n            <a id=\"ff-facebook\" href=\"//www.facebook.com/Cisco/\" role=\"facebook_url\" title=\"facebook\" target=\"_self\">\\n                <svg width=\"32\" height=\"32\" viewBox=\"0 0 32 32\" role=\"img\" xmlns=\"http://www.w3.org/2000/svg\" xmlns:xlink=\"http://www.w3.org/1999/xlink\"><path d=\"m26.62006,4l-22.2403,0c-0.7622,0 -1.37976,0.59894 -1.37976,1.33804l0,21.56635c0,0.73891 0.61756,1.33803 1.37976,1.33803l11.97343,0l0,-9.38796l-3.25793,0l0,-3.65868l3.25793,0l0,-2.69815c0,-3.13113 1.97213,-4.83613 4.85266,-4.83613c1.37975,0 2.56571,0.09955 2.91135,0.14415l0,3.2722l-1.99788,0.00091c-1.56654,0 -1.86993,0.72183 -1.86993,1.7812l0,2.33582l3.7362,0l-0.48652,3.65868l-3.24968,0l0,9.38796l6.37067,0c0.76191,0 1.37975,-0.59912 1.37975,-1.33803l0,-21.56635c0,-0.7391 -0.61784,-1.33804 -1.37975,-1.33804\" fill=\"#fff\"/></svg>\\n            </a>\\n\\n            <a id=\"ff-instagram\" href=\"//www.instagram.com/cisco/\" role=\"instagram_url\" title=\"instagram\" target=\"_self\">\\n                <svg width=\"32\" height=\"32\" viewBox=\"0 0 32 32\" role=\"img\" xmlns=\"http://www.w3.org/2000/svg\" xmlns:xlink=\"http://www.w3.org/1999/xlink\"><g fill=\"#fff\"><path d=\"m22.23823,2.07724l-12.4768,0c-4.23706,0 -7.68419,3.44729 -7.68419,7.68435l0,12.4768c0,4.23723 3.44713,7.68436 7.68419,7.68436l12.4768,0c4.23739,0 7.68452,-3.4473 7.68452,-7.68436l0,-12.4768c0.00016,-4.23706 -3.44713,-7.68435 -7.68452,-7.68435zm5.21409,20.16115c0,2.87494 -2.33899,5.21377 -5.21393,5.21377l-12.47696,0c-2.87478,0.00016 -5.2136,-2.33883 -5.2136,-5.21377l0,-12.4768c0,-2.87477 2.33882,-5.21376 5.2136,-5.21376l12.4768,0c2.87494,0 5.21393,2.33899 5.21393,5.21376l0,12.4768l0.00016,0z\"/><path d=\"m15.99999,8.82524c-3.9564,0 -7.17508,3.21868 -7.17508,7.17508c0,3.95624 3.21868,7.17476 7.17508,7.17476c3.9564,0 7.17509,-3.21852 7.17509,-7.17476c0,-3.9564 -3.21869,-7.17508 -7.17509,-7.17508zm0,11.87908c-2.59395,0 -4.70449,-2.11021 -4.70449,-4.70416c0,-2.59412 2.11038,-4.7045 4.70449,-4.7045c2.59412,0 4.7045,2.11038 4.7045,4.7045c0,2.59395 -2.11054,4.70416 -4.7045,4.70416z\"/><path d=\"m23.47599,6.73035c-0.476,0 -0.9436,0.1927 -1.27976,0.53035c-0.33781,0.336 -0.532,0.80376 -0.532,1.28141c0,0.47617 0.19435,0.94377 0.532,1.28141c0.336,0.336 0.80376,0.53036 1.27976,0.53036c0.47765,0 0.94377,-0.19436 1.28141,-0.53036c0.33765,-0.33764 0.53036,-0.80541 0.53036,-1.28141c0,-0.47765 -0.19271,-0.94541 -0.53036,-1.28141c-0.336,-0.33765 -0.80376,-0.53035 -1.28141,-0.53035z\"/></g></svg>\\n            </a>\\n\\n            <a id=\"ff-linkedin\" href=\"//www.linkedin.com/company/cisco\" role=\"linkedin_url\" title=\"linkedin\" target=\"_self\">\\n                <svg width=\"32\" height=\"32\" viewBox=\"0 0 32 32\" role=\"img\" xmlns=\"http://www.w3.org/2000/svg\" xmlns:xlink=\"http://www.w3.org/1999/xlink\"><path d=\"m24.80382,24.53603l-3.70694,0l0,-5.62559c0,-1.34209 -0.02431,-3.06801 -1.92709,-3.06801c-1.92986,0 -2.22361,1.46262 -2.22361,2.97171l0,5.72189l-3.70347,0l0,-11.56902l3.55417,0l0,1.58181l0.05069,0c0.49445,-0.90976 1.70486,-1.86868 3.50903,-1.86868c3.75347,0 4.44722,2.39528 4.44722,5.51111l0,6.34478zm-15.74236,-13.1495c-1.19097,0 -2.15139,-0.934 -2.15139,-2.08552c0,-1.15084 0.96042,-2.08485 2.15139,-2.08485c1.18611,0 2.14931,0.93401 2.14931,2.08485c0,1.15152 -0.9632,2.08552 -2.14931,2.08552l0,0zm1.85486,13.1495l0,-11.56902l-3.71111,0l0,11.56902l3.71111,0zm15.73403,-20.65724l-21.30556,0c-1.01736,0 -1.84444,0.78249 -1.84444,1.74815l0,20.74545c0,0.96499 0.82708,1.74882 1.84444,1.74882l21.30556,0c1.02014,0 1.84931,-0.78383 1.84931,-1.74882l0,-20.74545c0,-0.96566 -0.82917,-1.74815 -1.84931,-1.74815l0,0z\" fill=\"#fff\" fill-rule=\"evenodd\"/></svg>\\n            </a>\\n\\n            <a id=\"ff-youtube\" href=\"//www.youtube.com/user/cisco\" role=\"youtube_url\" title=\"youtube\" target=\"_self\">\\n                <svg width=\"32\" height=\"32\" viewBox=\"0 0 32 32\" role=\"img\" xmlns=\"http://www.w3.org/2000/svg\" xmlns:xlink=\"http://www.w3.org/1999/xlink\"><path d=\"m12.73901,19.93335l-0.00144,-8.54172l8.47104,4.28574l-8.4696,4.25598zm18.59878,-10.02146c0,0 -0.30631,-2.09493 -1.24635,-3.01746c-1.19214,-1.21081 -2.52842,-1.21682 -3.14122,-1.28769c-4.38704,-0.30753 -10.96784,-0.30753 -10.96784,-0.30753l-0.01363,0c0,0 -6.58064,0 -10.96784,0.30753c-0.61283,0.07087 -1.94862,0.07688 -3.14119,1.28769c-0.93998,0.92253 -1.24586,3.01746 -1.24586,3.01746c0,0 -0.31352,2.46013 -0.31352,4.92024l0,2.30635c0,2.46008 0.31352,4.92018 0.31352,4.92018c0,0 0.30588,2.09496 1.24586,3.01749c1.19257,1.21085 2.7591,1.17254 3.45682,1.29945c2.50808,0.23321 10.65906,0.30539 10.65906,0.30539c0,0 6.58758,-0.00962 10.97462,-0.31712c0.6128,-0.07089 1.94908,-0.07687 3.14122,-1.28772c0.94004,-0.92253 1.24635,-3.01749 1.24635,-3.01749c0,0 0.31306,-2.4601 0.31306,-4.92018l0,-2.30635c0,-2.46011 -0.31306,-4.92024 -0.31306,-4.92024l0,0z\" fill=\"#fff\"/></svg>\\n            </a>\\n\\n        </section>\\n\\n        <section id=\"news\">\\n            <button id=\"ff-news-button\">News & Events<span class=\"caret\"></span></button><a id=\"ff-news\" href=\"//newsroom.cisco.com\" role=\"Newsroom_url\" title=\"Newsroom\"><svg width=\"32\" height=\"32\" viewBox=\"0 0 32 32\" role=\"img\" xmlns=\"http://www.w3.org/2000/svg\" xmlns:xlink=\"http://www.w3.org/1999/xlink\"><path d=\"m25.5,4.5l0,23l-19,0c-1.133,0 -2,-0.886 -2,-2.045l0,-20.955l19,0l0,20.955c0,1.159 0.867,2.045 2,2.045c1.133,0 2,-0.886 2,-2.045l0,-19.955c0,0.128 -2,-1 -2,-1zm-18,3.99l0,4.02c0,0.539 0.444,0.99 0.993,0.99l10.94,0c0.54748,0.00055 0.9919,-0.44252 0.993,-0.99l0,-4.02c0,-0.539 -0.445,-0.99 -0.993,-0.99l-10.94,0c-0.54748,-0.00055 -0.9919,0.44252 -0.993,0.99zm0,15.01c0,0.556 0.444,1 0.993,1l10.94,0c0.55024,-0.00221 0.99466,-0.44976 0.993,-1c0,-0.556 -0.445,-1 -0.993,-1l-10.94,0c-0.55024,0.00221 -0.99466,0.44976 -0.993,1zm0,-3c0,0.556 0.444,1 0.993,1l10.94,0c0.55024,-0.00221 0.99466,-0.44976 0.993,-1c0,-0.556 -0.445,-1 -0.993,-1l-10.94,0c-0.55024,0.00221 -0.99466,0.44976 -0.993,1zm0,-3c0,0.556 0.444,1 0.993,1l10.94,0c0.55024,-0.00221 0.99466,-0.44976 0.993,-1c0,-0.556 -0.445,-1 -0.993,-1l-10.94,0c-0.55024,0.00221 -0.99466,0.44976 -0.993,1z\" fill=\"#fff\"/></svg><span>Newsroom</span></a><a id=\"ff-events\" href=\"//www.cisco.com/c/en/us/training-events.html\" role=\"Events_url\" title=\"Events\"><svg width=\"32\" height=\"32\" viewBox=\"0 0 32 32\" role=\"img\" xmlns=\"http://www.w3.org/2000/svg\" xmlns:xlink=\"http://www.w3.org/1999/xlink\"><path d=\"m25.5,8.32l-16.01,0c-0.64,0 -1.17,0.53 -1.17,1.18c0,0.657 0.522,1.18 1.17,1.18l16.01,0c0.45287,0 0.82,0.36713 0.82,0.82l0,15c0,0.45287 -0.36713,0.82 -0.82,0.82l-19,0c-0.45287,0 -0.82,-0.36713 -0.82,-0.82l0,-21c0,-0.45287 0.36713,-0.82 0.82,-0.82l19,0c0.45287,0 0.82,0.36713 0.82,0.82l0,2c0,0.45287 -0.36713,0.82 -0.82,0.82l0,0zm-16.18,14.36l5.36,0l0,-3.36l-5.36,0l0,3.36zm7.5,0l5.36,0l0,-3.36l-5.36,0l0,3.36zm-7.5,-9.36l0,3.36l5.36,0l0,-3.36l-5.36,0zm7.5,3.36l5.36,0l0,-3.36l-5.36,0l0,3.36z\" fill=\"#fff\"/></svg><span>Events</span></a><a id=\"ff-blogs\" href=\"//blogs.cisco.com\" role=\"Blogs_url\" title=\"Blogs\"><svg width=\"32\" height=\"32\" viewBox=\"0 0 32 32\" role=\"img\" xmlns=\"http://www.w3.org/2000/svg\" xmlns:xlink=\"http://www.w3.org/1999/xlink\"><g fill=\"#fff\"><path d=\"m8.9216,24.18273l-3.5616,0c-0.50722,0 -0.9184,-0.41118 -0.9184,-0.9184l0,-14.56c0,-0.50722 0.41118,-0.9184 0.9184,-0.9184l7.84,0c0.37158,-0.00016 0.70664,0.22361 0.84886,0.56689c0.14221,0.34329 0.06356,0.73844 -0.19926,1.00111l-1.44368,1.4448c-0.308,0.308 -0.65296,0.97888 -0.72464,1.40672l-0.7504,4.50016c-0.04144,0.25088 0.14224,0.67536 0.35504,0.8176l1.48848,0.99232c0.2688,0.1792 0.8288,0.23744 1.12448,0.11984l3.51904,-1.40784c0.4424,-0.17696 1.10656,-0.65408 1.41568,-1.01584l5.98864,-6.98544c0.17445,-0.20395 0.42938,-0.32139 0.69776,-0.32144l1.12,0c0.24377,0 0.47754,0.09691 0.6498,0.26939c0.17227,0.17247 0.2689,0.40636 0.2686,0.65013l0,13.44c0,0.50722 -0.41118,0.9184 -0.9184,0.9184l-10.8192,0l-5.3312,5.3312c-0.26267,0.26282 -0.65782,0.34147 -1.00111,0.19926c-0.34328,-0.14222 -0.56705,-0.47728 -0.56689,-0.84886l0,-4.6816l0,0z\"></path><path d=\"m23.5992,2.38081c0.21868,-0.21861 0.57316,-0.21861 0.79184,0l2.37664,2.3744c0.10533,0.10506 0.16452,0.24771 0.16452,0.39648c0,0.14877 -0.05919,0.29142 -0.16452,0.39648l-8.7472,8.7472c-0.06163,0.06164 -0.1368,0.10805 -0.21952,0.13552l-3.56384,1.1872c-0.20119,0.06727 -0.42312,0.01508 -0.57325,-0.1348c-0.15012,-0.14989 -0.20266,-0.37174 -0.13571,-0.57304l1.18832,-3.56384c0.0273,-0.08222 0.07331,-0.15698 0.1344,-0.2184l8.74832,-8.7472l0,0z\"></path></g></svg><span>Blogs</span></a><a id=\"ff-communities\" href=\"https://community.cisco.com\" role=\"Community_url\" title=\"Community\"><svg width=\"32\" height=\"32\" viewBox=\"0 0 32 32\" role=\"img\" xmlns=\"http://www.w3.org/2000/svg\" xmlns:xlink=\"http://www.w3.org/1999/xlink\"><path d=\"m6.37818,10.25091c0,-2.4401 1.97809,-4.41819 4.41818,-4.41819c2.4401,0 4.41819,1.97809 4.41819,4.41819c0,2.44009 -1.97809,4.41818 -4.41819,4.41818c-2.44009,0 -4.41818,-1.97809 -4.41818,-4.41818l0,0zm14.18182,-0.25091c0,-1.09908 0.58635,-2.11467 1.53818,-2.66421c0.95183,-0.54954 2.12454,-0.54954 3.07637,0c0.95183,0.54954 1.53818,1.56513 1.53818,2.66421c0,1.69903 -1.37734,3.07636 -3.07637,3.07636c-1.69902,0 -3.07636,-1.37733 -3.07636,-3.07636l0,0zm-16.36364,10.90909c0,-1.39645 0.55548,-2.73555 1.54394,-3.72196c0.98847,-0.98642 2.32871,-1.53912 3.72515,-1.53622l2.16,0c2.90837,0 5.2691,2.35636 5.2691,5.25818l0,4.36363c0,0.23725 -0.09425,0.46478 -0.26201,0.63254c-0.16776,0.16776 -0.39529,0.26201 -0.63254,0.26201l-10.90909,0c-0.49404,0 -0.89455,-0.4005 -0.89455,-0.89455l0,-4.36363l0,0zm15.27273,-2.18509c0.05182,-2.26438 1.90231,-4.07301 4.16727,-4.07301c2.26497,0 4.11546,1.80863 4.16728,4.07301l0,6.54872c0,0.49405 -0.40051,0.89455 -0.89455,0.89455l-6.54545,0c-0.49405,0 -0.89455,-0.4005 -0.89455,-0.89455l0,-6.54872l0,0z\" fill=\"#fff\"/></svg><span>Community</span></a>\\n        </section>\\n\\n    </div>\\n</div>\\n\\n\\n\\n\\n\\n\\n\\n\\n\\n\\n\\n\\n\\n\\r\\n\\n\\n\\n\\n\\n\\n\\n\\n\\n\\n\\n\\n\\n\\n\\n<!-- DM:components/html/htmlblob:V1.2.6 -->\\n\\n\\n\\t\\n\\n  \\n\\n\\n\\t<div class=\"fwt-fatfooter new-fatfooter\">\\r\\n  <div class=\"row quarters\">\\r\\n    <div class=\"col quarter\"><a href=\"javascript: void(0);\">About Us<span class=\"caret\"></span></a> <!-- Mobile Header --> \\r\\n      <ul>\\r\\n        <li class=\"desktop-item\"><a href=\"/c/en/us/about.html\">About Us</a></li>                           <!-- desktop link --> \\r\\n        <li class=\"mobile-item\"><a href=\"/c/en/us/about.html\">About Cisco</a></li>                         <!-- mobile link --> \\r\\n\\r\\n<li><a href=\"/c/en/us/about/case-studies-customer-success-stories.html\">Customer stories</a></li>\\r\\n\\r\\n\\r\\n        <li><a href=\"https://investor.cisco.com/investor-relations/overview/default.aspx\">Investor relations</a></li>\\r\\n        <li><a href=\"/c/en/us/about/csr.html\">Social responsibility</a></li>\\r\\n        <li><a href=\"/c/en/us/about/csr/impact/environmental-sustainability.html\">Environmental sustainability</a></li>\\r\\n<li><a href=\"/c/dam/en_us/about/supply-chain/cisco-modern-slavery-statement.pdf\">Supply chain transparency</a>\\r\\n        <li><a href=\"/c/en/us/about/trust-center.html\">The Trust Center</a></li>\\r\\n      </ul>\\r\\n    </div>\\r\\n    <div class=\"col quarter\"><a href=\"javascript: void(0);\">Contact Us<span class=\"caret\"></span></a>   <!-- Mobile Header --> \\r\\n      <ul>\\r\\n        <li class=\"desktop-item\"><a href=\"/c/en/us/about/contact-cisco.html\">Contact Us</a></li>     <!--  desktop link -->\\r\\n       <li class=\"mobile-item\"><a href=\"/c/en/us/about/contact-cisco.html\">Contact Cisco</a></li>    <!-- mobile link --> \\r\\n        <li><a href=\"/c/en/us/partners/meet-our-partners.html\">Meet our partners</a></li>\\r\\n        <li><a href=\"https://locatr.cloudapps.cisco.com/WWChannels/LOCATR/openBasicSearch.do\">Find a reseller</a></li>\\r\\n      </ul>\\r\\n    </div>\\r\\n    <div class=\"col quarter\"><a href=\"javascript: void(0);\">Work with Us<span class=\"caret\"></span></a>    <!-- Mobile Header --> \\r\\n      <ul>\\r\\n        <li><a href=\"/c/en/us/about/careers.html\">Careers</a></li>                                         \\r\\n        <li><a href=\"/c/en/us/about/careers/we-are-cisco.html\">We Are Cisco</a></li>\\r\\n        <li><a href=\"/c/en/us/partners/partner-with-cisco.html\">Partner with Cisco</a></li>\\r\\n      </ul>\\r\\n    </div>\\r\\n    <div class=\"col quarter\" id=\"cisco-sites\"> <a href=\"javascript: void(0);\">Cisco Sites<span class=\"caret\"></span></a>   <!-- Mobile Header --> \\r\\n      <ul>\\r\\n        <li><a href=\"https://meraki.cisco.com/\">Meraki</a> </li>\\r\\n        <li><a href=\"/c/en/us/solutions/collaboration/webex-call-message-meet.html\">All new Webex</a> </li>\\r\\n<li><a href=\"https://umbrella.cisco.com/?utm_medium=web-referral&utm_source=cisco\">Cisco Umbrella</a></li>\\r\\n      </ul>\\r\\n    </div>\\r\\n  </div>\\r\\n</div>\\r\\n\\n\\n\\n\\n\\n    </div>\\n</div>\\n \\n</div>\\n    \\n\\n\\n\\n\\n\\n\\n\\n\\n\\n\\n\\n\\n\\n\\n\\n\\n\\n\\n\\n<footer id=\"fw-footer\" class=\"container \" tabindex=\"-1\" data-owner=\"ID\">\\n    <ul>\\n        <li><a href=\"//www.cisco.com/c/en/us/about/contact-cisco.html\">Contacts</a></li>\\n        <li><a href=\"https://ciscocx.qualtrics.com/jfe/form/SV_0Tcp9VU8pUm4lBY?Ref=/c/en/us/index.html\" id=\"cdc-ftr-feedback\">Feedback</a></li>\\n        <li><a href=\"//www.cisco.com/c/en/us/about/help.html\">Help</a></li>\\n        <li><a href=\"//www.cisco.com/c/en/us/about/sitemap.html\">Site Map</a></li>\\n        <li><a href=\"//www.cisco.com/c/en/us/about/legal/terms-conditions.html\">Terms &amp; Conditions</a></li>\\n\\n\\n        <li>\\n            <a href=\"//www.cisco.com/c/en/us/about/legal/privacy-full.html\">\\n                <span>Privacy</span>\\n                <span>Privacy Statement</span>\\n            </a>\\n        </li>\\n        <li>\\n            <a href=\"//www.cisco.com/c/en/us/about/legal/privacy-full.html#cookies\">\\n                <span>Cookies</span>\\n                <span>Cookies</span>\\n            </a>\\n        </li>\\n        <li><a href=\"//www.cisco.com/c/en/us/about/legal/trademarks.html\">Trademarks</a></li>\\n    </ul>\\n</footer>\\n   \\n    \\n    \\n\\n\\n\\n\\n\\n\\n\\n\\n\\n<div id=\"fw-overlay\"></div>\\n\\n    \\n\\n\\n\\n\\n\\n\\n\\n\\n\\n<script type=\"text/javascript\" src=\"/etc/designs/cdc/clientlibs/responsive/js/homepage.min.js\"></script>\\n\\n\\n\\n\\n\\n\\n\\n\\n\\n\\n\\n\\n\\n\\n\\n  \\n\\n                                \\n    \\n    \\n\\n    <!-- SiteCatalyst code version: H.24.4. -->\\n    <noscript><img src=\"//cisco.112.2o7.net/b/ss/cisco-mobile/5/12345\" width=\"2\" height=\"2\" border=\"0\" alt=\"\"/></noscript>\\n\\n</body>\\n</html>\\n'"
      ]
     },
     "execution_count": 109,
     "metadata": {},
     "output_type": "execute_result"
    }
   ],
   "source": [
    "r.content"
   ]
  },
  {
   "cell_type": "code",
   "execution_count": 112,
   "metadata": {},
   "outputs": [
    {
     "data": {
      "text/plain": [
       "200"
      ]
     },
     "execution_count": 112,
     "metadata": {},
     "output_type": "execute_result"
    }
   ],
   "source": [
    "r.status_code"
   ]
  },
  {
   "cell_type": "code",
   "execution_count": 118,
   "metadata": {},
   "outputs": [],
   "source": [
    "import requests\n",
    "\n",
    "class RequestProxy:\n",
    "    def __init__(self):\n",
    "        self.cache = {} \n",
    "        \n",
    "    def get(self, url):\n",
    "        if not url in self.cache:                # If we haven't seen this URL before? \n",
    "            self.cache[url] = requests.get(url)  # Grab its response and cache it\n",
    "            \n",
    "        return self.cache[url]    # By this point, we know that cache[url] has the response\n",
    "    \n",
    "rp = RequestProxy()\n"
   ]
  },
  {
   "cell_type": "code",
   "execution_count": 119,
   "metadata": {},
   "outputs": [
    {
     "data": {
      "text/plain": [
       "0.8828480243682861"
      ]
     },
     "execution_count": 119,
     "metadata": {},
     "output_type": "execute_result"
    }
   ],
   "source": [
    "start_time = time.time()\n",
    "rp.get('https://cisco.com')\n",
    "end_time = time.time()\n",
    "\n",
    "end_time - start_time\n"
   ]
  },
  {
   "cell_type": "code",
   "execution_count": 120,
   "metadata": {},
   "outputs": [
    {
     "data": {
      "text/plain": [
       "4.7206878662109375e-05"
      ]
     },
     "execution_count": 120,
     "metadata": {},
     "output_type": "execute_result"
    }
   ],
   "source": [
    "start_time = time.time()\n",
    "rp.get('https://cisco.com')\n",
    "end_time = time.time()\n",
    "\n",
    "end_time - start_time\n"
   ]
  },
  {
   "cell_type": "code",
   "execution_count": null,
   "metadata": {},
   "outputs": [],
   "source": []
  }
 ],
 "metadata": {
  "kernelspec": {
   "display_name": "Python 3 (ipykernel)",
   "language": "python",
   "name": "python3"
  },
  "language_info": {
   "codemirror_mode": {
    "name": "ipython",
    "version": 3
   },
   "file_extension": ".py",
   "mimetype": "text/x-python",
   "name": "python",
   "nbconvert_exporter": "python",
   "pygments_lexer": "ipython3",
   "version": "3.10.0"
  }
 },
 "nbformat": 4,
 "nbformat_minor": 4
}
